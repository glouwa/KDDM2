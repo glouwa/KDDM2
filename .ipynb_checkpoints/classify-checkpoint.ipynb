{
 "cells": [
  {
   "cell_type": "markdown",
   "metadata": {},
   "source": [
    "# Single Class Classification\n",
    "TODO: write.<br> \n",
    "\\begin{equation}\n",
    "  Y_{cfg}^{sample \\times class}=\\left\\{\n",
    "  \\begin{array}{@{}ll@{}}\n",
    "    1, & \\text{if}\\ tag \\in Sample \\\\\n",
    "    0, & \\text{otherwise}\n",
    "  \\end{array}\\right.\n",
    "\\end{equation} "
   ]
  },
  {
   "cell_type": "markdown",
   "metadata": {},
   "source": [
    "## Feature selection\n",
    "TODO: write.<br> \n",
    "featuresel 500 chi2, mi for each tag"
   ]
  },
  {
   "cell_type": "code",
   "execution_count": 1,
   "metadata": {
    "collapsed": true
   },
   "outputs": [
    {
     "data": {
      "text/html": [
       "<div>\n",
       "<table border=\"1\" class=\"dataframe\">\n",
       "  <thead>\n",
       "    <tr style=\"text-align: right;\">\n",
       "      <th></th>\n",
       "      <th></th>\n",
       "      <th></th>\n",
       "      <th></th>\n",
       "      <th></th>\n",
       "      <th></th>\n",
       "      <th></th>\n",
       "      <th></th>\n",
       "      <th>Indices</th>\n",
       "      <th>Mask</th>\n",
       "      <th>Pvalue</th>\n",
       "      <th>Scores</th>\n",
       "      <th>X</th>\n",
       "      <th>assertF</th>\n",
       "      <th>assertY</th>\n",
       "    </tr>\n",
       "    <tr>\n",
       "      <th>source</th>\n",
       "      <th>wordtype</th>\n",
       "      <th>vecimpl</th>\n",
       "      <th>htmlfeature</th>\n",
       "      <th>tf-idf</th>\n",
       "      <th>transformation</th>\n",
       "      <th>scorefunc</th>\n",
       "      <th>class</th>\n",
       "      <th></th>\n",
       "      <th></th>\n",
       "      <th></th>\n",
       "      <th></th>\n",
       "      <th></th>\n",
       "      <th></th>\n",
       "      <th></th>\n",
       "    </tr>\n",
       "  </thead>\n",
       "  <tbody>\n",
       "    <tr>\n",
       "      <th rowspan=\"61\" valign=\"top\">stackoverflow</th>\n",
       "      <th rowspan=\"61\" valign=\"top\">lemma</th>\n",
       "      <th rowspan=\"61\" valign=\"top\">nltk</th>\n",
       "      <th rowspan=\"30\" valign=\"top\">T</th>\n",
       "      <th rowspan=\"22\" valign=\"top\">00</th>\n",
       "      <th rowspan=\"22\" valign=\"top\">featureselect</th>\n",
       "      <th rowspan=\"11\" valign=\"top\">chi2</th>\n",
       "      <th>android</th>\n",
       "      <td>-</td>\n",
       "      <td>-</td>\n",
       "      <td>-</td>\n",
       "      <td>-</td>\n",
       "      <td>-</td>\n",
       "      <td>-</td>\n",
       "      <td>-</td>\n",
       "    </tr>\n",
       "    <tr>\n",
       "      <th>git</th>\n",
       "      <td>-</td>\n",
       "      <td>-</td>\n",
       "      <td>-</td>\n",
       "      <td>-</td>\n",
       "      <td>-</td>\n",
       "      <td>-</td>\n",
       "      <td>-</td>\n",
       "    </tr>\n",
       "    <tr>\n",
       "      <th>html</th>\n",
       "      <td>-</td>\n",
       "      <td>-</td>\n",
       "      <td>-</td>\n",
       "      <td>-</td>\n",
       "      <td>-</td>\n",
       "      <td>-</td>\n",
       "      <td>-</td>\n",
       "    </tr>\n",
       "    <tr>\n",
       "      <th>javascript</th>\n",
       "      <td>-</td>\n",
       "      <td>-</td>\n",
       "      <td>-</td>\n",
       "      <td>-</td>\n",
       "      <td>-</td>\n",
       "      <td>-</td>\n",
       "      <td>-</td>\n",
       "    </tr>\n",
       "    <tr>\n",
       "      <th>oracle</th>\n",
       "      <td>-</td>\n",
       "      <td>-</td>\n",
       "      <td>-</td>\n",
       "      <td>-</td>\n",
       "      <td>-</td>\n",
       "      <td>-</td>\n",
       "      <td>-</td>\n",
       "    </tr>\n",
       "    <tr>\n",
       "      <th>pandas</th>\n",
       "      <td>-</td>\n",
       "      <td>-</td>\n",
       "      <td>-</td>\n",
       "      <td>-</td>\n",
       "      <td>-</td>\n",
       "      <td>-</td>\n",
       "      <td>-</td>\n",
       "    </tr>\n",
       "    <tr>\n",
       "      <th>php</th>\n",
       "      <td>-</td>\n",
       "      <td>-</td>\n",
       "      <td>-</td>\n",
       "      <td>-</td>\n",
       "      <td>-</td>\n",
       "      <td>-</td>\n",
       "      <td>-</td>\n",
       "    </tr>\n",
       "    <tr>\n",
       "      <th>python</th>\n",
       "      <td>-</td>\n",
       "      <td>-</td>\n",
       "      <td>-</td>\n",
       "      <td>-</td>\n",
       "      <td>-</td>\n",
       "      <td>-</td>\n",
       "      <td>-</td>\n",
       "    </tr>\n",
       "    <tr>\n",
       "      <th>reactjs</th>\n",
       "      <td>-</td>\n",
       "      <td>-</td>\n",
       "      <td>-</td>\n",
       "      <td>-</td>\n",
       "      <td>-</td>\n",
       "      <td>-</td>\n",
       "      <td>-</td>\n",
       "    </tr>\n",
       "    <tr>\n",
       "      <th>scala</th>\n",
       "      <td>-</td>\n",
       "      <td>-</td>\n",
       "      <td>-</td>\n",
       "      <td>-</td>\n",
       "      <td>-</td>\n",
       "      <td>-</td>\n",
       "      <td>-</td>\n",
       "    </tr>\n",
       "    <tr>\n",
       "      <th>sql</th>\n",
       "      <td>-</td>\n",
       "      <td>-</td>\n",
       "      <td>-</td>\n",
       "      <td>-</td>\n",
       "      <td>-</td>\n",
       "      <td>-</td>\n",
       "      <td>-</td>\n",
       "    </tr>\n",
       "    <tr>\n",
       "      <th rowspan=\"11\" valign=\"top\">f_classif</th>\n",
       "      <th>android</th>\n",
       "      <td>-</td>\n",
       "      <td>-</td>\n",
       "      <td>-</td>\n",
       "      <td>-</td>\n",
       "      <td>-</td>\n",
       "      <td>-</td>\n",
       "      <td>-</td>\n",
       "    </tr>\n",
       "    <tr>\n",
       "      <th>git</th>\n",
       "      <td>-</td>\n",
       "      <td>-</td>\n",
       "      <td>-</td>\n",
       "      <td>-</td>\n",
       "      <td>-</td>\n",
       "      <td>-</td>\n",
       "      <td>-</td>\n",
       "    </tr>\n",
       "    <tr>\n",
       "      <th>html</th>\n",
       "      <td>-</td>\n",
       "      <td>-</td>\n",
       "      <td>-</td>\n",
       "      <td>-</td>\n",
       "      <td>-</td>\n",
       "      <td>-</td>\n",
       "      <td>-</td>\n",
       "    </tr>\n",
       "    <tr>\n",
       "      <th>javascript</th>\n",
       "      <td>-</td>\n",
       "      <td>-</td>\n",
       "      <td>-</td>\n",
       "      <td>-</td>\n",
       "      <td>-</td>\n",
       "      <td>-</td>\n",
       "      <td>-</td>\n",
       "    </tr>\n",
       "    <tr>\n",
       "      <th>oracle</th>\n",
       "      <td>-</td>\n",
       "      <td>-</td>\n",
       "      <td>-</td>\n",
       "      <td>-</td>\n",
       "      <td>-</td>\n",
       "      <td>-</td>\n",
       "      <td>-</td>\n",
       "    </tr>\n",
       "    <tr>\n",
       "      <th>pandas</th>\n",
       "      <td>-</td>\n",
       "      <td>-</td>\n",
       "      <td>-</td>\n",
       "      <td>-</td>\n",
       "      <td>-</td>\n",
       "      <td>-</td>\n",
       "      <td>-</td>\n",
       "    </tr>\n",
       "    <tr>\n",
       "      <th>php</th>\n",
       "      <td>-</td>\n",
       "      <td>-</td>\n",
       "      <td>-</td>\n",
       "      <td>-</td>\n",
       "      <td>-</td>\n",
       "      <td>-</td>\n",
       "      <td>-</td>\n",
       "    </tr>\n",
       "    <tr>\n",
       "      <th>python</th>\n",
       "      <td>-</td>\n",
       "      <td>-</td>\n",
       "      <td>-</td>\n",
       "      <td>-</td>\n",
       "      <td>-</td>\n",
       "      <td>-</td>\n",
       "      <td>-</td>\n",
       "    </tr>\n",
       "    <tr>\n",
       "      <th>reactjs</th>\n",
       "      <td>-</td>\n",
       "      <td>-</td>\n",
       "      <td>-</td>\n",
       "      <td>-</td>\n",
       "      <td>-</td>\n",
       "      <td>-</td>\n",
       "      <td>-</td>\n",
       "    </tr>\n",
       "    <tr>\n",
       "      <th>scala</th>\n",
       "      <td>-</td>\n",
       "      <td>-</td>\n",
       "      <td>-</td>\n",
       "      <td>-</td>\n",
       "      <td>-</td>\n",
       "      <td>-</td>\n",
       "      <td>-</td>\n",
       "    </tr>\n",
       "    <tr>\n",
       "      <th>sql</th>\n",
       "      <td>-</td>\n",
       "      <td>-</td>\n",
       "      <td>-</td>\n",
       "      <td>-</td>\n",
       "      <td>-</td>\n",
       "      <td>-</td>\n",
       "      <td>-</td>\n",
       "    </tr>\n",
       "    <tr>\n",
       "      <th rowspan=\"8\" valign=\"top\">01</th>\n",
       "      <th rowspan=\"8\" valign=\"top\">featureselect</th>\n",
       "      <th rowspan=\"8\" valign=\"top\">chi2</th>\n",
       "      <th>android</th>\n",
       "      <td>-</td>\n",
       "      <td>-</td>\n",
       "      <td>-</td>\n",
       "      <td>-</td>\n",
       "      <td>-</td>\n",
       "      <td>-</td>\n",
       "      <td>-</td>\n",
       "    </tr>\n",
       "    <tr>\n",
       "      <th>git</th>\n",
       "      <td>-</td>\n",
       "      <td>-</td>\n",
       "      <td>-</td>\n",
       "      <td>-</td>\n",
       "      <td>-</td>\n",
       "      <td>-</td>\n",
       "      <td>-</td>\n",
       "    </tr>\n",
       "    <tr>\n",
       "      <th>html</th>\n",
       "      <td>-</td>\n",
       "      <td>-</td>\n",
       "      <td>-</td>\n",
       "      <td>-</td>\n",
       "      <td>-</td>\n",
       "      <td>-</td>\n",
       "      <td>-</td>\n",
       "    </tr>\n",
       "    <tr>\n",
       "      <th>javascript</th>\n",
       "      <td>-</td>\n",
       "      <td>-</td>\n",
       "      <td>-</td>\n",
       "      <td>-</td>\n",
       "      <td>-</td>\n",
       "      <td>-</td>\n",
       "      <td>-</td>\n",
       "    </tr>\n",
       "    <tr>\n",
       "      <th>oracle</th>\n",
       "      <td>-</td>\n",
       "      <td>-</td>\n",
       "      <td>-</td>\n",
       "      <td>-</td>\n",
       "      <td>-</td>\n",
       "      <td>-</td>\n",
       "      <td>-</td>\n",
       "    </tr>\n",
       "    <tr>\n",
       "      <th>pandas</th>\n",
       "      <td>-</td>\n",
       "      <td>-</td>\n",
       "      <td>-</td>\n",
       "      <td>-</td>\n",
       "      <td>-</td>\n",
       "      <td>-</td>\n",
       "      <td>-</td>\n",
       "    </tr>\n",
       "    <tr>\n",
       "      <th>php</th>\n",
       "      <td>-</td>\n",
       "      <td>-</td>\n",
       "      <td>-</td>\n",
       "      <td>-</td>\n",
       "      <td>-</td>\n",
       "      <td>-</td>\n",
       "      <td>-</td>\n",
       "    </tr>\n",
       "    <tr>\n",
       "      <th>python</th>\n",
       "      <td>-</td>\n",
       "      <td>-</td>\n",
       "      <td>-</td>\n",
       "      <td>-</td>\n",
       "      <td>-</td>\n",
       "      <td>-</td>\n",
       "      <td>-</td>\n",
       "    </tr>\n",
       "    <tr>\n",
       "      <th>T</th>\n",
       "      <th>01</th>\n",
       "      <th>featureselect</th>\n",
       "      <th>chi2</th>\n",
       "      <th>...</th>\n",
       "      <td>...</td>\n",
       "      <td>...</td>\n",
       "      <td>...</td>\n",
       "      <td>...</td>\n",
       "      <td>...</td>\n",
       "      <td>...</td>\n",
       "      <td>...</td>\n",
       "    </tr>\n",
       "    <tr>\n",
       "      <th rowspan=\"30\" valign=\"top\">T</th>\n",
       "      <th rowspan=\"8\" valign=\"top\">01</th>\n",
       "      <th rowspan=\"8\" valign=\"top\">featureselect</th>\n",
       "      <th rowspan=\"8\" valign=\"top\">chi2</th>\n",
       "      <th>...</th>\n",
       "      <td>-</td>\n",
       "      <td>-</td>\n",
       "      <td>-</td>\n",
       "      <td>-</td>\n",
       "      <td>-</td>\n",
       "      <td>-</td>\n",
       "      <td>-</td>\n",
       "    </tr>\n",
       "    <tr>\n",
       "      <th>...</th>\n",
       "      <td>-</td>\n",
       "      <td>-</td>\n",
       "      <td>-</td>\n",
       "      <td>-</td>\n",
       "      <td>-</td>\n",
       "      <td>-</td>\n",
       "      <td>-</td>\n",
       "    </tr>\n",
       "    <tr>\n",
       "      <th>javascript</th>\n",
       "      <td>-</td>\n",
       "      <td>-</td>\n",
       "      <td>-</td>\n",
       "      <td>-</td>\n",
       "      <td>-</td>\n",
       "      <td>-</td>\n",
       "      <td>-</td>\n",
       "    </tr>\n",
       "    <tr>\n",
       "      <th>oracle</th>\n",
       "      <td>-</td>\n",
       "      <td>-</td>\n",
       "      <td>-</td>\n",
       "      <td>-</td>\n",
       "      <td>-</td>\n",
       "      <td>-</td>\n",
       "      <td>-</td>\n",
       "    </tr>\n",
       "    <tr>\n",
       "      <th>pandas</th>\n",
       "      <td>-</td>\n",
       "      <td>-</td>\n",
       "      <td>-</td>\n",
       "      <td>-</td>\n",
       "      <td>-</td>\n",
       "      <td>-</td>\n",
       "      <td>-</td>\n",
       "    </tr>\n",
       "    <tr>\n",
       "      <th>php</th>\n",
       "      <td>-</td>\n",
       "      <td>-</td>\n",
       "      <td>-</td>\n",
       "      <td>-</td>\n",
       "      <td>-</td>\n",
       "      <td>-</td>\n",
       "      <td>-</td>\n",
       "    </tr>\n",
       "    <tr>\n",
       "      <th>python</th>\n",
       "      <td>-</td>\n",
       "      <td>-</td>\n",
       "      <td>-</td>\n",
       "      <td>-</td>\n",
       "      <td>-</td>\n",
       "      <td>-</td>\n",
       "      <td>-</td>\n",
       "    </tr>\n",
       "    <tr>\n",
       "      <th>reactjs</th>\n",
       "      <td>-</td>\n",
       "      <td>-</td>\n",
       "      <td>-</td>\n",
       "      <td>-</td>\n",
       "      <td>-</td>\n",
       "      <td>-</td>\n",
       "      <td>-</td>\n",
       "    </tr>\n",
       "    <tr>\n",
       "      <th rowspan=\"22\" valign=\"top\">31</th>\n",
       "      <th rowspan=\"22\" valign=\"top\">featureselect</th>\n",
       "      <th rowspan=\"11\" valign=\"top\">f_classif</th>\n",
       "      <th>scala</th>\n",
       "      <td>-</td>\n",
       "      <td>-</td>\n",
       "      <td>-</td>\n",
       "      <td>-</td>\n",
       "      <td>-</td>\n",
       "      <td>-</td>\n",
       "      <td>-</td>\n",
       "    </tr>\n",
       "    <tr>\n",
       "      <th>sql</th>\n",
       "      <td>-</td>\n",
       "      <td>-</td>\n",
       "      <td>-</td>\n",
       "      <td>-</td>\n",
       "      <td>-</td>\n",
       "      <td>-</td>\n",
       "      <td>-</td>\n",
       "    </tr>\n",
       "    <tr>\n",
       "      <th>android</th>\n",
       "      <td>-</td>\n",
       "      <td>-</td>\n",
       "      <td>-</td>\n",
       "      <td>-</td>\n",
       "      <td>-</td>\n",
       "      <td>-</td>\n",
       "      <td>-</td>\n",
       "    </tr>\n",
       "    <tr>\n",
       "      <th>git</th>\n",
       "      <td>-</td>\n",
       "      <td>-</td>\n",
       "      <td>-</td>\n",
       "      <td>-</td>\n",
       "      <td>-</td>\n",
       "      <td>-</td>\n",
       "      <td>-</td>\n",
       "    </tr>\n",
       "    <tr>\n",
       "      <th>html</th>\n",
       "      <td>-</td>\n",
       "      <td>-</td>\n",
       "      <td>-</td>\n",
       "      <td>-</td>\n",
       "      <td>-</td>\n",
       "      <td>-</td>\n",
       "      <td>-</td>\n",
       "    </tr>\n",
       "    <tr>\n",
       "      <th>javascript</th>\n",
       "      <td>-</td>\n",
       "      <td>-</td>\n",
       "      <td>-</td>\n",
       "      <td>-</td>\n",
       "      <td>-</td>\n",
       "      <td>-</td>\n",
       "      <td>-</td>\n",
       "    </tr>\n",
       "    <tr>\n",
       "      <th>oracle</th>\n",
       "      <td>-</td>\n",
       "      <td>-</td>\n",
       "      <td>-</td>\n",
       "      <td>-</td>\n",
       "      <td>-</td>\n",
       "      <td>-</td>\n",
       "      <td>-</td>\n",
       "    </tr>\n",
       "    <tr>\n",
       "      <th>pandas</th>\n",
       "      <td>-</td>\n",
       "      <td>-</td>\n",
       "      <td>-</td>\n",
       "      <td>-</td>\n",
       "      <td>-</td>\n",
       "      <td>-</td>\n",
       "      <td>-</td>\n",
       "    </tr>\n",
       "    <tr>\n",
       "      <th>php</th>\n",
       "      <td>-</td>\n",
       "      <td>-</td>\n",
       "      <td>-</td>\n",
       "      <td>-</td>\n",
       "      <td>-</td>\n",
       "      <td>-</td>\n",
       "      <td>-</td>\n",
       "    </tr>\n",
       "    <tr>\n",
       "      <th>python</th>\n",
       "      <td>-</td>\n",
       "      <td>-</td>\n",
       "      <td>-</td>\n",
       "      <td>-</td>\n",
       "      <td>-</td>\n",
       "      <td>-</td>\n",
       "      <td>-</td>\n",
       "    </tr>\n",
       "    <tr>\n",
       "      <th>reactjs</th>\n",
       "      <td>-</td>\n",
       "      <td>-</td>\n",
       "      <td>-</td>\n",
       "      <td>-</td>\n",
       "      <td>-</td>\n",
       "      <td>-</td>\n",
       "      <td>-</td>\n",
       "    </tr>\n",
       "    <tr>\n",
       "      <th rowspan=\"11\" valign=\"top\">chi2</th>\n",
       "      <th>scala</th>\n",
       "      <td>-</td>\n",
       "      <td>-</td>\n",
       "      <td>-</td>\n",
       "      <td>-</td>\n",
       "      <td>-</td>\n",
       "      <td>-</td>\n",
       "      <td>-</td>\n",
       "    </tr>\n",
       "    <tr>\n",
       "      <th>sql</th>\n",
       "      <td>-</td>\n",
       "      <td>-</td>\n",
       "      <td>-</td>\n",
       "      <td>-</td>\n",
       "      <td>-</td>\n",
       "      <td>-</td>\n",
       "      <td>-</td>\n",
       "    </tr>\n",
       "    <tr>\n",
       "      <th>android</th>\n",
       "      <td>-</td>\n",
       "      <td>-</td>\n",
       "      <td>-</td>\n",
       "      <td>-</td>\n",
       "      <td>-</td>\n",
       "      <td>-</td>\n",
       "      <td>-</td>\n",
       "    </tr>\n",
       "    <tr>\n",
       "      <th>git</th>\n",
       "      <td>-</td>\n",
       "      <td>-</td>\n",
       "      <td>-</td>\n",
       "      <td>-</td>\n",
       "      <td>-</td>\n",
       "      <td>-</td>\n",
       "      <td>-</td>\n",
       "    </tr>\n",
       "    <tr>\n",
       "      <th>html</th>\n",
       "      <td>-</td>\n",
       "      <td>-</td>\n",
       "      <td>-</td>\n",
       "      <td>-</td>\n",
       "      <td>-</td>\n",
       "      <td>-</td>\n",
       "      <td>-</td>\n",
       "    </tr>\n",
       "    <tr>\n",
       "      <th>javascript</th>\n",
       "      <td>-</td>\n",
       "      <td>-</td>\n",
       "      <td>-</td>\n",
       "      <td>-</td>\n",
       "      <td>-</td>\n",
       "      <td>-</td>\n",
       "      <td>-</td>\n",
       "    </tr>\n",
       "    <tr>\n",
       "      <th>oracle</th>\n",
       "      <td>-</td>\n",
       "      <td>-</td>\n",
       "      <td>-</td>\n",
       "      <td>-</td>\n",
       "      <td>-</td>\n",
       "      <td>-</td>\n",
       "      <td>-</td>\n",
       "    </tr>\n",
       "    <tr>\n",
       "      <th>pandas</th>\n",
       "      <td>-</td>\n",
       "      <td>-</td>\n",
       "      <td>-</td>\n",
       "      <td>-</td>\n",
       "      <td>-</td>\n",
       "      <td>-</td>\n",
       "      <td>-</td>\n",
       "    </tr>\n",
       "    <tr>\n",
       "      <th>php</th>\n",
       "      <td>-</td>\n",
       "      <td>-</td>\n",
       "      <td>-</td>\n",
       "      <td>-</td>\n",
       "      <td>-</td>\n",
       "      <td>-</td>\n",
       "      <td>-</td>\n",
       "    </tr>\n",
       "    <tr>\n",
       "      <th>python</th>\n",
       "      <td>-</td>\n",
       "      <td>-</td>\n",
       "      <td>-</td>\n",
       "      <td>-</td>\n",
       "      <td>-</td>\n",
       "      <td>-</td>\n",
       "      <td>-</td>\n",
       "    </tr>\n",
       "    <tr>\n",
       "      <th>reactjs</th>\n",
       "      <td>-</td>\n",
       "      <td>-</td>\n",
       "      <td>-</td>\n",
       "      <td>-</td>\n",
       "      <td>-</td>\n",
       "      <td>-</td>\n",
       "      <td>-</td>\n",
       "    </tr>\n",
       "  </tbody>\n",
       "</table>\n",
       "<p>770 rows × 7 columns</p>\n",
       "</div>"
      ],
      "text/plain": [
       "                                                                                      Indices  \\\n",
       "source        wordtype vecimpl htmlfeature tf-idf transformation scorefunc class                \n",
       "stackoverflow lemma    nltk    T           00     featureselect  chi2      android          -   \n",
       "                                                                           git              -   \n",
       "                                                                           html             -   \n",
       "                                                                           javascript       -   \n",
       "                                                                           oracle           -   \n",
       "                                                                           pandas           -   \n",
       "                                                                           php              -   \n",
       "                                                                           python           -   \n",
       "                                                                           reactjs          -   \n",
       "                                                                           scala            -   \n",
       "                                                                           sql              -   \n",
       "                                                                 f_classif android          -   \n",
       "                                                                           git              -   \n",
       "                                                                           html             -   \n",
       "                                                                           javascript       -   \n",
       "                                                                           oracle           -   \n",
       "                                                                           pandas           -   \n",
       "                                                                           php              -   \n",
       "                                                                           python           -   \n",
       "                                                                           reactjs          -   \n",
       "                                                                           scala            -   \n",
       "                                                                           sql              -   \n",
       "                                           01     featureselect  chi2      android          -   \n",
       "                                                                           git              -   \n",
       "                                                                           html             -   \n",
       "                                                                           javascript       -   \n",
       "                                                                           oracle           -   \n",
       "                                                                           pandas           -   \n",
       "                                                                           php              -   \n",
       "                                                                           python           -   \n",
       "...                                                                                       ...   \n",
       "                               TIC         31     featureselect  f_classif javascript       -   \n",
       "                                                                           oracle           -   \n",
       "                                                                           pandas           -   \n",
       "                                                                           php              -   \n",
       "                                                                           python           -   \n",
       "                                                                           reactjs          -   \n",
       "                                                                           scala            -   \n",
       "                                                                           sql              -   \n",
       "                                           32     featureselect  chi2      android          -   \n",
       "                                                                           git              -   \n",
       "                                                                           html             -   \n",
       "                                                                           javascript       -   \n",
       "                                                                           oracle           -   \n",
       "                                                                           pandas           -   \n",
       "                                                                           php              -   \n",
       "                                                                           python           -   \n",
       "                                                                           reactjs          -   \n",
       "                                                                           scala            -   \n",
       "                                                                           sql              -   \n",
       "                                                                 f_classif android          -   \n",
       "                                                                           git              -   \n",
       "                                                                           html             -   \n",
       "                                                                           javascript       -   \n",
       "                                                                           oracle           -   \n",
       "                                                                           pandas           -   \n",
       "                                                                           php              -   \n",
       "                                                                           python           -   \n",
       "                                                                           reactjs          -   \n",
       "                                                                           scala            -   \n",
       "                                                                           sql              -   \n",
       "\n",
       "                                                                                      Mask  \\\n",
       "source        wordtype vecimpl htmlfeature tf-idf transformation scorefunc class             \n",
       "stackoverflow lemma    nltk    T           00     featureselect  chi2      android       -   \n",
       "                                                                           git           -   \n",
       "                                                                           html          -   \n",
       "                                                                           javascript    -   \n",
       "                                                                           oracle        -   \n",
       "                                                                           pandas        -   \n",
       "                                                                           php           -   \n",
       "                                                                           python        -   \n",
       "                                                                           reactjs       -   \n",
       "                                                                           scala         -   \n",
       "                                                                           sql           -   \n",
       "                                                                 f_classif android       -   \n",
       "                                                                           git           -   \n",
       "                                                                           html          -   \n",
       "                                                                           javascript    -   \n",
       "                                                                           oracle        -   \n",
       "                                                                           pandas        -   \n",
       "                                                                           php           -   \n",
       "                                                                           python        -   \n",
       "                                                                           reactjs       -   \n",
       "                                                                           scala         -   \n",
       "                                                                           sql           -   \n",
       "                                           01     featureselect  chi2      android       -   \n",
       "                                                                           git           -   \n",
       "                                                                           html          -   \n",
       "                                                                           javascript    -   \n",
       "                                                                           oracle        -   \n",
       "                                                                           pandas        -   \n",
       "                                                                           php           -   \n",
       "                                                                           python        -   \n",
       "...                                                                                    ...   \n",
       "                               TIC         31     featureselect  f_classif javascript    -   \n",
       "                                                                           oracle        -   \n",
       "                                                                           pandas        -   \n",
       "                                                                           php           -   \n",
       "                                                                           python        -   \n",
       "                                                                           reactjs       -   \n",
       "                                                                           scala         -   \n",
       "                                                                           sql           -   \n",
       "                                           32     featureselect  chi2      android       -   \n",
       "                                                                           git           -   \n",
       "                                                                           html          -   \n",
       "                                                                           javascript    -   \n",
       "                                                                           oracle        -   \n",
       "                                                                           pandas        -   \n",
       "                                                                           php           -   \n",
       "                                                                           python        -   \n",
       "                                                                           reactjs       -   \n",
       "                                                                           scala         -   \n",
       "                                                                           sql           -   \n",
       "                                                                 f_classif android       -   \n",
       "                                                                           git           -   \n",
       "                                                                           html          -   \n",
       "                                                                           javascript    -   \n",
       "                                                                           oracle        -   \n",
       "                                                                           pandas        -   \n",
       "                                                                           php           -   \n",
       "                                                                           python        -   \n",
       "                                                                           reactjs       -   \n",
       "                                                                           scala         -   \n",
       "                                                                           sql           -   \n",
       "\n",
       "                                                                                      Pvalue  \\\n",
       "source        wordtype vecimpl htmlfeature tf-idf transformation scorefunc class               \n",
       "stackoverflow lemma    nltk    T           00     featureselect  chi2      android         -   \n",
       "                                                                           git             -   \n",
       "                                                                           html            -   \n",
       "                                                                           javascript      -   \n",
       "                                                                           oracle          -   \n",
       "                                                                           pandas          -   \n",
       "                                                                           php             -   \n",
       "                                                                           python          -   \n",
       "                                                                           reactjs         -   \n",
       "                                                                           scala           -   \n",
       "                                                                           sql             -   \n",
       "                                                                 f_classif android         -   \n",
       "                                                                           git             -   \n",
       "                                                                           html            -   \n",
       "                                                                           javascript      -   \n",
       "                                                                           oracle          -   \n",
       "                                                                           pandas          -   \n",
       "                                                                           php             -   \n",
       "                                                                           python          -   \n",
       "                                                                           reactjs         -   \n",
       "                                                                           scala           -   \n",
       "                                                                           sql             -   \n",
       "                                           01     featureselect  chi2      android         -   \n",
       "                                                                           git             -   \n",
       "                                                                           html            -   \n",
       "                                                                           javascript      -   \n",
       "                                                                           oracle          -   \n",
       "                                                                           pandas          -   \n",
       "                                                                           php             -   \n",
       "                                                                           python          -   \n",
       "...                                                                                      ...   \n",
       "                               TIC         31     featureselect  f_classif javascript      -   \n",
       "                                                                           oracle          -   \n",
       "                                                                           pandas          -   \n",
       "                                                                           php             -   \n",
       "                                                                           python          -   \n",
       "                                                                           reactjs         -   \n",
       "                                                                           scala           -   \n",
       "                                                                           sql             -   \n",
       "                                           32     featureselect  chi2      android         -   \n",
       "                                                                           git             -   \n",
       "                                                                           html            -   \n",
       "                                                                           javascript      -   \n",
       "                                                                           oracle          -   \n",
       "                                                                           pandas          -   \n",
       "                                                                           php             -   \n",
       "                                                                           python          -   \n",
       "                                                                           reactjs         -   \n",
       "                                                                           scala           -   \n",
       "                                                                           sql             -   \n",
       "                                                                 f_classif android         -   \n",
       "                                                                           git             -   \n",
       "                                                                           html            -   \n",
       "                                                                           javascript      -   \n",
       "                                                                           oracle          -   \n",
       "                                                                           pandas          -   \n",
       "                                                                           php             -   \n",
       "                                                                           python          -   \n",
       "                                                                           reactjs         -   \n",
       "                                                                           scala           -   \n",
       "                                                                           sql             -   \n",
       "\n",
       "                                                                                      Scores  \\\n",
       "source        wordtype vecimpl htmlfeature tf-idf transformation scorefunc class               \n",
       "stackoverflow lemma    nltk    T           00     featureselect  chi2      android         -   \n",
       "                                                                           git             -   \n",
       "                                                                           html            -   \n",
       "                                                                           javascript      -   \n",
       "                                                                           oracle          -   \n",
       "                                                                           pandas          -   \n",
       "                                                                           php             -   \n",
       "                                                                           python          -   \n",
       "                                                                           reactjs         -   \n",
       "                                                                           scala           -   \n",
       "                                                                           sql             -   \n",
       "                                                                 f_classif android         -   \n",
       "                                                                           git             -   \n",
       "                                                                           html            -   \n",
       "                                                                           javascript      -   \n",
       "                                                                           oracle          -   \n",
       "                                                                           pandas          -   \n",
       "                                                                           php             -   \n",
       "                                                                           python          -   \n",
       "                                                                           reactjs         -   \n",
       "                                                                           scala           -   \n",
       "                                                                           sql             -   \n",
       "                                           01     featureselect  chi2      android         -   \n",
       "                                                                           git             -   \n",
       "                                                                           html            -   \n",
       "                                                                           javascript      -   \n",
       "                                                                           oracle          -   \n",
       "                                                                           pandas          -   \n",
       "                                                                           php             -   \n",
       "                                                                           python          -   \n",
       "...                                                                                      ...   \n",
       "                               TIC         31     featureselect  f_classif javascript      -   \n",
       "                                                                           oracle          -   \n",
       "                                                                           pandas          -   \n",
       "                                                                           php             -   \n",
       "                                                                           python          -   \n",
       "                                                                           reactjs         -   \n",
       "                                                                           scala           -   \n",
       "                                                                           sql             -   \n",
       "                                           32     featureselect  chi2      android         -   \n",
       "                                                                           git             -   \n",
       "                                                                           html            -   \n",
       "                                                                           javascript      -   \n",
       "                                                                           oracle          -   \n",
       "                                                                           pandas          -   \n",
       "                                                                           php             -   \n",
       "                                                                           python          -   \n",
       "                                                                           reactjs         -   \n",
       "                                                                           scala           -   \n",
       "                                                                           sql             -   \n",
       "                                                                 f_classif android         -   \n",
       "                                                                           git             -   \n",
       "                                                                           html            -   \n",
       "                                                                           javascript      -   \n",
       "                                                                           oracle          -   \n",
       "                                                                           pandas          -   \n",
       "                                                                           php             -   \n",
       "                                                                           python          -   \n",
       "                                                                           reactjs         -   \n",
       "                                                                           scala           -   \n",
       "                                                                           sql             -   \n",
       "\n",
       "                                                                                       X  \\\n",
       "source        wordtype vecimpl htmlfeature tf-idf transformation scorefunc class           \n",
       "stackoverflow lemma    nltk    T           00     featureselect  chi2      android     -   \n",
       "                                                                           git         -   \n",
       "                                                                           html        -   \n",
       "                                                                           javascript  -   \n",
       "                                                                           oracle      -   \n",
       "                                                                           pandas      -   \n",
       "                                                                           php         -   \n",
       "                                                                           python      -   \n",
       "                                                                           reactjs     -   \n",
       "                                                                           scala       -   \n",
       "                                                                           sql         -   \n",
       "                                                                 f_classif android     -   \n",
       "                                                                           git         -   \n",
       "                                                                           html        -   \n",
       "                                                                           javascript  -   \n",
       "                                                                           oracle      -   \n",
       "                                                                           pandas      -   \n",
       "                                                                           php         -   \n",
       "                                                                           python      -   \n",
       "                                                                           reactjs     -   \n",
       "                                                                           scala       -   \n",
       "                                                                           sql         -   \n",
       "                                           01     featureselect  chi2      android     -   \n",
       "                                                                           git         -   \n",
       "                                                                           html        -   \n",
       "                                                                           javascript  -   \n",
       "                                                                           oracle      -   \n",
       "                                                                           pandas      -   \n",
       "                                                                           php         -   \n",
       "                                                                           python      -   \n",
       "...                                                                                   ..   \n",
       "                               TIC         31     featureselect  f_classif javascript  -   \n",
       "                                                                           oracle      -   \n",
       "                                                                           pandas      -   \n",
       "                                                                           php         -   \n",
       "                                                                           python      -   \n",
       "                                                                           reactjs     -   \n",
       "                                                                           scala       -   \n",
       "                                                                           sql         -   \n",
       "                                           32     featureselect  chi2      android     -   \n",
       "                                                                           git         -   \n",
       "                                                                           html        -   \n",
       "                                                                           javascript  -   \n",
       "                                                                           oracle      -   \n",
       "                                                                           pandas      -   \n",
       "                                                                           php         -   \n",
       "                                                                           python      -   \n",
       "                                                                           reactjs     -   \n",
       "                                                                           scala       -   \n",
       "                                                                           sql         -   \n",
       "                                                                 f_classif android     -   \n",
       "                                                                           git         -   \n",
       "                                                                           html        -   \n",
       "                                                                           javascript  -   \n",
       "                                                                           oracle      -   \n",
       "                                                                           pandas      -   \n",
       "                                                                           php         -   \n",
       "                                                                           python      -   \n",
       "                                                                           reactjs     -   \n",
       "                                                                           scala       -   \n",
       "                                                                           sql         -   \n",
       "\n",
       "                                                                                      assertF  \\\n",
       "source        wordtype vecimpl htmlfeature tf-idf transformation scorefunc class                \n",
       "stackoverflow lemma    nltk    T           00     featureselect  chi2      android          -   \n",
       "                                                                           git              -   \n",
       "                                                                           html             -   \n",
       "                                                                           javascript       -   \n",
       "                                                                           oracle           -   \n",
       "                                                                           pandas           -   \n",
       "                                                                           php              -   \n",
       "                                                                           python           -   \n",
       "                                                                           reactjs          -   \n",
       "                                                                           scala            -   \n",
       "                                                                           sql              -   \n",
       "                                                                 f_classif android          -   \n",
       "                                                                           git              -   \n",
       "                                                                           html             -   \n",
       "                                                                           javascript       -   \n",
       "                                                                           oracle           -   \n",
       "                                                                           pandas           -   \n",
       "                                                                           php              -   \n",
       "                                                                           python           -   \n",
       "                                                                           reactjs          -   \n",
       "                                                                           scala            -   \n",
       "                                                                           sql              -   \n",
       "                                           01     featureselect  chi2      android          -   \n",
       "                                                                           git              -   \n",
       "                                                                           html             -   \n",
       "                                                                           javascript       -   \n",
       "                                                                           oracle           -   \n",
       "                                                                           pandas           -   \n",
       "                                                                           php              -   \n",
       "                                                                           python           -   \n",
       "...                                                                                       ...   \n",
       "                               TIC         31     featureselect  f_classif javascript       -   \n",
       "                                                                           oracle           -   \n",
       "                                                                           pandas           -   \n",
       "                                                                           php              -   \n",
       "                                                                           python           -   \n",
       "                                                                           reactjs          -   \n",
       "                                                                           scala            -   \n",
       "                                                                           sql              -   \n",
       "                                           32     featureselect  chi2      android          -   \n",
       "                                                                           git              -   \n",
       "                                                                           html             -   \n",
       "                                                                           javascript       -   \n",
       "                                                                           oracle           -   \n",
       "                                                                           pandas           -   \n",
       "                                                                           php              -   \n",
       "                                                                           python           -   \n",
       "                                                                           reactjs          -   \n",
       "                                                                           scala            -   \n",
       "                                                                           sql              -   \n",
       "                                                                 f_classif android          -   \n",
       "                                                                           git              -   \n",
       "                                                                           html             -   \n",
       "                                                                           javascript       -   \n",
       "                                                                           oracle           -   \n",
       "                                                                           pandas           -   \n",
       "                                                                           php              -   \n",
       "                                                                           python           -   \n",
       "                                                                           reactjs          -   \n",
       "                                                                           scala            -   \n",
       "                                                                           sql              -   \n",
       "\n",
       "                                                                                      assertY  \n",
       "source        wordtype vecimpl htmlfeature tf-idf transformation scorefunc class               \n",
       "stackoverflow lemma    nltk    T           00     featureselect  chi2      android          -  \n",
       "                                                                           git              -  \n",
       "                                                                           html             -  \n",
       "                                                                           javascript       -  \n",
       "                                                                           oracle           -  \n",
       "                                                                           pandas           -  \n",
       "                                                                           php              -  \n",
       "                                                                           python           -  \n",
       "                                                                           reactjs          -  \n",
       "                                                                           scala            -  \n",
       "                                                                           sql              -  \n",
       "                                                                 f_classif android          -  \n",
       "                                                                           git              -  \n",
       "                                                                           html             -  \n",
       "                                                                           javascript       -  \n",
       "                                                                           oracle           -  \n",
       "                                                                           pandas           -  \n",
       "                                                                           php              -  \n",
       "                                                                           python           -  \n",
       "                                                                           reactjs          -  \n",
       "                                                                           scala            -  \n",
       "                                                                           sql              -  \n",
       "                                           01     featureselect  chi2      android          -  \n",
       "                                                                           git              -  \n",
       "                                                                           html             -  \n",
       "                                                                           javascript       -  \n",
       "                                                                           oracle           -  \n",
       "                                                                           pandas           -  \n",
       "                                                                           php              -  \n",
       "                                                                           python           -  \n",
       "...                                                                                       ...  \n",
       "                               TIC         31     featureselect  f_classif javascript       -  \n",
       "                                                                           oracle           -  \n",
       "                                                                           pandas           -  \n",
       "                                                                           php              -  \n",
       "                                                                           python           -  \n",
       "                                                                           reactjs          -  \n",
       "                                                                           scala            -  \n",
       "                                                                           sql              -  \n",
       "                                           32     featureselect  chi2      android          -  \n",
       "                                                                           git              -  \n",
       "                                                                           html             -  \n",
       "                                                                           javascript       -  \n",
       "                                                                           oracle           -  \n",
       "                                                                           pandas           -  \n",
       "                                                                           php              -  \n",
       "                                                                           python           -  \n",
       "                                                                           reactjs          -  \n",
       "                                                                           scala            -  \n",
       "                                                                           sql              -  \n",
       "                                                                 f_classif android          -  \n",
       "                                                                           git              -  \n",
       "                                                                           html             -  \n",
       "                                                                           javascript       -  \n",
       "                                                                           oracle           -  \n",
       "                                                                           pandas           -  \n",
       "                                                                           php              -  \n",
       "                                                                           python           -  \n",
       "                                                                           reactjs          -  \n",
       "                                                                           scala            -  \n",
       "                                                                           sql              -  \n",
       "\n",
       "[770 rows x 7 columns]"
      ]
     },
     "execution_count": 1,
     "metadata": {},
     "output_type": "execute_result"
    }
   ],
   "source": [
    "from src import featureselect\n",
    "from src.algo import cell2string\n",
    "\n",
    "tfidf       = slice(None)\n",
    "htmlfeature = ['T', 'TI', 'TIB', 'TIC', 'TIBC']\n",
    "scorefunc   = ['chi2', 'f_classif'] #, 'mutual_info_classif', 'chi2', 'f_classif']\n",
    "tags        = ['python', 'php', 'html', 'android', 'javascript', 'sql', 'reactjs', 'git', 'c#','scala', 'oracle', 'pandas']\n",
    "\n",
    "inputspace = featureselect.FeatureFrame().sort_index().sort_index(axis=1)\n",
    "fsplan = inputspace.loc[('stackoverflow', 'lemma', 'nltk', htmlfeature, tfidf, 'featureselect', scorefunc, tags), :]\n",
    "fsplan = cell2string.file2date(fsplan)\n",
    "fsplan"
   ]
  },
  {
   "cell_type": "code",
   "execution_count": 2,
   "metadata": {
    "collapsed": true
   },
   "outputs": [
    {
     "data": {
      "application/vnd.jupyter.widget-view+json": {
       "model_id": "9ac94c0b53624b3ea7d4650e5dc02d35",
       "version_major": 2,
       "version_minor": 0
      },
      "text/plain": [
       "FloatProgress(value=0.0, max=770.0)"
      ]
     },
     "metadata": {},
     "output_type": "display_data"
    },
    {
     "name": "stdout",
     "output_type": "stream",
     "text": [
      "makedir ./dist/data/stackoverflow/lemma/nltk/T/00/featureselect/chi2/android/\n",
      "makedir ./dist/data/stackoverflow/lemma/nltk/T/00/featureselect/chi2/git/\n",
      "makedir ./dist/data/stackoverflow/lemma/nltk/T/00/featureselect/chi2/html/\n",
      "makedir ./dist/data/stackoverflow/lemma/nltk/T/00/featureselect/chi2/javascript/\n",
      "makedir ./dist/data/stackoverflow/lemma/nltk/T/00/featureselect/chi2/oracle/\n",
      "makedir ./dist/data/stackoverflow/lemma/nltk/T/00/featureselect/chi2/pandas/\n",
      "makedir ./dist/data/stackoverflow/lemma/nltk/T/00/featureselect/chi2/php/\n",
      "makedir ./dist/data/stackoverflow/lemma/nltk/T/00/featureselect/chi2/python/\n",
      "makedir ./dist/data/stackoverflow/lemma/nltk/T/00/featureselect/chi2/reactjs/\n",
      "makedir ./dist/data/stackoverflow/lemma/nltk/T/00/featureselect/chi2/scala/\n",
      "makedir ./dist/data/stackoverflow/lemma/nltk/T/00/featureselect/chi2/sql/\n",
      "makedir ./dist/data/stackoverflow/lemma/nltk/T/00/featureselect/f_classif/android/\n",
      "makedir ./dist/data/stackoverflow/lemma/nltk/T/00/featureselect/f_classif/git/\n",
      "makedir ./dist/data/stackoverflow/lemma/nltk/T/00/featureselect/f_classif/html/\n",
      "makedir ./dist/data/stackoverflow/lemma/nltk/T/00/featureselect/f_classif/javascript/\n",
      "makedir ./dist/data/stackoverflow/lemma/nltk/T/00/featureselect/f_classif/oracle/\n",
      "makedir ./dist/data/stackoverflow/lemma/nltk/T/00/featureselect/f_classif/pandas/\n",
      "makedir ./dist/data/stackoverflow/lemma/nltk/T/00/featureselect/f_classif/php/\n",
      "makedir ./dist/data/stackoverflow/lemma/nltk/T/00/featureselect/f_classif/python/\n",
      "makedir ./dist/data/stackoverflow/lemma/nltk/T/00/featureselect/f_classif/reactjs/\n",
      "makedir ./dist/data/stackoverflow/lemma/nltk/T/00/featureselect/f_classif/scala/\n",
      "makedir ./dist/data/stackoverflow/lemma/nltk/T/00/featureselect/f_classif/sql/\n",
      "makedir ./dist/data/stackoverflow/lemma/nltk/T/01/featureselect/chi2/android/\n",
      "makedir ./dist/data/stackoverflow/lemma/nltk/T/01/featureselect/chi2/git/\n",
      "makedir ./dist/data/stackoverflow/lemma/nltk/T/01/featureselect/chi2/html/\n",
      "makedir ./dist/data/stackoverflow/lemma/nltk/T/01/featureselect/chi2/javascript/\n",
      "makedir ./dist/data/stackoverflow/lemma/nltk/T/01/featureselect/chi2/oracle/\n",
      "makedir ./dist/data/stackoverflow/lemma/nltk/T/01/featureselect/chi2/pandas/\n",
      "makedir ./dist/data/stackoverflow/lemma/nltk/T/01/featureselect/chi2/php/\n",
      "makedir ./dist/data/stackoverflow/lemma/nltk/T/01/featureselect/chi2/python/\n",
      "makedir ./dist/data/stackoverflow/lemma/nltk/T/01/featureselect/chi2/reactjs/\n",
      "makedir ./dist/data/stackoverflow/lemma/nltk/T/01/featureselect/chi2/scala/\n",
      "makedir ./dist/data/stackoverflow/lemma/nltk/T/01/featureselect/chi2/sql/\n",
      "makedir ./dist/data/stackoverflow/lemma/nltk/T/01/featureselect/f_classif/android/\n",
      "makedir ./dist/data/stackoverflow/lemma/nltk/T/01/featureselect/f_classif/git/\n",
      "makedir ./dist/data/stackoverflow/lemma/nltk/T/01/featureselect/f_classif/html/\n",
      "makedir ./dist/data/stackoverflow/lemma/nltk/T/01/featureselect/f_classif/javascript/\n",
      "makedir ./dist/data/stackoverflow/lemma/nltk/T/01/featureselect/f_classif/oracle/\n",
      "makedir ./dist/data/stackoverflow/lemma/nltk/T/01/featureselect/f_classif/pandas/\n",
      "makedir ./dist/data/stackoverflow/lemma/nltk/T/01/featureselect/f_classif/php/\n",
      "makedir ./dist/data/stackoverflow/lemma/nltk/T/01/featureselect/f_classif/python/\n",
      "makedir ./dist/data/stackoverflow/lemma/nltk/T/01/featureselect/f_classif/reactjs/\n",
      "makedir ./dist/data/stackoverflow/lemma/nltk/T/01/featureselect/f_classif/scala/\n",
      "makedir ./dist/data/stackoverflow/lemma/nltk/T/01/featureselect/f_classif/sql/\n",
      "makedir ./dist/data/stackoverflow/lemma/nltk/T/10/featureselect/chi2/android/\n",
      "makedir ./dist/data/stackoverflow/lemma/nltk/T/10/featureselect/chi2/git/\n",
      "makedir ./dist/data/stackoverflow/lemma/nltk/T/10/featureselect/chi2/html/\n",
      "makedir ./dist/data/stackoverflow/lemma/nltk/T/10/featureselect/chi2/javascript/\n",
      "makedir ./dist/data/stackoverflow/lemma/nltk/T/10/featureselect/chi2/oracle/\n",
      "makedir ./dist/data/stackoverflow/lemma/nltk/T/10/featureselect/chi2/pandas/\n",
      "makedir ./dist/data/stackoverflow/lemma/nltk/T/10/featureselect/chi2/php/\n",
      "makedir ./dist/data/stackoverflow/lemma/nltk/T/10/featureselect/chi2/python/\n",
      "makedir ./dist/data/stackoverflow/lemma/nltk/T/10/featureselect/chi2/reactjs/\n",
      "makedir ./dist/data/stackoverflow/lemma/nltk/T/10/featureselect/chi2/scala/\n",
      "makedir ./dist/data/stackoverflow/lemma/nltk/T/10/featureselect/chi2/sql/\n",
      "makedir ./dist/data/stackoverflow/lemma/nltk/T/10/featureselect/f_classif/android/\n",
      "makedir ./dist/data/stackoverflow/lemma/nltk/T/10/featureselect/f_classif/git/\n",
      "makedir ./dist/data/stackoverflow/lemma/nltk/T/10/featureselect/f_classif/html/\n",
      "makedir ./dist/data/stackoverflow/lemma/nltk/T/10/featureselect/f_classif/javascript/\n",
      "makedir ./dist/data/stackoverflow/lemma/nltk/T/10/featureselect/f_classif/oracle/\n",
      "makedir ./dist/data/stackoverflow/lemma/nltk/T/10/featureselect/f_classif/pandas/\n",
      "makedir ./dist/data/stackoverflow/lemma/nltk/T/10/featureselect/f_classif/php/\n",
      "makedir ./dist/data/stackoverflow/lemma/nltk/T/10/featureselect/f_classif/python/\n",
      "makedir ./dist/data/stackoverflow/lemma/nltk/T/10/featureselect/f_classif/reactjs/\n",
      "makedir ./dist/data/stackoverflow/lemma/nltk/T/10/featureselect/f_classif/scala/\n",
      "makedir ./dist/data/stackoverflow/lemma/nltk/T/10/featureselect/f_classif/sql/\n",
      "makedir ./dist/data/stackoverflow/lemma/nltk/T/11/featureselect/chi2/android/\n",
      "makedir ./dist/data/stackoverflow/lemma/nltk/T/11/featureselect/chi2/git/\n",
      "makedir ./dist/data/stackoverflow/lemma/nltk/T/11/featureselect/chi2/html/\n",
      "makedir ./dist/data/stackoverflow/lemma/nltk/T/11/featureselect/chi2/javascript/\n",
      "makedir ./dist/data/stackoverflow/lemma/nltk/T/11/featureselect/chi2/oracle/\n",
      "makedir ./dist/data/stackoverflow/lemma/nltk/T/11/featureselect/chi2/pandas/\n",
      "makedir ./dist/data/stackoverflow/lemma/nltk/T/11/featureselect/chi2/php/\n",
      "makedir ./dist/data/stackoverflow/lemma/nltk/T/11/featureselect/chi2/python/\n",
      "makedir ./dist/data/stackoverflow/lemma/nltk/T/11/featureselect/chi2/reactjs/\n",
      "makedir ./dist/data/stackoverflow/lemma/nltk/T/11/featureselect/chi2/scala/\n",
      "makedir ./dist/data/stackoverflow/lemma/nltk/T/11/featureselect/chi2/sql/\n",
      "makedir ./dist/data/stackoverflow/lemma/nltk/T/11/featureselect/f_classif/android/\n",
      "makedir ./dist/data/stackoverflow/lemma/nltk/T/11/featureselect/f_classif/git/\n",
      "makedir ./dist/data/stackoverflow/lemma/nltk/T/11/featureselect/f_classif/html/\n",
      "makedir ./dist/data/stackoverflow/lemma/nltk/T/11/featureselect/f_classif/javascript/\n",
      "makedir ./dist/data/stackoverflow/lemma/nltk/T/11/featureselect/f_classif/oracle/\n",
      "makedir ./dist/data/stackoverflow/lemma/nltk/T/11/featureselect/f_classif/pandas/\n",
      "makedir ./dist/data/stackoverflow/lemma/nltk/T/11/featureselect/f_classif/php/\n",
      "makedir ./dist/data/stackoverflow/lemma/nltk/T/11/featureselect/f_classif/python/\n",
      "makedir ./dist/data/stackoverflow/lemma/nltk/T/11/featureselect/f_classif/reactjs/\n",
      "makedir ./dist/data/stackoverflow/lemma/nltk/T/11/featureselect/f_classif/scala/\n",
      "makedir ./dist/data/stackoverflow/lemma/nltk/T/11/featureselect/f_classif/sql/\n",
      "makedir ./dist/data/stackoverflow/lemma/nltk/T/30/featureselect/chi2/android/\n",
      "makedir ./dist/data/stackoverflow/lemma/nltk/T/30/featureselect/chi2/git/\n",
      "makedir ./dist/data/stackoverflow/lemma/nltk/T/30/featureselect/chi2/html/\n",
      "makedir ./dist/data/stackoverflow/lemma/nltk/T/30/featureselect/chi2/javascript/\n",
      "makedir ./dist/data/stackoverflow/lemma/nltk/T/30/featureselect/chi2/oracle/\n",
      "makedir ./dist/data/stackoverflow/lemma/nltk/T/30/featureselect/chi2/pandas/\n",
      "makedir ./dist/data/stackoverflow/lemma/nltk/T/30/featureselect/chi2/php/\n",
      "makedir ./dist/data/stackoverflow/lemma/nltk/T/30/featureselect/chi2/python/\n",
      "makedir ./dist/data/stackoverflow/lemma/nltk/T/30/featureselect/chi2/reactjs/\n",
      "makedir ./dist/data/stackoverflow/lemma/nltk/T/30/featureselect/chi2/scala/\n",
      "makedir ./dist/data/stackoverflow/lemma/nltk/T/30/featureselect/chi2/sql/\n",
      "makedir ./dist/data/stackoverflow/lemma/nltk/T/30/featureselect/f_classif/android/\n",
      "makedir ./dist/data/stackoverflow/lemma/nltk/T/30/featureselect/f_classif/git/\n",
      "makedir ./dist/data/stackoverflow/lemma/nltk/T/30/featureselect/f_classif/html/\n",
      "makedir ./dist/data/stackoverflow/lemma/nltk/T/30/featureselect/f_classif/javascript/\n",
      "makedir ./dist/data/stackoverflow/lemma/nltk/T/30/featureselect/f_classif/oracle/\n",
      "makedir ./dist/data/stackoverflow/lemma/nltk/T/30/featureselect/f_classif/pandas/\n",
      "makedir ./dist/data/stackoverflow/lemma/nltk/T/30/featureselect/f_classif/php/\n",
      "makedir ./dist/data/stackoverflow/lemma/nltk/T/30/featureselect/f_classif/python/\n",
      "makedir ./dist/data/stackoverflow/lemma/nltk/T/30/featureselect/f_classif/reactjs/\n",
      "makedir ./dist/data/stackoverflow/lemma/nltk/T/30/featureselect/f_classif/scala/\n",
      "makedir ./dist/data/stackoverflow/lemma/nltk/T/30/featureselect/f_classif/sql/\n",
      "makedir ./dist/data/stackoverflow/lemma/nltk/T/31/featureselect/chi2/android/\n",
      "makedir ./dist/data/stackoverflow/lemma/nltk/T/31/featureselect/chi2/git/\n",
      "makedir ./dist/data/stackoverflow/lemma/nltk/T/31/featureselect/chi2/html/\n",
      "makedir ./dist/data/stackoverflow/lemma/nltk/T/31/featureselect/chi2/javascript/\n",
      "makedir ./dist/data/stackoverflow/lemma/nltk/T/31/featureselect/chi2/oracle/\n",
      "makedir ./dist/data/stackoverflow/lemma/nltk/T/31/featureselect/chi2/pandas/\n",
      "makedir ./dist/data/stackoverflow/lemma/nltk/T/31/featureselect/chi2/php/\n",
      "makedir ./dist/data/stackoverflow/lemma/nltk/T/31/featureselect/chi2/python/\n",
      "makedir ./dist/data/stackoverflow/lemma/nltk/T/31/featureselect/chi2/reactjs/\n",
      "makedir ./dist/data/stackoverflow/lemma/nltk/T/31/featureselect/chi2/scala/\n",
      "makedir ./dist/data/stackoverflow/lemma/nltk/T/31/featureselect/chi2/sql/\n",
      "makedir ./dist/data/stackoverflow/lemma/nltk/T/31/featureselect/f_classif/android/\n",
      "makedir ./dist/data/stackoverflow/lemma/nltk/T/31/featureselect/f_classif/git/\n",
      "makedir ./dist/data/stackoverflow/lemma/nltk/T/31/featureselect/f_classif/html/\n",
      "makedir ./dist/data/stackoverflow/lemma/nltk/T/31/featureselect/f_classif/javascript/\n",
      "makedir ./dist/data/stackoverflow/lemma/nltk/T/31/featureselect/f_classif/oracle/\n",
      "makedir ./dist/data/stackoverflow/lemma/nltk/T/31/featureselect/f_classif/pandas/\n",
      "makedir ./dist/data/stackoverflow/lemma/nltk/T/31/featureselect/f_classif/php/\n",
      "makedir ./dist/data/stackoverflow/lemma/nltk/T/31/featureselect/f_classif/python/\n",
      "makedir ./dist/data/stackoverflow/lemma/nltk/T/31/featureselect/f_classif/reactjs/\n",
      "makedir ./dist/data/stackoverflow/lemma/nltk/T/31/featureselect/f_classif/scala/\n",
      "makedir ./dist/data/stackoverflow/lemma/nltk/T/31/featureselect/f_classif/sql/\n",
      "makedir ./dist/data/stackoverflow/lemma/nltk/TI/00/featureselect/chi2/android/\n",
      "makedir ./dist/data/stackoverflow/lemma/nltk/TI/00/featureselect/chi2/git/\n",
      "makedir ./dist/data/stackoverflow/lemma/nltk/TI/00/featureselect/chi2/html/\n",
      "makedir ./dist/data/stackoverflow/lemma/nltk/TI/00/featureselect/chi2/javascript/\n",
      "makedir ./dist/data/stackoverflow/lemma/nltk/TI/00/featureselect/chi2/oracle/\n",
      "makedir ./dist/data/stackoverflow/lemma/nltk/TI/00/featureselect/chi2/pandas/\n",
      "makedir ./dist/data/stackoverflow/lemma/nltk/TI/00/featureselect/chi2/php/\n",
      "makedir ./dist/data/stackoverflow/lemma/nltk/TI/00/featureselect/chi2/python/\n",
      "makedir ./dist/data/stackoverflow/lemma/nltk/TI/00/featureselect/chi2/reactjs/\n",
      "makedir ./dist/data/stackoverflow/lemma/nltk/TI/00/featureselect/chi2/scala/\n",
      "makedir ./dist/data/stackoverflow/lemma/nltk/TI/00/featureselect/chi2/sql/\n",
      "makedir ./dist/data/stackoverflow/lemma/nltk/TI/00/featureselect/f_classif/android/\n"
     ]
    },
    {
     "name": "stderr",
     "output_type": "stream",
     "text": [
      "/home/glouwa/.local/lib/python3.6/site-packages/sklearn/feature_selection/univariate_selection.py:113: UserWarning:\n",
      "\n",
      "Features [ 132  677  704  997 1079 1375] are constant.\n",
      "\n",
      "/home/glouwa/.local/lib/python3.6/site-packages/sklearn/feature_selection/univariate_selection.py:114: RuntimeWarning:\n",
      "\n",
      "invalid value encountered in true_divide\n",
      "\n"
     ]
    },
    {
     "name": "stdout",
     "output_type": "stream",
     "text": [
      "makedir ./dist/data/stackoverflow/lemma/nltk/TI/00/featureselect/f_classif/git/\n",
      "makedir ./dist/data/stackoverflow/lemma/nltk/TI/00/featureselect/f_classif/html/\n",
      "makedir ./dist/data/stackoverflow/lemma/nltk/TI/00/featureselect/f_classif/javascript/\n",
      "makedir ./dist/data/stackoverflow/lemma/nltk/TI/00/featureselect/f_classif/oracle/\n",
      "makedir ./dist/data/stackoverflow/lemma/nltk/TI/00/featureselect/f_classif/pandas/\n",
      "makedir ./dist/data/stackoverflow/lemma/nltk/TI/00/featureselect/f_classif/php/\n",
      "makedir ./dist/data/stackoverflow/lemma/nltk/TI/00/featureselect/f_classif/python/\n",
      "makedir ./dist/data/stackoverflow/lemma/nltk/TI/00/featureselect/f_classif/reactjs/\n",
      "makedir ./dist/data/stackoverflow/lemma/nltk/TI/00/featureselect/f_classif/scala/\n",
      "makedir ./dist/data/stackoverflow/lemma/nltk/TI/00/featureselect/f_classif/sql/\n",
      "makedir ./dist/data/stackoverflow/lemma/nltk/TI/01/featureselect/chi2/android/\n",
      "makedir ./dist/data/stackoverflow/lemma/nltk/TI/01/featureselect/chi2/git/\n",
      "makedir ./dist/data/stackoverflow/lemma/nltk/TI/01/featureselect/chi2/html/\n",
      "makedir ./dist/data/stackoverflow/lemma/nltk/TI/01/featureselect/chi2/javascript/\n",
      "makedir ./dist/data/stackoverflow/lemma/nltk/TI/01/featureselect/chi2/oracle/\n",
      "makedir ./dist/data/stackoverflow/lemma/nltk/TI/01/featureselect/chi2/pandas/\n",
      "makedir ./dist/data/stackoverflow/lemma/nltk/TI/01/featureselect/chi2/php/\n",
      "makedir ./dist/data/stackoverflow/lemma/nltk/TI/01/featureselect/chi2/python/\n",
      "makedir ./dist/data/stackoverflow/lemma/nltk/TI/01/featureselect/chi2/reactjs/\n",
      "makedir ./dist/data/stackoverflow/lemma/nltk/TI/01/featureselect/chi2/scala/\n",
      "makedir ./dist/data/stackoverflow/lemma/nltk/TI/01/featureselect/chi2/sql/\n",
      "makedir ./dist/data/stackoverflow/lemma/nltk/TI/01/featureselect/f_classif/android/\n",
      "makedir ./dist/data/stackoverflow/lemma/nltk/TI/01/featureselect/f_classif/git/\n",
      "makedir ./dist/data/stackoverflow/lemma/nltk/TI/01/featureselect/f_classif/html/\n",
      "makedir ./dist/data/stackoverflow/lemma/nltk/TI/01/featureselect/f_classif/javascript/\n",
      "makedir ./dist/data/stackoverflow/lemma/nltk/TI/01/featureselect/f_classif/oracle/\n",
      "makedir ./dist/data/stackoverflow/lemma/nltk/TI/01/featureselect/f_classif/pandas/\n",
      "makedir ./dist/data/stackoverflow/lemma/nltk/TI/01/featureselect/f_classif/php/\n",
      "makedir ./dist/data/stackoverflow/lemma/nltk/TI/01/featureselect/f_classif/python/\n",
      "makedir ./dist/data/stackoverflow/lemma/nltk/TI/01/featureselect/f_classif/reactjs/\n",
      "makedir ./dist/data/stackoverflow/lemma/nltk/TI/01/featureselect/f_classif/scala/\n",
      "makedir ./dist/data/stackoverflow/lemma/nltk/TI/01/featureselect/f_classif/sql/\n",
      "makedir ./dist/data/stackoverflow/lemma/nltk/TI/10/featureselect/chi2/android/\n",
      "makedir ./dist/data/stackoverflow/lemma/nltk/TI/10/featureselect/chi2/git/\n",
      "makedir ./dist/data/stackoverflow/lemma/nltk/TI/10/featureselect/chi2/html/\n",
      "makedir ./dist/data/stackoverflow/lemma/nltk/TI/10/featureselect/chi2/javascript/\n",
      "makedir ./dist/data/stackoverflow/lemma/nltk/TI/10/featureselect/chi2/oracle/\n",
      "makedir ./dist/data/stackoverflow/lemma/nltk/TI/10/featureselect/chi2/pandas/\n",
      "makedir ./dist/data/stackoverflow/lemma/nltk/TI/10/featureselect/chi2/php/\n",
      "makedir ./dist/data/stackoverflow/lemma/nltk/TI/10/featureselect/chi2/python/\n",
      "makedir ./dist/data/stackoverflow/lemma/nltk/TI/10/featureselect/chi2/reactjs/\n",
      "makedir ./dist/data/stackoverflow/lemma/nltk/TI/10/featureselect/chi2/scala/\n",
      "makedir ./dist/data/stackoverflow/lemma/nltk/TI/10/featureselect/chi2/sql/\n",
      "makedir ./dist/data/stackoverflow/lemma/nltk/TI/10/featureselect/f_classif/android/\n",
      "makedir ./dist/data/stackoverflow/lemma/nltk/TI/10/featureselect/f_classif/git/\n",
      "makedir ./dist/data/stackoverflow/lemma/nltk/TI/10/featureselect/f_classif/html/\n",
      "makedir ./dist/data/stackoverflow/lemma/nltk/TI/10/featureselect/f_classif/javascript/\n",
      "makedir ./dist/data/stackoverflow/lemma/nltk/TI/10/featureselect/f_classif/oracle/\n",
      "makedir ./dist/data/stackoverflow/lemma/nltk/TI/10/featureselect/f_classif/pandas/\n",
      "makedir ./dist/data/stackoverflow/lemma/nltk/TI/10/featureselect/f_classif/php/\n",
      "makedir ./dist/data/stackoverflow/lemma/nltk/TI/10/featureselect/f_classif/python/\n",
      "makedir ./dist/data/stackoverflow/lemma/nltk/TI/10/featureselect/f_classif/reactjs/\n",
      "makedir ./dist/data/stackoverflow/lemma/nltk/TI/10/featureselect/f_classif/scala/\n",
      "makedir ./dist/data/stackoverflow/lemma/nltk/TI/10/featureselect/f_classif/sql/\n",
      "makedir ./dist/data/stackoverflow/lemma/nltk/TI/11/featureselect/chi2/android/\n",
      "makedir ./dist/data/stackoverflow/lemma/nltk/TI/11/featureselect/chi2/git/\n",
      "makedir ./dist/data/stackoverflow/lemma/nltk/TI/11/featureselect/chi2/html/\n",
      "makedir ./dist/data/stackoverflow/lemma/nltk/TI/11/featureselect/chi2/javascript/\n",
      "makedir ./dist/data/stackoverflow/lemma/nltk/TI/11/featureselect/chi2/oracle/\n",
      "makedir ./dist/data/stackoverflow/lemma/nltk/TI/11/featureselect/chi2/pandas/\n",
      "makedir ./dist/data/stackoverflow/lemma/nltk/TI/11/featureselect/chi2/php/\n",
      "makedir ./dist/data/stackoverflow/lemma/nltk/TI/11/featureselect/chi2/python/\n",
      "makedir ./dist/data/stackoverflow/lemma/nltk/TI/11/featureselect/chi2/reactjs/\n",
      "makedir ./dist/data/stackoverflow/lemma/nltk/TI/11/featureselect/chi2/scala/\n",
      "makedir ./dist/data/stackoverflow/lemma/nltk/TI/11/featureselect/chi2/sql/\n",
      "makedir ./dist/data/stackoverflow/lemma/nltk/TI/11/featureselect/f_classif/android/\n",
      "makedir ./dist/data/stackoverflow/lemma/nltk/TI/11/featureselect/f_classif/git/\n",
      "makedir ./dist/data/stackoverflow/lemma/nltk/TI/11/featureselect/f_classif/html/\n",
      "makedir ./dist/data/stackoverflow/lemma/nltk/TI/11/featureselect/f_classif/javascript/\n",
      "makedir ./dist/data/stackoverflow/lemma/nltk/TI/11/featureselect/f_classif/oracle/\n",
      "makedir ./dist/data/stackoverflow/lemma/nltk/TI/11/featureselect/f_classif/pandas/\n",
      "makedir ./dist/data/stackoverflow/lemma/nltk/TI/11/featureselect/f_classif/php/\n",
      "makedir ./dist/data/stackoverflow/lemma/nltk/TI/11/featureselect/f_classif/python/\n",
      "makedir ./dist/data/stackoverflow/lemma/nltk/TI/11/featureselect/f_classif/reactjs/\n",
      "makedir ./dist/data/stackoverflow/lemma/nltk/TI/11/featureselect/f_classif/scala/\n",
      "makedir ./dist/data/stackoverflow/lemma/nltk/TI/11/featureselect/f_classif/sql/\n",
      "makedir ./dist/data/stackoverflow/lemma/nltk/TI/30/featureselect/chi2/android/\n",
      "makedir ./dist/data/stackoverflow/lemma/nltk/TI/30/featureselect/chi2/git/\n",
      "makedir ./dist/data/stackoverflow/lemma/nltk/TI/30/featureselect/chi2/html/\n",
      "makedir ./dist/data/stackoverflow/lemma/nltk/TI/30/featureselect/chi2/javascript/\n",
      "makedir ./dist/data/stackoverflow/lemma/nltk/TI/30/featureselect/chi2/oracle/\n",
      "makedir ./dist/data/stackoverflow/lemma/nltk/TI/30/featureselect/chi2/pandas/\n",
      "makedir ./dist/data/stackoverflow/lemma/nltk/TI/30/featureselect/chi2/php/\n",
      "makedir ./dist/data/stackoverflow/lemma/nltk/TI/30/featureselect/chi2/python/\n",
      "makedir ./dist/data/stackoverflow/lemma/nltk/TI/30/featureselect/chi2/reactjs/\n",
      "makedir ./dist/data/stackoverflow/lemma/nltk/TI/30/featureselect/chi2/scala/\n",
      "makedir ./dist/data/stackoverflow/lemma/nltk/TI/30/featureselect/chi2/sql/\n",
      "makedir ./dist/data/stackoverflow/lemma/nltk/TI/30/featureselect/f_classif/android/\n",
      "makedir ./dist/data/stackoverflow/lemma/nltk/TI/30/featureselect/f_classif/git/\n",
      "makedir ./dist/data/stackoverflow/lemma/nltk/TI/30/featureselect/f_classif/html/\n",
      "makedir ./dist/data/stackoverflow/lemma/nltk/TI/30/featureselect/f_classif/javascript/\n",
      "makedir ./dist/data/stackoverflow/lemma/nltk/TI/30/featureselect/f_classif/oracle/\n",
      "makedir ./dist/data/stackoverflow/lemma/nltk/TI/30/featureselect/f_classif/pandas/\n",
      "makedir ./dist/data/stackoverflow/lemma/nltk/TI/30/featureselect/f_classif/php/\n",
      "makedir ./dist/data/stackoverflow/lemma/nltk/TI/30/featureselect/f_classif/python/\n",
      "makedir ./dist/data/stackoverflow/lemma/nltk/TI/30/featureselect/f_classif/reactjs/\n",
      "makedir ./dist/data/stackoverflow/lemma/nltk/TI/30/featureselect/f_classif/scala/\n",
      "makedir ./dist/data/stackoverflow/lemma/nltk/TI/30/featureselect/f_classif/sql/\n",
      "makedir ./dist/data/stackoverflow/lemma/nltk/TI/31/featureselect/chi2/android/\n",
      "makedir ./dist/data/stackoverflow/lemma/nltk/TI/31/featureselect/chi2/git/\n",
      "makedir ./dist/data/stackoverflow/lemma/nltk/TI/31/featureselect/chi2/html/\n",
      "makedir ./dist/data/stackoverflow/lemma/nltk/TI/31/featureselect/chi2/javascript/\n",
      "makedir ./dist/data/stackoverflow/lemma/nltk/TI/31/featureselect/chi2/oracle/\n",
      "makedir ./dist/data/stackoverflow/lemma/nltk/TI/31/featureselect/chi2/pandas/\n",
      "makedir ./dist/data/stackoverflow/lemma/nltk/TI/31/featureselect/chi2/php/\n",
      "makedir ./dist/data/stackoverflow/lemma/nltk/TI/31/featureselect/chi2/python/\n",
      "makedir ./dist/data/stackoverflow/lemma/nltk/TI/31/featureselect/chi2/reactjs/\n",
      "makedir ./dist/data/stackoverflow/lemma/nltk/TI/31/featureselect/chi2/scala/\n",
      "makedir ./dist/data/stackoverflow/lemma/nltk/TI/31/featureselect/chi2/sql/\n",
      "makedir ./dist/data/stackoverflow/lemma/nltk/TI/31/featureselect/f_classif/android/\n",
      "makedir ./dist/data/stackoverflow/lemma/nltk/TI/31/featureselect/f_classif/git/\n",
      "makedir ./dist/data/stackoverflow/lemma/nltk/TI/31/featureselect/f_classif/html/\n",
      "makedir ./dist/data/stackoverflow/lemma/nltk/TI/31/featureselect/f_classif/javascript/\n",
      "makedir ./dist/data/stackoverflow/lemma/nltk/TI/31/featureselect/f_classif/oracle/\n",
      "makedir ./dist/data/stackoverflow/lemma/nltk/TI/31/featureselect/f_classif/pandas/\n",
      "makedir ./dist/data/stackoverflow/lemma/nltk/TI/31/featureselect/f_classif/php/\n",
      "makedir ./dist/data/stackoverflow/lemma/nltk/TI/31/featureselect/f_classif/python/\n",
      "makedir ./dist/data/stackoverflow/lemma/nltk/TI/31/featureselect/f_classif/reactjs/\n",
      "makedir ./dist/data/stackoverflow/lemma/nltk/TI/31/featureselect/f_classif/scala/\n",
      "makedir ./dist/data/stackoverflow/lemma/nltk/TI/31/featureselect/f_classif/sql/\n",
      "makedir ./dist/data/stackoverflow/lemma/nltk/TI/32/featureselect/chi2/android/\n",
      "makedir ./dist/data/stackoverflow/lemma/nltk/TI/32/featureselect/chi2/git/\n",
      "makedir ./dist/data/stackoverflow/lemma/nltk/TI/32/featureselect/chi2/html/\n",
      "makedir ./dist/data/stackoverflow/lemma/nltk/TI/32/featureselect/chi2/javascript/\n",
      "makedir ./dist/data/stackoverflow/lemma/nltk/TI/32/featureselect/chi2/oracle/\n",
      "makedir ./dist/data/stackoverflow/lemma/nltk/TI/32/featureselect/chi2/pandas/\n",
      "makedir ./dist/data/stackoverflow/lemma/nltk/TI/32/featureselect/chi2/php/\n",
      "makedir ./dist/data/stackoverflow/lemma/nltk/TI/32/featureselect/chi2/python/\n",
      "makedir ./dist/data/stackoverflow/lemma/nltk/TI/32/featureselect/chi2/reactjs/\n",
      "makedir ./dist/data/stackoverflow/lemma/nltk/TI/32/featureselect/chi2/scala/\n",
      "makedir ./dist/data/stackoverflow/lemma/nltk/TI/32/featureselect/chi2/sql/\n",
      "makedir ./dist/data/stackoverflow/lemma/nltk/TI/32/featureselect/f_classif/android/\n",
      "makedir ./dist/data/stackoverflow/lemma/nltk/TI/32/featureselect/f_classif/git/\n",
      "makedir ./dist/data/stackoverflow/lemma/nltk/TI/32/featureselect/f_classif/html/\n",
      "makedir ./dist/data/stackoverflow/lemma/nltk/TI/32/featureselect/f_classif/javascript/\n",
      "makedir ./dist/data/stackoverflow/lemma/nltk/TI/32/featureselect/f_classif/oracle/\n",
      "makedir ./dist/data/stackoverflow/lemma/nltk/TI/32/featureselect/f_classif/pandas/\n",
      "makedir ./dist/data/stackoverflow/lemma/nltk/TI/32/featureselect/f_classif/php/\n",
      "makedir ./dist/data/stackoverflow/lemma/nltk/TI/32/featureselect/f_classif/python/\n",
      "makedir ./dist/data/stackoverflow/lemma/nltk/TI/32/featureselect/f_classif/reactjs/\n",
      "makedir ./dist/data/stackoverflow/lemma/nltk/TI/32/featureselect/f_classif/scala/\n",
      "makedir ./dist/data/stackoverflow/lemma/nltk/TI/32/featureselect/f_classif/sql/\n",
      "makedir ./dist/data/stackoverflow/lemma/nltk/TIB/00/featureselect/chi2/android/\n",
      "makedir ./dist/data/stackoverflow/lemma/nltk/TIB/00/featureselect/chi2/git/\n",
      "makedir ./dist/data/stackoverflow/lemma/nltk/TIB/00/featureselect/chi2/html/\n",
      "makedir ./dist/data/stackoverflow/lemma/nltk/TIB/00/featureselect/chi2/javascript/\n",
      "makedir ./dist/data/stackoverflow/lemma/nltk/TIB/00/featureselect/chi2/oracle/\n",
      "makedir ./dist/data/stackoverflow/lemma/nltk/TIB/00/featureselect/chi2/pandas/\n",
      "makedir ./dist/data/stackoverflow/lemma/nltk/TIB/00/featureselect/chi2/php/\n",
      "makedir ./dist/data/stackoverflow/lemma/nltk/TIB/00/featureselect/chi2/python/\n",
      "makedir ./dist/data/stackoverflow/lemma/nltk/TIB/00/featureselect/chi2/reactjs/\n",
      "makedir ./dist/data/stackoverflow/lemma/nltk/TIB/00/featureselect/chi2/scala/\n",
      "makedir ./dist/data/stackoverflow/lemma/nltk/TIB/00/featureselect/chi2/sql/\n",
      "makedir ./dist/data/stackoverflow/lemma/nltk/TIB/00/featureselect/f_classif/android/\n",
      "makedir ./dist/data/stackoverflow/lemma/nltk/TIB/00/featureselect/f_classif/git/\n",
      "makedir ./dist/data/stackoverflow/lemma/nltk/TIB/00/featureselect/f_classif/html/\n",
      "makedir ./dist/data/stackoverflow/lemma/nltk/TIB/00/featureselect/f_classif/javascript/\n",
      "makedir ./dist/data/stackoverflow/lemma/nltk/TIB/00/featureselect/f_classif/oracle/\n",
      "makedir ./dist/data/stackoverflow/lemma/nltk/TIB/00/featureselect/f_classif/pandas/\n",
      "makedir ./dist/data/stackoverflow/lemma/nltk/TIB/00/featureselect/f_classif/php/\n",
      "makedir ./dist/data/stackoverflow/lemma/nltk/TIB/00/featureselect/f_classif/python/\n",
      "makedir ./dist/data/stackoverflow/lemma/nltk/TIB/00/featureselect/f_classif/reactjs/\n",
      "makedir ./dist/data/stackoverflow/lemma/nltk/TIB/00/featureselect/f_classif/scala/\n",
      "makedir ./dist/data/stackoverflow/lemma/nltk/TIB/00/featureselect/f_classif/sql/\n",
      "makedir ./dist/data/stackoverflow/lemma/nltk/TIB/01/featureselect/chi2/android/\n",
      "makedir ./dist/data/stackoverflow/lemma/nltk/TIB/01/featureselect/chi2/git/\n",
      "makedir ./dist/data/stackoverflow/lemma/nltk/TIB/01/featureselect/chi2/html/\n",
      "makedir ./dist/data/stackoverflow/lemma/nltk/TIB/01/featureselect/chi2/javascript/\n",
      "makedir ./dist/data/stackoverflow/lemma/nltk/TIB/01/featureselect/chi2/oracle/\n",
      "makedir ./dist/data/stackoverflow/lemma/nltk/TIB/01/featureselect/chi2/pandas/\n",
      "makedir ./dist/data/stackoverflow/lemma/nltk/TIB/01/featureselect/chi2/php/\n",
      "makedir ./dist/data/stackoverflow/lemma/nltk/TIB/01/featureselect/chi2/python/\n",
      "makedir ./dist/data/stackoverflow/lemma/nltk/TIB/01/featureselect/chi2/reactjs/\n",
      "makedir ./dist/data/stackoverflow/lemma/nltk/TIB/01/featureselect/chi2/scala/\n",
      "makedir ./dist/data/stackoverflow/lemma/nltk/TIB/01/featureselect/chi2/sql/\n",
      "makedir ./dist/data/stackoverflow/lemma/nltk/TIB/01/featureselect/f_classif/android/\n",
      "makedir ./dist/data/stackoverflow/lemma/nltk/TIB/01/featureselect/f_classif/git/\n",
      "makedir ./dist/data/stackoverflow/lemma/nltk/TIB/01/featureselect/f_classif/html/\n",
      "makedir ./dist/data/stackoverflow/lemma/nltk/TIB/01/featureselect/f_classif/javascript/\n",
      "makedir ./dist/data/stackoverflow/lemma/nltk/TIB/01/featureselect/f_classif/oracle/\n",
      "makedir ./dist/data/stackoverflow/lemma/nltk/TIB/01/featureselect/f_classif/pandas/\n",
      "makedir ./dist/data/stackoverflow/lemma/nltk/TIB/01/featureselect/f_classif/php/\n",
      "makedir ./dist/data/stackoverflow/lemma/nltk/TIB/01/featureselect/f_classif/python/\n",
      "makedir ./dist/data/stackoverflow/lemma/nltk/TIB/01/featureselect/f_classif/reactjs/\n",
      "makedir ./dist/data/stackoverflow/lemma/nltk/TIB/01/featureselect/f_classif/scala/\n",
      "makedir ./dist/data/stackoverflow/lemma/nltk/TIB/01/featureselect/f_classif/sql/\n",
      "makedir ./dist/data/stackoverflow/lemma/nltk/TIB/10/featureselect/chi2/android/\n",
      "makedir ./dist/data/stackoverflow/lemma/nltk/TIB/10/featureselect/chi2/git/\n",
      "makedir ./dist/data/stackoverflow/lemma/nltk/TIB/10/featureselect/chi2/html/\n",
      "makedir ./dist/data/stackoverflow/lemma/nltk/TIB/10/featureselect/chi2/javascript/\n",
      "makedir ./dist/data/stackoverflow/lemma/nltk/TIB/10/featureselect/chi2/oracle/\n",
      "makedir ./dist/data/stackoverflow/lemma/nltk/TIB/10/featureselect/chi2/pandas/\n",
      "makedir ./dist/data/stackoverflow/lemma/nltk/TIB/10/featureselect/chi2/php/\n",
      "makedir ./dist/data/stackoverflow/lemma/nltk/TIB/10/featureselect/chi2/python/\n",
      "makedir ./dist/data/stackoverflow/lemma/nltk/TIB/10/featureselect/chi2/reactjs/\n",
      "makedir ./dist/data/stackoverflow/lemma/nltk/TIB/10/featureselect/chi2/scala/\n",
      "makedir ./dist/data/stackoverflow/lemma/nltk/TIB/10/featureselect/chi2/sql/\n",
      "makedir ./dist/data/stackoverflow/lemma/nltk/TIB/10/featureselect/f_classif/android/\n",
      "makedir ./dist/data/stackoverflow/lemma/nltk/TIB/10/featureselect/f_classif/git/\n",
      "makedir ./dist/data/stackoverflow/lemma/nltk/TIB/10/featureselect/f_classif/html/\n",
      "makedir ./dist/data/stackoverflow/lemma/nltk/TIB/10/featureselect/f_classif/javascript/\n",
      "makedir ./dist/data/stackoverflow/lemma/nltk/TIB/10/featureselect/f_classif/oracle/\n",
      "makedir ./dist/data/stackoverflow/lemma/nltk/TIB/10/featureselect/f_classif/pandas/\n",
      "makedir ./dist/data/stackoverflow/lemma/nltk/TIB/10/featureselect/f_classif/php/\n",
      "makedir ./dist/data/stackoverflow/lemma/nltk/TIB/10/featureselect/f_classif/python/\n",
      "makedir ./dist/data/stackoverflow/lemma/nltk/TIB/10/featureselect/f_classif/reactjs/\n",
      "makedir ./dist/data/stackoverflow/lemma/nltk/TIB/10/featureselect/f_classif/scala/\n",
      "makedir ./dist/data/stackoverflow/lemma/nltk/TIB/10/featureselect/f_classif/sql/\n",
      "makedir ./dist/data/stackoverflow/lemma/nltk/TIB/11/featureselect/chi2/android/\n",
      "makedir ./dist/data/stackoverflow/lemma/nltk/TIB/11/featureselect/chi2/git/\n",
      "makedir ./dist/data/stackoverflow/lemma/nltk/TIB/11/featureselect/chi2/html/\n",
      "makedir ./dist/data/stackoverflow/lemma/nltk/TIB/11/featureselect/chi2/javascript/\n",
      "makedir ./dist/data/stackoverflow/lemma/nltk/TIB/11/featureselect/chi2/oracle/\n",
      "makedir ./dist/data/stackoverflow/lemma/nltk/TIB/11/featureselect/chi2/pandas/\n",
      "makedir ./dist/data/stackoverflow/lemma/nltk/TIB/11/featureselect/chi2/php/\n",
      "makedir ./dist/data/stackoverflow/lemma/nltk/TIB/11/featureselect/chi2/python/\n",
      "makedir ./dist/data/stackoverflow/lemma/nltk/TIB/11/featureselect/chi2/reactjs/\n",
      "makedir ./dist/data/stackoverflow/lemma/nltk/TIB/11/featureselect/chi2/scala/\n",
      "makedir ./dist/data/stackoverflow/lemma/nltk/TIB/11/featureselect/chi2/sql/\n",
      "makedir ./dist/data/stackoverflow/lemma/nltk/TIB/11/featureselect/f_classif/android/\n",
      "makedir ./dist/data/stackoverflow/lemma/nltk/TIB/11/featureselect/f_classif/git/\n",
      "makedir ./dist/data/stackoverflow/lemma/nltk/TIB/11/featureselect/f_classif/html/\n",
      "makedir ./dist/data/stackoverflow/lemma/nltk/TIB/11/featureselect/f_classif/javascript/\n",
      "makedir ./dist/data/stackoverflow/lemma/nltk/TIB/11/featureselect/f_classif/oracle/\n",
      "makedir ./dist/data/stackoverflow/lemma/nltk/TIB/11/featureselect/f_classif/pandas/\n",
      "makedir ./dist/data/stackoverflow/lemma/nltk/TIB/11/featureselect/f_classif/php/\n",
      "makedir ./dist/data/stackoverflow/lemma/nltk/TIB/11/featureselect/f_classif/python/\n",
      "makedir ./dist/data/stackoverflow/lemma/nltk/TIB/11/featureselect/f_classif/reactjs/\n",
      "makedir ./dist/data/stackoverflow/lemma/nltk/TIB/11/featureselect/f_classif/scala/\n",
      "makedir ./dist/data/stackoverflow/lemma/nltk/TIB/11/featureselect/f_classif/sql/\n",
      "makedir ./dist/data/stackoverflow/lemma/nltk/TIB/30/featureselect/chi2/android/\n",
      "makedir ./dist/data/stackoverflow/lemma/nltk/TIB/30/featureselect/chi2/git/\n",
      "makedir ./dist/data/stackoverflow/lemma/nltk/TIB/30/featureselect/chi2/html/\n",
      "makedir ./dist/data/stackoverflow/lemma/nltk/TIB/30/featureselect/chi2/javascript/\n",
      "makedir ./dist/data/stackoverflow/lemma/nltk/TIB/30/featureselect/chi2/oracle/\n",
      "makedir ./dist/data/stackoverflow/lemma/nltk/TIB/30/featureselect/chi2/pandas/\n",
      "makedir ./dist/data/stackoverflow/lemma/nltk/TIB/30/featureselect/chi2/php/\n",
      "makedir ./dist/data/stackoverflow/lemma/nltk/TIB/30/featureselect/chi2/python/\n",
      "makedir ./dist/data/stackoverflow/lemma/nltk/TIB/30/featureselect/chi2/reactjs/\n",
      "makedir ./dist/data/stackoverflow/lemma/nltk/TIB/30/featureselect/chi2/scala/\n",
      "makedir ./dist/data/stackoverflow/lemma/nltk/TIB/30/featureselect/chi2/sql/\n",
      "makedir ./dist/data/stackoverflow/lemma/nltk/TIB/30/featureselect/f_classif/android/\n",
      "makedir ./dist/data/stackoverflow/lemma/nltk/TIB/30/featureselect/f_classif/git/\n",
      "makedir ./dist/data/stackoverflow/lemma/nltk/TIB/30/featureselect/f_classif/html/\n",
      "makedir ./dist/data/stackoverflow/lemma/nltk/TIB/30/featureselect/f_classif/javascript/\n",
      "makedir ./dist/data/stackoverflow/lemma/nltk/TIB/30/featureselect/f_classif/oracle/\n",
      "makedir ./dist/data/stackoverflow/lemma/nltk/TIB/30/featureselect/f_classif/pandas/\n",
      "makedir ./dist/data/stackoverflow/lemma/nltk/TIB/30/featureselect/f_classif/php/\n",
      "makedir ./dist/data/stackoverflow/lemma/nltk/TIB/30/featureselect/f_classif/python/\n",
      "makedir ./dist/data/stackoverflow/lemma/nltk/TIB/30/featureselect/f_classif/reactjs/\n",
      "makedir ./dist/data/stackoverflow/lemma/nltk/TIB/30/featureselect/f_classif/scala/\n",
      "makedir ./dist/data/stackoverflow/lemma/nltk/TIB/30/featureselect/f_classif/sql/\n",
      "makedir ./dist/data/stackoverflow/lemma/nltk/TIB/31/featureselect/chi2/android/\n",
      "makedir ./dist/data/stackoverflow/lemma/nltk/TIB/31/featureselect/chi2/git/\n",
      "makedir ./dist/data/stackoverflow/lemma/nltk/TIB/31/featureselect/chi2/html/\n",
      "makedir ./dist/data/stackoverflow/lemma/nltk/TIB/31/featureselect/chi2/javascript/\n",
      "makedir ./dist/data/stackoverflow/lemma/nltk/TIB/31/featureselect/chi2/oracle/\n",
      "makedir ./dist/data/stackoverflow/lemma/nltk/TIB/31/featureselect/chi2/pandas/\n",
      "makedir ./dist/data/stackoverflow/lemma/nltk/TIB/31/featureselect/chi2/php/\n",
      "makedir ./dist/data/stackoverflow/lemma/nltk/TIB/31/featureselect/chi2/python/\n",
      "makedir ./dist/data/stackoverflow/lemma/nltk/TIB/31/featureselect/chi2/reactjs/\n",
      "makedir ./dist/data/stackoverflow/lemma/nltk/TIB/31/featureselect/chi2/scala/\n",
      "makedir ./dist/data/stackoverflow/lemma/nltk/TIB/31/featureselect/chi2/sql/\n",
      "makedir ./dist/data/stackoverflow/lemma/nltk/TIB/31/featureselect/f_classif/android/\n",
      "makedir ./dist/data/stackoverflow/lemma/nltk/TIB/31/featureselect/f_classif/git/\n",
      "makedir ./dist/data/stackoverflow/lemma/nltk/TIB/31/featureselect/f_classif/html/\n",
      "makedir ./dist/data/stackoverflow/lemma/nltk/TIB/31/featureselect/f_classif/javascript/\n",
      "makedir ./dist/data/stackoverflow/lemma/nltk/TIB/31/featureselect/f_classif/oracle/\n",
      "makedir ./dist/data/stackoverflow/lemma/nltk/TIB/31/featureselect/f_classif/pandas/\n",
      "makedir ./dist/data/stackoverflow/lemma/nltk/TIB/31/featureselect/f_classif/php/\n",
      "makedir ./dist/data/stackoverflow/lemma/nltk/TIB/31/featureselect/f_classif/python/\n",
      "makedir ./dist/data/stackoverflow/lemma/nltk/TIB/31/featureselect/f_classif/reactjs/\n",
      "makedir ./dist/data/stackoverflow/lemma/nltk/TIB/31/featureselect/f_classif/scala/\n",
      "makedir ./dist/data/stackoverflow/lemma/nltk/TIB/31/featureselect/f_classif/sql/\n",
      "makedir ./dist/data/stackoverflow/lemma/nltk/TIB/32/featureselect/chi2/android/\n",
      "makedir ./dist/data/stackoverflow/lemma/nltk/TIB/32/featureselect/chi2/git/\n",
      "makedir ./dist/data/stackoverflow/lemma/nltk/TIB/32/featureselect/chi2/html/\n",
      "makedir ./dist/data/stackoverflow/lemma/nltk/TIB/32/featureselect/chi2/javascript/\n",
      "makedir ./dist/data/stackoverflow/lemma/nltk/TIB/32/featureselect/chi2/oracle/\n",
      "makedir ./dist/data/stackoverflow/lemma/nltk/TIB/32/featureselect/chi2/pandas/\n",
      "makedir ./dist/data/stackoverflow/lemma/nltk/TIB/32/featureselect/chi2/php/\n",
      "makedir ./dist/data/stackoverflow/lemma/nltk/TIB/32/featureselect/chi2/python/\n",
      "makedir ./dist/data/stackoverflow/lemma/nltk/TIB/32/featureselect/chi2/reactjs/\n",
      "makedir ./dist/data/stackoverflow/lemma/nltk/TIB/32/featureselect/chi2/scala/\n",
      "makedir ./dist/data/stackoverflow/lemma/nltk/TIB/32/featureselect/chi2/sql/\n",
      "makedir ./dist/data/stackoverflow/lemma/nltk/TIB/32/featureselect/f_classif/android/\n",
      "makedir ./dist/data/stackoverflow/lemma/nltk/TIB/32/featureselect/f_classif/git/\n",
      "makedir ./dist/data/stackoverflow/lemma/nltk/TIB/32/featureselect/f_classif/html/\n",
      "makedir ./dist/data/stackoverflow/lemma/nltk/TIB/32/featureselect/f_classif/javascript/\n",
      "makedir ./dist/data/stackoverflow/lemma/nltk/TIB/32/featureselect/f_classif/oracle/\n",
      "makedir ./dist/data/stackoverflow/lemma/nltk/TIB/32/featureselect/f_classif/pandas/\n",
      "makedir ./dist/data/stackoverflow/lemma/nltk/TIB/32/featureselect/f_classif/php/\n",
      "makedir ./dist/data/stackoverflow/lemma/nltk/TIB/32/featureselect/f_classif/python/\n",
      "makedir ./dist/data/stackoverflow/lemma/nltk/TIB/32/featureselect/f_classif/reactjs/\n",
      "makedir ./dist/data/stackoverflow/lemma/nltk/TIB/32/featureselect/f_classif/scala/\n",
      "makedir ./dist/data/stackoverflow/lemma/nltk/TIB/32/featureselect/f_classif/sql/\n",
      "makedir ./dist/data/stackoverflow/lemma/nltk/TIBC/00/featureselect/chi2/android/\n",
      "makedir ./dist/data/stackoverflow/lemma/nltk/TIBC/00/featureselect/chi2/git/\n",
      "makedir ./dist/data/stackoverflow/lemma/nltk/TIBC/00/featureselect/chi2/html/\n",
      "makedir ./dist/data/stackoverflow/lemma/nltk/TIBC/00/featureselect/chi2/javascript/\n",
      "makedir ./dist/data/stackoverflow/lemma/nltk/TIBC/00/featureselect/chi2/oracle/\n",
      "makedir ./dist/data/stackoverflow/lemma/nltk/TIBC/00/featureselect/chi2/pandas/\n",
      "makedir ./dist/data/stackoverflow/lemma/nltk/TIBC/00/featureselect/chi2/php/\n",
      "makedir ./dist/data/stackoverflow/lemma/nltk/TIBC/00/featureselect/chi2/python/\n",
      "makedir ./dist/data/stackoverflow/lemma/nltk/TIBC/00/featureselect/chi2/reactjs/\n",
      "makedir ./dist/data/stackoverflow/lemma/nltk/TIBC/00/featureselect/chi2/scala/\n",
      "makedir ./dist/data/stackoverflow/lemma/nltk/TIBC/00/featureselect/chi2/sql/\n",
      "makedir ./dist/data/stackoverflow/lemma/nltk/TIBC/00/featureselect/f_classif/android/\n",
      "makedir ./dist/data/stackoverflow/lemma/nltk/TIBC/00/featureselect/f_classif/git/\n",
      "makedir ./dist/data/stackoverflow/lemma/nltk/TIBC/00/featureselect/f_classif/html/\n",
      "makedir ./dist/data/stackoverflow/lemma/nltk/TIBC/00/featureselect/f_classif/javascript/\n",
      "makedir ./dist/data/stackoverflow/lemma/nltk/TIBC/00/featureselect/f_classif/oracle/\n",
      "makedir ./dist/data/stackoverflow/lemma/nltk/TIBC/00/featureselect/f_classif/pandas/\n",
      "makedir ./dist/data/stackoverflow/lemma/nltk/TIBC/00/featureselect/f_classif/php/\n",
      "makedir ./dist/data/stackoverflow/lemma/nltk/TIBC/00/featureselect/f_classif/python/\n",
      "makedir ./dist/data/stackoverflow/lemma/nltk/TIBC/00/featureselect/f_classif/reactjs/\n",
      "makedir ./dist/data/stackoverflow/lemma/nltk/TIBC/00/featureselect/f_classif/scala/\n",
      "makedir ./dist/data/stackoverflow/lemma/nltk/TIBC/00/featureselect/f_classif/sql/\n",
      "makedir ./dist/data/stackoverflow/lemma/nltk/TIBC/01/featureselect/chi2/android/\n",
      "makedir ./dist/data/stackoverflow/lemma/nltk/TIBC/01/featureselect/chi2/git/\n",
      "makedir ./dist/data/stackoverflow/lemma/nltk/TIBC/01/featureselect/chi2/html/\n",
      "makedir ./dist/data/stackoverflow/lemma/nltk/TIBC/01/featureselect/chi2/javascript/\n",
      "makedir ./dist/data/stackoverflow/lemma/nltk/TIBC/01/featureselect/chi2/oracle/\n",
      "makedir ./dist/data/stackoverflow/lemma/nltk/TIBC/01/featureselect/chi2/pandas/\n",
      "makedir ./dist/data/stackoverflow/lemma/nltk/TIBC/01/featureselect/chi2/php/\n",
      "makedir ./dist/data/stackoverflow/lemma/nltk/TIBC/01/featureselect/chi2/python/\n",
      "makedir ./dist/data/stackoverflow/lemma/nltk/TIBC/01/featureselect/chi2/reactjs/\n",
      "makedir ./dist/data/stackoverflow/lemma/nltk/TIBC/01/featureselect/chi2/scala/\n",
      "makedir ./dist/data/stackoverflow/lemma/nltk/TIBC/01/featureselect/chi2/sql/\n",
      "makedir ./dist/data/stackoverflow/lemma/nltk/TIBC/01/featureselect/f_classif/android/\n",
      "makedir ./dist/data/stackoverflow/lemma/nltk/TIBC/01/featureselect/f_classif/git/\n",
      "makedir ./dist/data/stackoverflow/lemma/nltk/TIBC/01/featureselect/f_classif/html/\n",
      "makedir ./dist/data/stackoverflow/lemma/nltk/TIBC/01/featureselect/f_classif/javascript/\n",
      "makedir ./dist/data/stackoverflow/lemma/nltk/TIBC/01/featureselect/f_classif/oracle/\n",
      "makedir ./dist/data/stackoverflow/lemma/nltk/TIBC/01/featureselect/f_classif/pandas/\n",
      "makedir ./dist/data/stackoverflow/lemma/nltk/TIBC/01/featureselect/f_classif/php/\n",
      "makedir ./dist/data/stackoverflow/lemma/nltk/TIBC/01/featureselect/f_classif/python/\n",
      "makedir ./dist/data/stackoverflow/lemma/nltk/TIBC/01/featureselect/f_classif/reactjs/\n",
      "makedir ./dist/data/stackoverflow/lemma/nltk/TIBC/01/featureselect/f_classif/scala/\n",
      "makedir ./dist/data/stackoverflow/lemma/nltk/TIBC/01/featureselect/f_classif/sql/\n",
      "makedir ./dist/data/stackoverflow/lemma/nltk/TIBC/10/featureselect/chi2/android/\n",
      "makedir ./dist/data/stackoverflow/lemma/nltk/TIBC/10/featureselect/chi2/git/\n",
      "makedir ./dist/data/stackoverflow/lemma/nltk/TIBC/10/featureselect/chi2/html/\n",
      "makedir ./dist/data/stackoverflow/lemma/nltk/TIBC/10/featureselect/chi2/javascript/\n",
      "makedir ./dist/data/stackoverflow/lemma/nltk/TIBC/10/featureselect/chi2/oracle/\n",
      "makedir ./dist/data/stackoverflow/lemma/nltk/TIBC/10/featureselect/chi2/pandas/\n",
      "makedir ./dist/data/stackoverflow/lemma/nltk/TIBC/10/featureselect/chi2/php/\n",
      "makedir ./dist/data/stackoverflow/lemma/nltk/TIBC/10/featureselect/chi2/python/\n",
      "makedir ./dist/data/stackoverflow/lemma/nltk/TIBC/10/featureselect/chi2/reactjs/\n",
      "makedir ./dist/data/stackoverflow/lemma/nltk/TIBC/10/featureselect/chi2/scala/\n",
      "makedir ./dist/data/stackoverflow/lemma/nltk/TIBC/10/featureselect/chi2/sql/\n",
      "makedir ./dist/data/stackoverflow/lemma/nltk/TIBC/10/featureselect/f_classif/android/\n",
      "makedir ./dist/data/stackoverflow/lemma/nltk/TIBC/10/featureselect/f_classif/git/\n",
      "makedir ./dist/data/stackoverflow/lemma/nltk/TIBC/10/featureselect/f_classif/html/\n",
      "makedir ./dist/data/stackoverflow/lemma/nltk/TIBC/10/featureselect/f_classif/javascript/\n",
      "makedir ./dist/data/stackoverflow/lemma/nltk/TIBC/10/featureselect/f_classif/oracle/\n",
      "makedir ./dist/data/stackoverflow/lemma/nltk/TIBC/10/featureselect/f_classif/pandas/\n",
      "makedir ./dist/data/stackoverflow/lemma/nltk/TIBC/10/featureselect/f_classif/php/\n",
      "makedir ./dist/data/stackoverflow/lemma/nltk/TIBC/10/featureselect/f_classif/python/\n",
      "makedir ./dist/data/stackoverflow/lemma/nltk/TIBC/10/featureselect/f_classif/reactjs/\n",
      "makedir ./dist/data/stackoverflow/lemma/nltk/TIBC/10/featureselect/f_classif/scala/\n",
      "makedir ./dist/data/stackoverflow/lemma/nltk/TIBC/10/featureselect/f_classif/sql/\n",
      "makedir ./dist/data/stackoverflow/lemma/nltk/TIBC/11/featureselect/chi2/android/\n",
      "makedir ./dist/data/stackoverflow/lemma/nltk/TIBC/11/featureselect/chi2/git/\n",
      "makedir ./dist/data/stackoverflow/lemma/nltk/TIBC/11/featureselect/chi2/html/\n",
      "makedir ./dist/data/stackoverflow/lemma/nltk/TIBC/11/featureselect/chi2/javascript/\n",
      "makedir ./dist/data/stackoverflow/lemma/nltk/TIBC/11/featureselect/chi2/oracle/\n",
      "makedir ./dist/data/stackoverflow/lemma/nltk/TIBC/11/featureselect/chi2/pandas/\n",
      "makedir ./dist/data/stackoverflow/lemma/nltk/TIBC/11/featureselect/chi2/php/\n",
      "makedir ./dist/data/stackoverflow/lemma/nltk/TIBC/11/featureselect/chi2/python/\n",
      "makedir ./dist/data/stackoverflow/lemma/nltk/TIBC/11/featureselect/chi2/reactjs/\n",
      "makedir ./dist/data/stackoverflow/lemma/nltk/TIBC/11/featureselect/chi2/scala/\n",
      "makedir ./dist/data/stackoverflow/lemma/nltk/TIBC/11/featureselect/chi2/sql/\n",
      "makedir ./dist/data/stackoverflow/lemma/nltk/TIBC/11/featureselect/f_classif/android/\n",
      "makedir ./dist/data/stackoverflow/lemma/nltk/TIBC/11/featureselect/f_classif/git/\n",
      "makedir ./dist/data/stackoverflow/lemma/nltk/TIBC/11/featureselect/f_classif/html/\n",
      "makedir ./dist/data/stackoverflow/lemma/nltk/TIBC/11/featureselect/f_classif/javascript/\n",
      "makedir ./dist/data/stackoverflow/lemma/nltk/TIBC/11/featureselect/f_classif/oracle/\n",
      "makedir ./dist/data/stackoverflow/lemma/nltk/TIBC/11/featureselect/f_classif/pandas/\n",
      "makedir ./dist/data/stackoverflow/lemma/nltk/TIBC/11/featureselect/f_classif/php/\n",
      "makedir ./dist/data/stackoverflow/lemma/nltk/TIBC/11/featureselect/f_classif/python/\n",
      "makedir ./dist/data/stackoverflow/lemma/nltk/TIBC/11/featureselect/f_classif/reactjs/\n",
      "makedir ./dist/data/stackoverflow/lemma/nltk/TIBC/11/featureselect/f_classif/scala/\n",
      "makedir ./dist/data/stackoverflow/lemma/nltk/TIBC/11/featureselect/f_classif/sql/\n",
      "makedir ./dist/data/stackoverflow/lemma/nltk/TIBC/30/featureselect/chi2/android/\n",
      "makedir ./dist/data/stackoverflow/lemma/nltk/TIBC/30/featureselect/chi2/git/\n",
      "makedir ./dist/data/stackoverflow/lemma/nltk/TIBC/30/featureselect/chi2/html/\n",
      "makedir ./dist/data/stackoverflow/lemma/nltk/TIBC/30/featureselect/chi2/javascript/\n",
      "makedir ./dist/data/stackoverflow/lemma/nltk/TIBC/30/featureselect/chi2/oracle/\n",
      "makedir ./dist/data/stackoverflow/lemma/nltk/TIBC/30/featureselect/chi2/pandas/\n",
      "makedir ./dist/data/stackoverflow/lemma/nltk/TIBC/30/featureselect/chi2/php/\n",
      "makedir ./dist/data/stackoverflow/lemma/nltk/TIBC/30/featureselect/chi2/python/\n",
      "makedir ./dist/data/stackoverflow/lemma/nltk/TIBC/30/featureselect/chi2/reactjs/\n",
      "makedir ./dist/data/stackoverflow/lemma/nltk/TIBC/30/featureselect/chi2/scala/\n",
      "makedir ./dist/data/stackoverflow/lemma/nltk/TIBC/30/featureselect/chi2/sql/\n",
      "makedir ./dist/data/stackoverflow/lemma/nltk/TIBC/30/featureselect/f_classif/android/\n",
      "makedir ./dist/data/stackoverflow/lemma/nltk/TIBC/30/featureselect/f_classif/git/\n",
      "makedir ./dist/data/stackoverflow/lemma/nltk/TIBC/30/featureselect/f_classif/html/\n",
      "makedir ./dist/data/stackoverflow/lemma/nltk/TIBC/30/featureselect/f_classif/javascript/\n",
      "makedir ./dist/data/stackoverflow/lemma/nltk/TIBC/30/featureselect/f_classif/oracle/\n",
      "makedir ./dist/data/stackoverflow/lemma/nltk/TIBC/30/featureselect/f_classif/pandas/\n",
      "makedir ./dist/data/stackoverflow/lemma/nltk/TIBC/30/featureselect/f_classif/php/\n",
      "makedir ./dist/data/stackoverflow/lemma/nltk/TIBC/30/featureselect/f_classif/python/\n",
      "makedir ./dist/data/stackoverflow/lemma/nltk/TIBC/30/featureselect/f_classif/reactjs/\n",
      "makedir ./dist/data/stackoverflow/lemma/nltk/TIBC/30/featureselect/f_classif/scala/\n",
      "makedir ./dist/data/stackoverflow/lemma/nltk/TIBC/30/featureselect/f_classif/sql/\n",
      "makedir ./dist/data/stackoverflow/lemma/nltk/TIBC/31/featureselect/chi2/android/\n",
      "makedir ./dist/data/stackoverflow/lemma/nltk/TIBC/31/featureselect/chi2/git/\n",
      "makedir ./dist/data/stackoverflow/lemma/nltk/TIBC/31/featureselect/chi2/html/\n",
      "makedir ./dist/data/stackoverflow/lemma/nltk/TIBC/31/featureselect/chi2/javascript/\n",
      "makedir ./dist/data/stackoverflow/lemma/nltk/TIBC/31/featureselect/chi2/oracle/\n",
      "makedir ./dist/data/stackoverflow/lemma/nltk/TIBC/31/featureselect/chi2/pandas/\n",
      "makedir ./dist/data/stackoverflow/lemma/nltk/TIBC/31/featureselect/chi2/php/\n",
      "makedir ./dist/data/stackoverflow/lemma/nltk/TIBC/31/featureselect/chi2/python/\n",
      "makedir ./dist/data/stackoverflow/lemma/nltk/TIBC/31/featureselect/chi2/reactjs/\n",
      "makedir ./dist/data/stackoverflow/lemma/nltk/TIBC/31/featureselect/chi2/scala/\n",
      "makedir ./dist/data/stackoverflow/lemma/nltk/TIBC/31/featureselect/chi2/sql/\n",
      "makedir ./dist/data/stackoverflow/lemma/nltk/TIBC/31/featureselect/f_classif/android/\n",
      "makedir ./dist/data/stackoverflow/lemma/nltk/TIBC/31/featureselect/f_classif/git/\n",
      "makedir ./dist/data/stackoverflow/lemma/nltk/TIBC/31/featureselect/f_classif/html/\n",
      "makedir ./dist/data/stackoverflow/lemma/nltk/TIBC/31/featureselect/f_classif/javascript/\n",
      "makedir ./dist/data/stackoverflow/lemma/nltk/TIBC/31/featureselect/f_classif/oracle/\n",
      "makedir ./dist/data/stackoverflow/lemma/nltk/TIBC/31/featureselect/f_classif/pandas/\n",
      "makedir ./dist/data/stackoverflow/lemma/nltk/TIBC/31/featureselect/f_classif/php/\n",
      "makedir ./dist/data/stackoverflow/lemma/nltk/TIBC/31/featureselect/f_classif/python/\n",
      "makedir ./dist/data/stackoverflow/lemma/nltk/TIBC/31/featureselect/f_classif/reactjs/\n",
      "makedir ./dist/data/stackoverflow/lemma/nltk/TIBC/31/featureselect/f_classif/scala/\n",
      "makedir ./dist/data/stackoverflow/lemma/nltk/TIBC/31/featureselect/f_classif/sql/\n",
      "makedir ./dist/data/stackoverflow/lemma/nltk/TIBC/32/featureselect/chi2/android/\n",
      "makedir ./dist/data/stackoverflow/lemma/nltk/TIBC/32/featureselect/chi2/git/\n",
      "makedir ./dist/data/stackoverflow/lemma/nltk/TIBC/32/featureselect/chi2/html/\n",
      "makedir ./dist/data/stackoverflow/lemma/nltk/TIBC/32/featureselect/chi2/javascript/\n",
      "makedir ./dist/data/stackoverflow/lemma/nltk/TIBC/32/featureselect/chi2/oracle/\n",
      "makedir ./dist/data/stackoverflow/lemma/nltk/TIBC/32/featureselect/chi2/pandas/\n",
      "makedir ./dist/data/stackoverflow/lemma/nltk/TIBC/32/featureselect/chi2/php/\n",
      "makedir ./dist/data/stackoverflow/lemma/nltk/TIBC/32/featureselect/chi2/python/\n",
      "makedir ./dist/data/stackoverflow/lemma/nltk/TIBC/32/featureselect/chi2/reactjs/\n",
      "makedir ./dist/data/stackoverflow/lemma/nltk/TIBC/32/featureselect/chi2/scala/\n",
      "makedir ./dist/data/stackoverflow/lemma/nltk/TIBC/32/featureselect/chi2/sql/\n",
      "makedir ./dist/data/stackoverflow/lemma/nltk/TIBC/32/featureselect/f_classif/android/\n",
      "makedir ./dist/data/stackoverflow/lemma/nltk/TIBC/32/featureselect/f_classif/git/\n",
      "makedir ./dist/data/stackoverflow/lemma/nltk/TIBC/32/featureselect/f_classif/html/\n",
      "makedir ./dist/data/stackoverflow/lemma/nltk/TIBC/32/featureselect/f_classif/javascript/\n",
      "makedir ./dist/data/stackoverflow/lemma/nltk/TIBC/32/featureselect/f_classif/oracle/\n",
      "makedir ./dist/data/stackoverflow/lemma/nltk/TIBC/32/featureselect/f_classif/pandas/\n",
      "makedir ./dist/data/stackoverflow/lemma/nltk/TIBC/32/featureselect/f_classif/php/\n",
      "makedir ./dist/data/stackoverflow/lemma/nltk/TIBC/32/featureselect/f_classif/python/\n",
      "makedir ./dist/data/stackoverflow/lemma/nltk/TIBC/32/featureselect/f_classif/reactjs/\n",
      "makedir ./dist/data/stackoverflow/lemma/nltk/TIBC/32/featureselect/f_classif/scala/\n",
      "makedir ./dist/data/stackoverflow/lemma/nltk/TIBC/32/featureselect/f_classif/sql/\n",
      "makedir ./dist/data/stackoverflow/lemma/nltk/TIC/00/featureselect/chi2/android/\n",
      "makedir ./dist/data/stackoverflow/lemma/nltk/TIC/00/featureselect/chi2/git/\n",
      "makedir ./dist/data/stackoverflow/lemma/nltk/TIC/00/featureselect/chi2/html/\n",
      "makedir ./dist/data/stackoverflow/lemma/nltk/TIC/00/featureselect/chi2/javascript/\n",
      "makedir ./dist/data/stackoverflow/lemma/nltk/TIC/00/featureselect/chi2/oracle/\n",
      "makedir ./dist/data/stackoverflow/lemma/nltk/TIC/00/featureselect/chi2/pandas/\n",
      "makedir ./dist/data/stackoverflow/lemma/nltk/TIC/00/featureselect/chi2/php/\n",
      "makedir ./dist/data/stackoverflow/lemma/nltk/TIC/00/featureselect/chi2/python/\n",
      "makedir ./dist/data/stackoverflow/lemma/nltk/TIC/00/featureselect/chi2/reactjs/\n",
      "makedir ./dist/data/stackoverflow/lemma/nltk/TIC/00/featureselect/chi2/scala/\n",
      "makedir ./dist/data/stackoverflow/lemma/nltk/TIC/00/featureselect/chi2/sql/\n",
      "makedir ./dist/data/stackoverflow/lemma/nltk/TIC/00/featureselect/f_classif/android/\n",
      "makedir ./dist/data/stackoverflow/lemma/nltk/TIC/00/featureselect/f_classif/git/\n",
      "makedir ./dist/data/stackoverflow/lemma/nltk/TIC/00/featureselect/f_classif/html/\n",
      "makedir ./dist/data/stackoverflow/lemma/nltk/TIC/00/featureselect/f_classif/javascript/\n",
      "makedir ./dist/data/stackoverflow/lemma/nltk/TIC/00/featureselect/f_classif/oracle/\n",
      "makedir ./dist/data/stackoverflow/lemma/nltk/TIC/00/featureselect/f_classif/pandas/\n",
      "makedir ./dist/data/stackoverflow/lemma/nltk/TIC/00/featureselect/f_classif/php/\n",
      "makedir ./dist/data/stackoverflow/lemma/nltk/TIC/00/featureselect/f_classif/python/\n",
      "makedir ./dist/data/stackoverflow/lemma/nltk/TIC/00/featureselect/f_classif/reactjs/\n",
      "makedir ./dist/data/stackoverflow/lemma/nltk/TIC/00/featureselect/f_classif/scala/\n",
      "makedir ./dist/data/stackoverflow/lemma/nltk/TIC/00/featureselect/f_classif/sql/\n",
      "makedir ./dist/data/stackoverflow/lemma/nltk/TIC/01/featureselect/chi2/android/\n",
      "makedir ./dist/data/stackoverflow/lemma/nltk/TIC/01/featureselect/chi2/git/\n",
      "makedir ./dist/data/stackoverflow/lemma/nltk/TIC/01/featureselect/chi2/html/\n",
      "makedir ./dist/data/stackoverflow/lemma/nltk/TIC/01/featureselect/chi2/javascript/\n",
      "makedir ./dist/data/stackoverflow/lemma/nltk/TIC/01/featureselect/chi2/oracle/\n",
      "makedir ./dist/data/stackoverflow/lemma/nltk/TIC/01/featureselect/chi2/pandas/\n",
      "makedir ./dist/data/stackoverflow/lemma/nltk/TIC/01/featureselect/chi2/php/\n",
      "makedir ./dist/data/stackoverflow/lemma/nltk/TIC/01/featureselect/chi2/python/\n",
      "makedir ./dist/data/stackoverflow/lemma/nltk/TIC/01/featureselect/chi2/reactjs/\n",
      "makedir ./dist/data/stackoverflow/lemma/nltk/TIC/01/featureselect/chi2/scala/\n",
      "makedir ./dist/data/stackoverflow/lemma/nltk/TIC/01/featureselect/chi2/sql/\n",
      "makedir ./dist/data/stackoverflow/lemma/nltk/TIC/01/featureselect/f_classif/android/\n",
      "makedir ./dist/data/stackoverflow/lemma/nltk/TIC/01/featureselect/f_classif/git/\n",
      "makedir ./dist/data/stackoverflow/lemma/nltk/TIC/01/featureselect/f_classif/html/\n",
      "makedir ./dist/data/stackoverflow/lemma/nltk/TIC/01/featureselect/f_classif/javascript/\n",
      "makedir ./dist/data/stackoverflow/lemma/nltk/TIC/01/featureselect/f_classif/oracle/\n",
      "makedir ./dist/data/stackoverflow/lemma/nltk/TIC/01/featureselect/f_classif/pandas/\n",
      "makedir ./dist/data/stackoverflow/lemma/nltk/TIC/01/featureselect/f_classif/php/\n",
      "makedir ./dist/data/stackoverflow/lemma/nltk/TIC/01/featureselect/f_classif/python/\n",
      "makedir ./dist/data/stackoverflow/lemma/nltk/TIC/01/featureselect/f_classif/reactjs/\n",
      "makedir ./dist/data/stackoverflow/lemma/nltk/TIC/01/featureselect/f_classif/scala/\n",
      "makedir ./dist/data/stackoverflow/lemma/nltk/TIC/01/featureselect/f_classif/sql/\n",
      "makedir ./dist/data/stackoverflow/lemma/nltk/TIC/10/featureselect/chi2/android/\n",
      "makedir ./dist/data/stackoverflow/lemma/nltk/TIC/10/featureselect/chi2/git/\n",
      "makedir ./dist/data/stackoverflow/lemma/nltk/TIC/10/featureselect/chi2/html/\n",
      "makedir ./dist/data/stackoverflow/lemma/nltk/TIC/10/featureselect/chi2/javascript/\n",
      "makedir ./dist/data/stackoverflow/lemma/nltk/TIC/10/featureselect/chi2/oracle/\n",
      "makedir ./dist/data/stackoverflow/lemma/nltk/TIC/10/featureselect/chi2/pandas/\n",
      "makedir ./dist/data/stackoverflow/lemma/nltk/TIC/10/featureselect/chi2/php/\n",
      "makedir ./dist/data/stackoverflow/lemma/nltk/TIC/10/featureselect/chi2/python/\n",
      "makedir ./dist/data/stackoverflow/lemma/nltk/TIC/10/featureselect/chi2/reactjs/\n",
      "makedir ./dist/data/stackoverflow/lemma/nltk/TIC/10/featureselect/chi2/scala/\n",
      "makedir ./dist/data/stackoverflow/lemma/nltk/TIC/10/featureselect/chi2/sql/\n",
      "makedir ./dist/data/stackoverflow/lemma/nltk/TIC/10/featureselect/f_classif/android/\n",
      "makedir ./dist/data/stackoverflow/lemma/nltk/TIC/10/featureselect/f_classif/git/\n",
      "makedir ./dist/data/stackoverflow/lemma/nltk/TIC/10/featureselect/f_classif/html/\n",
      "makedir ./dist/data/stackoverflow/lemma/nltk/TIC/10/featureselect/f_classif/javascript/\n",
      "makedir ./dist/data/stackoverflow/lemma/nltk/TIC/10/featureselect/f_classif/oracle/\n",
      "makedir ./dist/data/stackoverflow/lemma/nltk/TIC/10/featureselect/f_classif/pandas/\n",
      "makedir ./dist/data/stackoverflow/lemma/nltk/TIC/10/featureselect/f_classif/php/\n",
      "makedir ./dist/data/stackoverflow/lemma/nltk/TIC/10/featureselect/f_classif/python/\n",
      "makedir ./dist/data/stackoverflow/lemma/nltk/TIC/10/featureselect/f_classif/reactjs/\n",
      "makedir ./dist/data/stackoverflow/lemma/nltk/TIC/10/featureselect/f_classif/scala/\n",
      "makedir ./dist/data/stackoverflow/lemma/nltk/TIC/10/featureselect/f_classif/sql/\n",
      "makedir ./dist/data/stackoverflow/lemma/nltk/TIC/11/featureselect/chi2/android/\n",
      "makedir ./dist/data/stackoverflow/lemma/nltk/TIC/11/featureselect/chi2/git/\n",
      "makedir ./dist/data/stackoverflow/lemma/nltk/TIC/11/featureselect/chi2/html/\n",
      "makedir ./dist/data/stackoverflow/lemma/nltk/TIC/11/featureselect/chi2/javascript/\n",
      "makedir ./dist/data/stackoverflow/lemma/nltk/TIC/11/featureselect/chi2/oracle/\n",
      "makedir ./dist/data/stackoverflow/lemma/nltk/TIC/11/featureselect/chi2/pandas/\n",
      "makedir ./dist/data/stackoverflow/lemma/nltk/TIC/11/featureselect/chi2/php/\n",
      "makedir ./dist/data/stackoverflow/lemma/nltk/TIC/11/featureselect/chi2/python/\n",
      "makedir ./dist/data/stackoverflow/lemma/nltk/TIC/11/featureselect/chi2/reactjs/\n",
      "makedir ./dist/data/stackoverflow/lemma/nltk/TIC/11/featureselect/chi2/scala/\n",
      "makedir ./dist/data/stackoverflow/lemma/nltk/TIC/11/featureselect/chi2/sql/\n",
      "makedir ./dist/data/stackoverflow/lemma/nltk/TIC/11/featureselect/f_classif/android/\n",
      "makedir ./dist/data/stackoverflow/lemma/nltk/TIC/11/featureselect/f_classif/git/\n",
      "makedir ./dist/data/stackoverflow/lemma/nltk/TIC/11/featureselect/f_classif/html/\n",
      "makedir ./dist/data/stackoverflow/lemma/nltk/TIC/11/featureselect/f_classif/javascript/\n",
      "makedir ./dist/data/stackoverflow/lemma/nltk/TIC/11/featureselect/f_classif/oracle/\n",
      "makedir ./dist/data/stackoverflow/lemma/nltk/TIC/11/featureselect/f_classif/pandas/\n",
      "makedir ./dist/data/stackoverflow/lemma/nltk/TIC/11/featureselect/f_classif/php/\n",
      "makedir ./dist/data/stackoverflow/lemma/nltk/TIC/11/featureselect/f_classif/python/\n",
      "makedir ./dist/data/stackoverflow/lemma/nltk/TIC/11/featureselect/f_classif/reactjs/\n",
      "makedir ./dist/data/stackoverflow/lemma/nltk/TIC/11/featureselect/f_classif/scala/\n",
      "makedir ./dist/data/stackoverflow/lemma/nltk/TIC/11/featureselect/f_classif/sql/\n",
      "makedir ./dist/data/stackoverflow/lemma/nltk/TIC/30/featureselect/chi2/android/\n",
      "makedir ./dist/data/stackoverflow/lemma/nltk/TIC/30/featureselect/chi2/git/\n",
      "makedir ./dist/data/stackoverflow/lemma/nltk/TIC/30/featureselect/chi2/html/\n",
      "makedir ./dist/data/stackoverflow/lemma/nltk/TIC/30/featureselect/chi2/javascript/\n",
      "makedir ./dist/data/stackoverflow/lemma/nltk/TIC/30/featureselect/chi2/oracle/\n",
      "makedir ./dist/data/stackoverflow/lemma/nltk/TIC/30/featureselect/chi2/pandas/\n",
      "makedir ./dist/data/stackoverflow/lemma/nltk/TIC/30/featureselect/chi2/php/\n",
      "makedir ./dist/data/stackoverflow/lemma/nltk/TIC/30/featureselect/chi2/python/\n",
      "makedir ./dist/data/stackoverflow/lemma/nltk/TIC/30/featureselect/chi2/reactjs/\n",
      "makedir ./dist/data/stackoverflow/lemma/nltk/TIC/30/featureselect/chi2/scala/\n",
      "makedir ./dist/data/stackoverflow/lemma/nltk/TIC/30/featureselect/chi2/sql/\n",
      "makedir ./dist/data/stackoverflow/lemma/nltk/TIC/30/featureselect/f_classif/android/\n",
      "makedir ./dist/data/stackoverflow/lemma/nltk/TIC/30/featureselect/f_classif/git/\n",
      "makedir ./dist/data/stackoverflow/lemma/nltk/TIC/30/featureselect/f_classif/html/\n",
      "makedir ./dist/data/stackoverflow/lemma/nltk/TIC/30/featureselect/f_classif/javascript/\n",
      "makedir ./dist/data/stackoverflow/lemma/nltk/TIC/30/featureselect/f_classif/oracle/\n",
      "makedir ./dist/data/stackoverflow/lemma/nltk/TIC/30/featureselect/f_classif/pandas/\n",
      "makedir ./dist/data/stackoverflow/lemma/nltk/TIC/30/featureselect/f_classif/php/\n",
      "makedir ./dist/data/stackoverflow/lemma/nltk/TIC/30/featureselect/f_classif/python/\n",
      "makedir ./dist/data/stackoverflow/lemma/nltk/TIC/30/featureselect/f_classif/reactjs/\n",
      "makedir ./dist/data/stackoverflow/lemma/nltk/TIC/30/featureselect/f_classif/scala/\n",
      "makedir ./dist/data/stackoverflow/lemma/nltk/TIC/30/featureselect/f_classif/sql/\n",
      "makedir ./dist/data/stackoverflow/lemma/nltk/TIC/31/featureselect/chi2/android/\n",
      "makedir ./dist/data/stackoverflow/lemma/nltk/TIC/31/featureselect/chi2/git/\n",
      "makedir ./dist/data/stackoverflow/lemma/nltk/TIC/31/featureselect/chi2/html/\n",
      "makedir ./dist/data/stackoverflow/lemma/nltk/TIC/31/featureselect/chi2/javascript/\n",
      "makedir ./dist/data/stackoverflow/lemma/nltk/TIC/31/featureselect/chi2/oracle/\n",
      "makedir ./dist/data/stackoverflow/lemma/nltk/TIC/31/featureselect/chi2/pandas/\n",
      "makedir ./dist/data/stackoverflow/lemma/nltk/TIC/31/featureselect/chi2/php/\n",
      "makedir ./dist/data/stackoverflow/lemma/nltk/TIC/31/featureselect/chi2/python/\n",
      "makedir ./dist/data/stackoverflow/lemma/nltk/TIC/31/featureselect/chi2/reactjs/\n",
      "makedir ./dist/data/stackoverflow/lemma/nltk/TIC/31/featureselect/chi2/scala/\n",
      "makedir ./dist/data/stackoverflow/lemma/nltk/TIC/31/featureselect/chi2/sql/\n",
      "makedir ./dist/data/stackoverflow/lemma/nltk/TIC/31/featureselect/f_classif/android/\n",
      "makedir ./dist/data/stackoverflow/lemma/nltk/TIC/31/featureselect/f_classif/git/\n",
      "makedir ./dist/data/stackoverflow/lemma/nltk/TIC/31/featureselect/f_classif/html/\n",
      "makedir ./dist/data/stackoverflow/lemma/nltk/TIC/31/featureselect/f_classif/javascript/\n",
      "makedir ./dist/data/stackoverflow/lemma/nltk/TIC/31/featureselect/f_classif/oracle/\n",
      "makedir ./dist/data/stackoverflow/lemma/nltk/TIC/31/featureselect/f_classif/pandas/\n",
      "makedir ./dist/data/stackoverflow/lemma/nltk/TIC/31/featureselect/f_classif/php/\n",
      "makedir ./dist/data/stackoverflow/lemma/nltk/TIC/31/featureselect/f_classif/python/\n",
      "makedir ./dist/data/stackoverflow/lemma/nltk/TIC/31/featureselect/f_classif/reactjs/\n",
      "makedir ./dist/data/stackoverflow/lemma/nltk/TIC/31/featureselect/f_classif/scala/\n",
      "makedir ./dist/data/stackoverflow/lemma/nltk/TIC/31/featureselect/f_classif/sql/\n",
      "makedir ./dist/data/stackoverflow/lemma/nltk/TIC/32/featureselect/chi2/android/\n",
      "makedir ./dist/data/stackoverflow/lemma/nltk/TIC/32/featureselect/chi2/git/\n",
      "makedir ./dist/data/stackoverflow/lemma/nltk/TIC/32/featureselect/chi2/html/\n",
      "makedir ./dist/data/stackoverflow/lemma/nltk/TIC/32/featureselect/chi2/javascript/\n",
      "makedir ./dist/data/stackoverflow/lemma/nltk/TIC/32/featureselect/chi2/oracle/\n",
      "makedir ./dist/data/stackoverflow/lemma/nltk/TIC/32/featureselect/chi2/pandas/\n",
      "makedir ./dist/data/stackoverflow/lemma/nltk/TIC/32/featureselect/chi2/php/\n",
      "makedir ./dist/data/stackoverflow/lemma/nltk/TIC/32/featureselect/chi2/python/\n",
      "makedir ./dist/data/stackoverflow/lemma/nltk/TIC/32/featureselect/chi2/reactjs/\n",
      "makedir ./dist/data/stackoverflow/lemma/nltk/TIC/32/featureselect/chi2/scala/\n",
      "makedir ./dist/data/stackoverflow/lemma/nltk/TIC/32/featureselect/chi2/sql/\n",
      "makedir ./dist/data/stackoverflow/lemma/nltk/TIC/32/featureselect/f_classif/android/\n",
      "makedir ./dist/data/stackoverflow/lemma/nltk/TIC/32/featureselect/f_classif/git/\n",
      "makedir ./dist/data/stackoverflow/lemma/nltk/TIC/32/featureselect/f_classif/html/\n",
      "makedir ./dist/data/stackoverflow/lemma/nltk/TIC/32/featureselect/f_classif/javascript/\n",
      "makedir ./dist/data/stackoverflow/lemma/nltk/TIC/32/featureselect/f_classif/oracle/\n",
      "makedir ./dist/data/stackoverflow/lemma/nltk/TIC/32/featureselect/f_classif/pandas/\n",
      "makedir ./dist/data/stackoverflow/lemma/nltk/TIC/32/featureselect/f_classif/php/\n",
      "makedir ./dist/data/stackoverflow/lemma/nltk/TIC/32/featureselect/f_classif/python/\n",
      "makedir ./dist/data/stackoverflow/lemma/nltk/TIC/32/featureselect/f_classif/reactjs/\n",
      "makedir ./dist/data/stackoverflow/lemma/nltk/TIC/32/featureselect/f_classif/scala/\n",
      "makedir ./dist/data/stackoverflow/lemma/nltk/TIC/32/featureselect/f_classif/sql/\n"
     ]
    },
    {
     "data": {
      "text/html": [
       "<div>\n",
       "<table border=\"1\" class=\"dataframe\">\n",
       "  <thead>\n",
       "    <tr style=\"text-align: right;\">\n",
       "      <th></th>\n",
       "      <th></th>\n",
       "      <th></th>\n",
       "      <th></th>\n",
       "      <th></th>\n",
       "      <th></th>\n",
       "      <th></th>\n",
       "      <th></th>\n",
       "      <th>Indices</th>\n",
       "      <th>Mask</th>\n",
       "      <th>Pvalue</th>\n",
       "      <th>Scores</th>\n",
       "      <th>X</th>\n",
       "      <th>assertF</th>\n",
       "      <th>assertY</th>\n",
       "    </tr>\n",
       "    <tr>\n",
       "      <th>source</th>\n",
       "      <th>wordtype</th>\n",
       "      <th>vecimpl</th>\n",
       "      <th>htmlfeature</th>\n",
       "      <th>tf-idf</th>\n",
       "      <th>transformation</th>\n",
       "      <th>scorefunc</th>\n",
       "      <th>class</th>\n",
       "      <th></th>\n",
       "      <th></th>\n",
       "      <th></th>\n",
       "      <th></th>\n",
       "      <th></th>\n",
       "      <th></th>\n",
       "      <th></th>\n",
       "    </tr>\n",
       "  </thead>\n",
       "  <tbody>\n",
       "    <tr>\n",
       "      <th rowspan=\"61\" valign=\"top\">stackoverflow</th>\n",
       "      <th rowspan=\"61\" valign=\"top\">lemma</th>\n",
       "      <th rowspan=\"61\" valign=\"top\">nltk</th>\n",
       "      <th rowspan=\"30\" valign=\"top\">T</th>\n",
       "      <th rowspan=\"22\" valign=\"top\">00</th>\n",
       "      <th rowspan=\"22\" valign=\"top\">featureselect</th>\n",
       "      <th rowspan=\"11\" valign=\"top\">chi2</th>\n",
       "      <th>android</th>\n",
       "      <td>(1000,)</td>\n",
       "      <td>(1367,)</td>\n",
       "      <td>(1367,)</td>\n",
       "      <td>(1367,)</td>\n",
       "      <td>-</td>\n",
       "      <td>(1367,)</td>\n",
       "      <td>(10214,)</td>\n",
       "    </tr>\n",
       "    <tr>\n",
       "      <th>git</th>\n",
       "      <td>(1000,)</td>\n",
       "      <td>(1367,)</td>\n",
       "      <td>(1367,)</td>\n",
       "      <td>(1367,)</td>\n",
       "      <td>-</td>\n",
       "      <td>(1367,)</td>\n",
       "      <td>(10214,)</td>\n",
       "    </tr>\n",
       "    <tr>\n",
       "      <th>html</th>\n",
       "      <td>(1000,)</td>\n",
       "      <td>(1367,)</td>\n",
       "      <td>(1367,)</td>\n",
       "      <td>(1367,)</td>\n",
       "      <td>-</td>\n",
       "      <td>(1367,)</td>\n",
       "      <td>(10214,)</td>\n",
       "    </tr>\n",
       "    <tr>\n",
       "      <th>javascript</th>\n",
       "      <td>(1000,)</td>\n",
       "      <td>(1367,)</td>\n",
       "      <td>(1367,)</td>\n",
       "      <td>(1367,)</td>\n",
       "      <td>-</td>\n",
       "      <td>(1367,)</td>\n",
       "      <td>(10214,)</td>\n",
       "    </tr>\n",
       "    <tr>\n",
       "      <th>oracle</th>\n",
       "      <td>(1000,)</td>\n",
       "      <td>(1367,)</td>\n",
       "      <td>(1367,)</td>\n",
       "      <td>(1367,)</td>\n",
       "      <td>-</td>\n",
       "      <td>(1367,)</td>\n",
       "      <td>(10214,)</td>\n",
       "    </tr>\n",
       "    <tr>\n",
       "      <th>pandas</th>\n",
       "      <td>(1000,)</td>\n",
       "      <td>(1367,)</td>\n",
       "      <td>(1367,)</td>\n",
       "      <td>(1367,)</td>\n",
       "      <td>-</td>\n",
       "      <td>(1367,)</td>\n",
       "      <td>(10214,)</td>\n",
       "    </tr>\n",
       "    <tr>\n",
       "      <th>php</th>\n",
       "      <td>(1000,)</td>\n",
       "      <td>(1367,)</td>\n",
       "      <td>(1367,)</td>\n",
       "      <td>(1367,)</td>\n",
       "      <td>-</td>\n",
       "      <td>(1367,)</td>\n",
       "      <td>(10214,)</td>\n",
       "    </tr>\n",
       "    <tr>\n",
       "      <th>python</th>\n",
       "      <td>(1000,)</td>\n",
       "      <td>(1367,)</td>\n",
       "      <td>(1367,)</td>\n",
       "      <td>(1367,)</td>\n",
       "      <td>-</td>\n",
       "      <td>(1367,)</td>\n",
       "      <td>(10214,)</td>\n",
       "    </tr>\n",
       "    <tr>\n",
       "      <th>reactjs</th>\n",
       "      <td>(1000,)</td>\n",
       "      <td>(1367,)</td>\n",
       "      <td>(1367,)</td>\n",
       "      <td>(1367,)</td>\n",
       "      <td>-</td>\n",
       "      <td>(1367,)</td>\n",
       "      <td>(10214,)</td>\n",
       "    </tr>\n",
       "    <tr>\n",
       "      <th>scala</th>\n",
       "      <td>(1000,)</td>\n",
       "      <td>(1367,)</td>\n",
       "      <td>(1367,)</td>\n",
       "      <td>(1367,)</td>\n",
       "      <td>-</td>\n",
       "      <td>(1367,)</td>\n",
       "      <td>(10214,)</td>\n",
       "    </tr>\n",
       "    <tr>\n",
       "      <th>sql</th>\n",
       "      <td>(1000,)</td>\n",
       "      <td>(1367,)</td>\n",
       "      <td>(1367,)</td>\n",
       "      <td>(1367,)</td>\n",
       "      <td>-</td>\n",
       "      <td>(1367,)</td>\n",
       "      <td>(10214,)</td>\n",
       "    </tr>\n",
       "    <tr>\n",
       "      <th rowspan=\"11\" valign=\"top\">f_classif</th>\n",
       "      <th>android</th>\n",
       "      <td>(1000,)</td>\n",
       "      <td>(1367,)</td>\n",
       "      <td>(1367,)</td>\n",
       "      <td>(1367,)</td>\n",
       "      <td>-</td>\n",
       "      <td>(1367,)</td>\n",
       "      <td>(10214,)</td>\n",
       "    </tr>\n",
       "    <tr>\n",
       "      <th>git</th>\n",
       "      <td>(1000,)</td>\n",
       "      <td>(1367,)</td>\n",
       "      <td>(1367,)</td>\n",
       "      <td>(1367,)</td>\n",
       "      <td>-</td>\n",
       "      <td>(1367,)</td>\n",
       "      <td>(10214,)</td>\n",
       "    </tr>\n",
       "    <tr>\n",
       "      <th>html</th>\n",
       "      <td>(1000,)</td>\n",
       "      <td>(1367,)</td>\n",
       "      <td>(1367,)</td>\n",
       "      <td>(1367,)</td>\n",
       "      <td>-</td>\n",
       "      <td>(1367,)</td>\n",
       "      <td>(10214,)</td>\n",
       "    </tr>\n",
       "    <tr>\n",
       "      <th>javascript</th>\n",
       "      <td>(1000,)</td>\n",
       "      <td>(1367,)</td>\n",
       "      <td>(1367,)</td>\n",
       "      <td>(1367,)</td>\n",
       "      <td>-</td>\n",
       "      <td>(1367,)</td>\n",
       "      <td>(10214,)</td>\n",
       "    </tr>\n",
       "    <tr>\n",
       "      <th>oracle</th>\n",
       "      <td>(1000,)</td>\n",
       "      <td>(1367,)</td>\n",
       "      <td>(1367,)</td>\n",
       "      <td>(1367,)</td>\n",
       "      <td>-</td>\n",
       "      <td>(1367,)</td>\n",
       "      <td>(10214,)</td>\n",
       "    </tr>\n",
       "    <tr>\n",
       "      <th>pandas</th>\n",
       "      <td>(1000,)</td>\n",
       "      <td>(1367,)</td>\n",
       "      <td>(1367,)</td>\n",
       "      <td>(1367,)</td>\n",
       "      <td>-</td>\n",
       "      <td>(1367,)</td>\n",
       "      <td>(10214,)</td>\n",
       "    </tr>\n",
       "    <tr>\n",
       "      <th>php</th>\n",
       "      <td>(1000,)</td>\n",
       "      <td>(1367,)</td>\n",
       "      <td>(1367,)</td>\n",
       "      <td>(1367,)</td>\n",
       "      <td>-</td>\n",
       "      <td>(1367,)</td>\n",
       "      <td>(10214,)</td>\n",
       "    </tr>\n",
       "    <tr>\n",
       "      <th>python</th>\n",
       "      <td>(1000,)</td>\n",
       "      <td>(1367,)</td>\n",
       "      <td>(1367,)</td>\n",
       "      <td>(1367,)</td>\n",
       "      <td>-</td>\n",
       "      <td>(1367,)</td>\n",
       "      <td>(10214,)</td>\n",
       "    </tr>\n",
       "    <tr>\n",
       "      <th>reactjs</th>\n",
       "      <td>(1000,)</td>\n",
       "      <td>(1367,)</td>\n",
       "      <td>(1367,)</td>\n",
       "      <td>(1367,)</td>\n",
       "      <td>-</td>\n",
       "      <td>(1367,)</td>\n",
       "      <td>(10214,)</td>\n",
       "    </tr>\n",
       "    <tr>\n",
       "      <th>scala</th>\n",
       "      <td>(1000,)</td>\n",
       "      <td>(1367,)</td>\n",
       "      <td>(1367,)</td>\n",
       "      <td>(1367,)</td>\n",
       "      <td>-</td>\n",
       "      <td>(1367,)</td>\n",
       "      <td>(10214,)</td>\n",
       "    </tr>\n",
       "    <tr>\n",
       "      <th>sql</th>\n",
       "      <td>(1000,)</td>\n",
       "      <td>(1367,)</td>\n",
       "      <td>(1367,)</td>\n",
       "      <td>(1367,)</td>\n",
       "      <td>-</td>\n",
       "      <td>(1367,)</td>\n",
       "      <td>(10214,)</td>\n",
       "    </tr>\n",
       "    <tr>\n",
       "      <th rowspan=\"8\" valign=\"top\">01</th>\n",
       "      <th rowspan=\"8\" valign=\"top\">featureselect</th>\n",
       "      <th rowspan=\"8\" valign=\"top\">chi2</th>\n",
       "      <th>android</th>\n",
       "      <td>(1000,)</td>\n",
       "      <td>(1367,)</td>\n",
       "      <td>(1367,)</td>\n",
       "      <td>(1367,)</td>\n",
       "      <td>-</td>\n",
       "      <td>(1367,)</td>\n",
       "      <td>(10214,)</td>\n",
       "    </tr>\n",
       "    <tr>\n",
       "      <th>git</th>\n",
       "      <td>(1000,)</td>\n",
       "      <td>(1367,)</td>\n",
       "      <td>(1367,)</td>\n",
       "      <td>(1367,)</td>\n",
       "      <td>-</td>\n",
       "      <td>(1367,)</td>\n",
       "      <td>(10214,)</td>\n",
       "    </tr>\n",
       "    <tr>\n",
       "      <th>html</th>\n",
       "      <td>(1000,)</td>\n",
       "      <td>(1367,)</td>\n",
       "      <td>(1367,)</td>\n",
       "      <td>(1367,)</td>\n",
       "      <td>-</td>\n",
       "      <td>(1367,)</td>\n",
       "      <td>(10214,)</td>\n",
       "    </tr>\n",
       "    <tr>\n",
       "      <th>javascript</th>\n",
       "      <td>(1000,)</td>\n",
       "      <td>(1367,)</td>\n",
       "      <td>(1367,)</td>\n",
       "      <td>(1367,)</td>\n",
       "      <td>-</td>\n",
       "      <td>(1367,)</td>\n",
       "      <td>(10214,)</td>\n",
       "    </tr>\n",
       "    <tr>\n",
       "      <th>oracle</th>\n",
       "      <td>(1000,)</td>\n",
       "      <td>(1367,)</td>\n",
       "      <td>(1367,)</td>\n",
       "      <td>(1367,)</td>\n",
       "      <td>-</td>\n",
       "      <td>(1367,)</td>\n",
       "      <td>(10214,)</td>\n",
       "    </tr>\n",
       "    <tr>\n",
       "      <th>pandas</th>\n",
       "      <td>(1000,)</td>\n",
       "      <td>(1367,)</td>\n",
       "      <td>(1367,)</td>\n",
       "      <td>(1367,)</td>\n",
       "      <td>-</td>\n",
       "      <td>(1367,)</td>\n",
       "      <td>(10214,)</td>\n",
       "    </tr>\n",
       "    <tr>\n",
       "      <th>php</th>\n",
       "      <td>(1000,)</td>\n",
       "      <td>(1367,)</td>\n",
       "      <td>(1367,)</td>\n",
       "      <td>(1367,)</td>\n",
       "      <td>-</td>\n",
       "      <td>(1367,)</td>\n",
       "      <td>(10214,)</td>\n",
       "    </tr>\n",
       "    <tr>\n",
       "      <th>python</th>\n",
       "      <td>(1000,)</td>\n",
       "      <td>(1367,)</td>\n",
       "      <td>(1367,)</td>\n",
       "      <td>(1367,)</td>\n",
       "      <td>-</td>\n",
       "      <td>(1367,)</td>\n",
       "      <td>(10214,)</td>\n",
       "    </tr>\n",
       "    <tr>\n",
       "      <th>T</th>\n",
       "      <th>01</th>\n",
       "      <th>featureselect</th>\n",
       "      <th>chi2</th>\n",
       "      <th>...</th>\n",
       "      <td>...</td>\n",
       "      <td>...</td>\n",
       "      <td>...</td>\n",
       "      <td>...</td>\n",
       "      <td>...</td>\n",
       "      <td>...</td>\n",
       "      <td>...</td>\n",
       "    </tr>\n",
       "    <tr>\n",
       "      <th rowspan=\"30\" valign=\"top\">T</th>\n",
       "      <th rowspan=\"8\" valign=\"top\">01</th>\n",
       "      <th rowspan=\"8\" valign=\"top\">featureselect</th>\n",
       "      <th rowspan=\"8\" valign=\"top\">chi2</th>\n",
       "      <th>...</th>\n",
       "      <td>(1000,)</td>\n",
       "      <td>(4538,)</td>\n",
       "      <td>(4538,)</td>\n",
       "      <td>(4538,)</td>\n",
       "      <td>-</td>\n",
       "      <td>(4538,)</td>\n",
       "      <td>(16808,)</td>\n",
       "    </tr>\n",
       "    <tr>\n",
       "      <th>...</th>\n",
       "      <td>(1000,)</td>\n",
       "      <td>(4538,)</td>\n",
       "      <td>(4538,)</td>\n",
       "      <td>(4538,)</td>\n",
       "      <td>-</td>\n",
       "      <td>(4538,)</td>\n",
       "      <td>(16808,)</td>\n",
       "    </tr>\n",
       "    <tr>\n",
       "      <th>javascript</th>\n",
       "      <td>(1000,)</td>\n",
       "      <td>(4538,)</td>\n",
       "      <td>(4538,)</td>\n",
       "      <td>(4538,)</td>\n",
       "      <td>-</td>\n",
       "      <td>(4538,)</td>\n",
       "      <td>(16808,)</td>\n",
       "    </tr>\n",
       "    <tr>\n",
       "      <th>oracle</th>\n",
       "      <td>(1000,)</td>\n",
       "      <td>(4538,)</td>\n",
       "      <td>(4538,)</td>\n",
       "      <td>(4538,)</td>\n",
       "      <td>-</td>\n",
       "      <td>(4538,)</td>\n",
       "      <td>(16808,)</td>\n",
       "    </tr>\n",
       "    <tr>\n",
       "      <th>pandas</th>\n",
       "      <td>(1000,)</td>\n",
       "      <td>(4538,)</td>\n",
       "      <td>(4538,)</td>\n",
       "      <td>(4538,)</td>\n",
       "      <td>-</td>\n",
       "      <td>(4538,)</td>\n",
       "      <td>(16808,)</td>\n",
       "    </tr>\n",
       "    <tr>\n",
       "      <th>php</th>\n",
       "      <td>(1000,)</td>\n",
       "      <td>(4538,)</td>\n",
       "      <td>(4538,)</td>\n",
       "      <td>(4538,)</td>\n",
       "      <td>-</td>\n",
       "      <td>(4538,)</td>\n",
       "      <td>(16808,)</td>\n",
       "    </tr>\n",
       "    <tr>\n",
       "      <th>python</th>\n",
       "      <td>(1000,)</td>\n",
       "      <td>(4538,)</td>\n",
       "      <td>(4538,)</td>\n",
       "      <td>(4538,)</td>\n",
       "      <td>-</td>\n",
       "      <td>(4538,)</td>\n",
       "      <td>(16808,)</td>\n",
       "    </tr>\n",
       "    <tr>\n",
       "      <th>reactjs</th>\n",
       "      <td>(1000,)</td>\n",
       "      <td>(4538,)</td>\n",
       "      <td>(4538,)</td>\n",
       "      <td>(4538,)</td>\n",
       "      <td>-</td>\n",
       "      <td>(4538,)</td>\n",
       "      <td>(16808,)</td>\n",
       "    </tr>\n",
       "    <tr>\n",
       "      <th rowspan=\"22\" valign=\"top\">31</th>\n",
       "      <th rowspan=\"22\" valign=\"top\">featureselect</th>\n",
       "      <th rowspan=\"11\" valign=\"top\">f_classif</th>\n",
       "      <th>scala</th>\n",
       "      <td>(1000,)</td>\n",
       "      <td>(4538,)</td>\n",
       "      <td>(4538,)</td>\n",
       "      <td>(4538,)</td>\n",
       "      <td>-</td>\n",
       "      <td>(4538,)</td>\n",
       "      <td>(16808,)</td>\n",
       "    </tr>\n",
       "    <tr>\n",
       "      <th>sql</th>\n",
       "      <td>(1000,)</td>\n",
       "      <td>(4538,)</td>\n",
       "      <td>(4538,)</td>\n",
       "      <td>(4538,)</td>\n",
       "      <td>-</td>\n",
       "      <td>(4538,)</td>\n",
       "      <td>(16808,)</td>\n",
       "    </tr>\n",
       "    <tr>\n",
       "      <th>android</th>\n",
       "      <td>(1000,)</td>\n",
       "      <td>(4538,)</td>\n",
       "      <td>(4538,)</td>\n",
       "      <td>(4538,)</td>\n",
       "      <td>-</td>\n",
       "      <td>(4538,)</td>\n",
       "      <td>(16808,)</td>\n",
       "    </tr>\n",
       "    <tr>\n",
       "      <th>git</th>\n",
       "      <td>(1000,)</td>\n",
       "      <td>(4538,)</td>\n",
       "      <td>(4538,)</td>\n",
       "      <td>(4538,)</td>\n",
       "      <td>-</td>\n",
       "      <td>(4538,)</td>\n",
       "      <td>(16808,)</td>\n",
       "    </tr>\n",
       "    <tr>\n",
       "      <th>html</th>\n",
       "      <td>(1000,)</td>\n",
       "      <td>(4538,)</td>\n",
       "      <td>(4538,)</td>\n",
       "      <td>(4538,)</td>\n",
       "      <td>-</td>\n",
       "      <td>(4538,)</td>\n",
       "      <td>(16808,)</td>\n",
       "    </tr>\n",
       "    <tr>\n",
       "      <th>javascript</th>\n",
       "      <td>(1000,)</td>\n",
       "      <td>(4538,)</td>\n",
       "      <td>(4538,)</td>\n",
       "      <td>(4538,)</td>\n",
       "      <td>-</td>\n",
       "      <td>(4538,)</td>\n",
       "      <td>(16808,)</td>\n",
       "    </tr>\n",
       "    <tr>\n",
       "      <th>oracle</th>\n",
       "      <td>(1000,)</td>\n",
       "      <td>(4538,)</td>\n",
       "      <td>(4538,)</td>\n",
       "      <td>(4538,)</td>\n",
       "      <td>-</td>\n",
       "      <td>(4538,)</td>\n",
       "      <td>(16808,)</td>\n",
       "    </tr>\n",
       "    <tr>\n",
       "      <th>pandas</th>\n",
       "      <td>(1000,)</td>\n",
       "      <td>(4538,)</td>\n",
       "      <td>(4538,)</td>\n",
       "      <td>(4538,)</td>\n",
       "      <td>-</td>\n",
       "      <td>(4538,)</td>\n",
       "      <td>(16808,)</td>\n",
       "    </tr>\n",
       "    <tr>\n",
       "      <th>php</th>\n",
       "      <td>(1000,)</td>\n",
       "      <td>(4538,)</td>\n",
       "      <td>(4538,)</td>\n",
       "      <td>(4538,)</td>\n",
       "      <td>-</td>\n",
       "      <td>(4538,)</td>\n",
       "      <td>(16808,)</td>\n",
       "    </tr>\n",
       "    <tr>\n",
       "      <th>python</th>\n",
       "      <td>(1000,)</td>\n",
       "      <td>(4538,)</td>\n",
       "      <td>(4538,)</td>\n",
       "      <td>(4538,)</td>\n",
       "      <td>-</td>\n",
       "      <td>(4538,)</td>\n",
       "      <td>(16808,)</td>\n",
       "    </tr>\n",
       "    <tr>\n",
       "      <th>reactjs</th>\n",
       "      <td>(1000,)</td>\n",
       "      <td>(4538,)</td>\n",
       "      <td>(4538,)</td>\n",
       "      <td>(4538,)</td>\n",
       "      <td>-</td>\n",
       "      <td>(4538,)</td>\n",
       "      <td>(16808,)</td>\n",
       "    </tr>\n",
       "    <tr>\n",
       "      <th rowspan=\"11\" valign=\"top\">chi2</th>\n",
       "      <th>scala</th>\n",
       "      <td>(1000,)</td>\n",
       "      <td>(4538,)</td>\n",
       "      <td>(4538,)</td>\n",
       "      <td>(4538,)</td>\n",
       "      <td>-</td>\n",
       "      <td>(4538,)</td>\n",
       "      <td>(16808,)</td>\n",
       "    </tr>\n",
       "    <tr>\n",
       "      <th>sql</th>\n",
       "      <td>(1000,)</td>\n",
       "      <td>(4538,)</td>\n",
       "      <td>(4538,)</td>\n",
       "      <td>(4538,)</td>\n",
       "      <td>-</td>\n",
       "      <td>(4538,)</td>\n",
       "      <td>(16808,)</td>\n",
       "    </tr>\n",
       "    <tr>\n",
       "      <th>android</th>\n",
       "      <td>(1000,)</td>\n",
       "      <td>(4538,)</td>\n",
       "      <td>(4538,)</td>\n",
       "      <td>(4538,)</td>\n",
       "      <td>-</td>\n",
       "      <td>(4538,)</td>\n",
       "      <td>(16808,)</td>\n",
       "    </tr>\n",
       "    <tr>\n",
       "      <th>git</th>\n",
       "      <td>(1000,)</td>\n",
       "      <td>(4538,)</td>\n",
       "      <td>(4538,)</td>\n",
       "      <td>(4538,)</td>\n",
       "      <td>-</td>\n",
       "      <td>(4538,)</td>\n",
       "      <td>(16808,)</td>\n",
       "    </tr>\n",
       "    <tr>\n",
       "      <th>html</th>\n",
       "      <td>(1000,)</td>\n",
       "      <td>(4538,)</td>\n",
       "      <td>(4538,)</td>\n",
       "      <td>(4538,)</td>\n",
       "      <td>-</td>\n",
       "      <td>(4538,)</td>\n",
       "      <td>(16808,)</td>\n",
       "    </tr>\n",
       "    <tr>\n",
       "      <th>javascript</th>\n",
       "      <td>(1000,)</td>\n",
       "      <td>(4538,)</td>\n",
       "      <td>(4538,)</td>\n",
       "      <td>(4538,)</td>\n",
       "      <td>-</td>\n",
       "      <td>(4538,)</td>\n",
       "      <td>(16808,)</td>\n",
       "    </tr>\n",
       "    <tr>\n",
       "      <th>oracle</th>\n",
       "      <td>(1000,)</td>\n",
       "      <td>(4538,)</td>\n",
       "      <td>(4538,)</td>\n",
       "      <td>(4538,)</td>\n",
       "      <td>-</td>\n",
       "      <td>(4538,)</td>\n",
       "      <td>(16808,)</td>\n",
       "    </tr>\n",
       "    <tr>\n",
       "      <th>pandas</th>\n",
       "      <td>(1000,)</td>\n",
       "      <td>(4538,)</td>\n",
       "      <td>(4538,)</td>\n",
       "      <td>(4538,)</td>\n",
       "      <td>-</td>\n",
       "      <td>(4538,)</td>\n",
       "      <td>(16808,)</td>\n",
       "    </tr>\n",
       "    <tr>\n",
       "      <th>php</th>\n",
       "      <td>(1000,)</td>\n",
       "      <td>(4538,)</td>\n",
       "      <td>(4538,)</td>\n",
       "      <td>(4538,)</td>\n",
       "      <td>-</td>\n",
       "      <td>(4538,)</td>\n",
       "      <td>(16808,)</td>\n",
       "    </tr>\n",
       "    <tr>\n",
       "      <th>python</th>\n",
       "      <td>(1000,)</td>\n",
       "      <td>(4538,)</td>\n",
       "      <td>(4538,)</td>\n",
       "      <td>(4538,)</td>\n",
       "      <td>-</td>\n",
       "      <td>(4538,)</td>\n",
       "      <td>(16808,)</td>\n",
       "    </tr>\n",
       "    <tr>\n",
       "      <th>reactjs</th>\n",
       "      <td>(1000,)</td>\n",
       "      <td>(4538,)</td>\n",
       "      <td>(4538,)</td>\n",
       "      <td>(4538,)</td>\n",
       "      <td>-</td>\n",
       "      <td>(4538,)</td>\n",
       "      <td>(16808,)</td>\n",
       "    </tr>\n",
       "  </tbody>\n",
       "</table>\n",
       "<p>770 rows × 7 columns</p>\n",
       "</div>"
      ],
      "text/plain": [
       "                                                                                       Indices  \\\n",
       "source        wordtype vecimpl htmlfeature tf-idf transformation scorefunc class                 \n",
       "stackoverflow lemma    nltk    T           00     featureselect  chi2      android     (1000,)   \n",
       "                                                                           git         (1000,)   \n",
       "                                                                           html        (1000,)   \n",
       "                                                                           javascript  (1000,)   \n",
       "                                                                           oracle      (1000,)   \n",
       "                                                                           pandas      (1000,)   \n",
       "                                                                           php         (1000,)   \n",
       "                                                                           python      (1000,)   \n",
       "                                                                           reactjs     (1000,)   \n",
       "                                                                           scala       (1000,)   \n",
       "                                                                           sql         (1000,)   \n",
       "                                                                 f_classif android     (1000,)   \n",
       "                                                                           git         (1000,)   \n",
       "                                                                           html        (1000,)   \n",
       "                                                                           javascript  (1000,)   \n",
       "                                                                           oracle      (1000,)   \n",
       "                                                                           pandas      (1000,)   \n",
       "                                                                           php         (1000,)   \n",
       "                                                                           python      (1000,)   \n",
       "                                                                           reactjs     (1000,)   \n",
       "                                                                           scala       (1000,)   \n",
       "                                                                           sql         (1000,)   \n",
       "                                           01     featureselect  chi2      android     (1000,)   \n",
       "                                                                           git         (1000,)   \n",
       "                                                                           html        (1000,)   \n",
       "                                                                           javascript  (1000,)   \n",
       "                                                                           oracle      (1000,)   \n",
       "                                                                           pandas      (1000,)   \n",
       "                                                                           php         (1000,)   \n",
       "                                                                           python      (1000,)   \n",
       "...                                                                                        ...   \n",
       "                               TIC         31     featureselect  f_classif javascript  (1000,)   \n",
       "                                                                           oracle      (1000,)   \n",
       "                                                                           pandas      (1000,)   \n",
       "                                                                           php         (1000,)   \n",
       "                                                                           python      (1000,)   \n",
       "                                                                           reactjs     (1000,)   \n",
       "                                                                           scala       (1000,)   \n",
       "                                                                           sql         (1000,)   \n",
       "                                           32     featureselect  chi2      android     (1000,)   \n",
       "                                                                           git         (1000,)   \n",
       "                                                                           html        (1000,)   \n",
       "                                                                           javascript  (1000,)   \n",
       "                                                                           oracle      (1000,)   \n",
       "                                                                           pandas      (1000,)   \n",
       "                                                                           php         (1000,)   \n",
       "                                                                           python      (1000,)   \n",
       "                                                                           reactjs     (1000,)   \n",
       "                                                                           scala       (1000,)   \n",
       "                                                                           sql         (1000,)   \n",
       "                                                                 f_classif android     (1000,)   \n",
       "                                                                           git         (1000,)   \n",
       "                                                                           html        (1000,)   \n",
       "                                                                           javascript  (1000,)   \n",
       "                                                                           oracle      (1000,)   \n",
       "                                                                           pandas      (1000,)   \n",
       "                                                                           php         (1000,)   \n",
       "                                                                           python      (1000,)   \n",
       "                                                                           reactjs     (1000,)   \n",
       "                                                                           scala       (1000,)   \n",
       "                                                                           sql         (1000,)   \n",
       "\n",
       "                                                                                          Mask  \\\n",
       "source        wordtype vecimpl htmlfeature tf-idf transformation scorefunc class                 \n",
       "stackoverflow lemma    nltk    T           00     featureselect  chi2      android     (1367,)   \n",
       "                                                                           git         (1367,)   \n",
       "                                                                           html        (1367,)   \n",
       "                                                                           javascript  (1367,)   \n",
       "                                                                           oracle      (1367,)   \n",
       "                                                                           pandas      (1367,)   \n",
       "                                                                           php         (1367,)   \n",
       "                                                                           python      (1367,)   \n",
       "                                                                           reactjs     (1367,)   \n",
       "                                                                           scala       (1367,)   \n",
       "                                                                           sql         (1367,)   \n",
       "                                                                 f_classif android     (1367,)   \n",
       "                                                                           git         (1367,)   \n",
       "                                                                           html        (1367,)   \n",
       "                                                                           javascript  (1367,)   \n",
       "                                                                           oracle      (1367,)   \n",
       "                                                                           pandas      (1367,)   \n",
       "                                                                           php         (1367,)   \n",
       "                                                                           python      (1367,)   \n",
       "                                                                           reactjs     (1367,)   \n",
       "                                                                           scala       (1367,)   \n",
       "                                                                           sql         (1367,)   \n",
       "                                           01     featureselect  chi2      android     (1367,)   \n",
       "                                                                           git         (1367,)   \n",
       "                                                                           html        (1367,)   \n",
       "                                                                           javascript  (1367,)   \n",
       "                                                                           oracle      (1367,)   \n",
       "                                                                           pandas      (1367,)   \n",
       "                                                                           php         (1367,)   \n",
       "                                                                           python      (1367,)   \n",
       "...                                                                                        ...   \n",
       "                               TIC         31     featureselect  f_classif javascript  (4538,)   \n",
       "                                                                           oracle      (4538,)   \n",
       "                                                                           pandas      (4538,)   \n",
       "                                                                           php         (4538,)   \n",
       "                                                                           python      (4538,)   \n",
       "                                                                           reactjs     (4538,)   \n",
       "                                                                           scala       (4538,)   \n",
       "                                                                           sql         (4538,)   \n",
       "                                           32     featureselect  chi2      android     (4538,)   \n",
       "                                                                           git         (4538,)   \n",
       "                                                                           html        (4538,)   \n",
       "                                                                           javascript  (4538,)   \n",
       "                                                                           oracle      (4538,)   \n",
       "                                                                           pandas      (4538,)   \n",
       "                                                                           php         (4538,)   \n",
       "                                                                           python      (4538,)   \n",
       "                                                                           reactjs     (4538,)   \n",
       "                                                                           scala       (4538,)   \n",
       "                                                                           sql         (4538,)   \n",
       "                                                                 f_classif android     (4538,)   \n",
       "                                                                           git         (4538,)   \n",
       "                                                                           html        (4538,)   \n",
       "                                                                           javascript  (4538,)   \n",
       "                                                                           oracle      (4538,)   \n",
       "                                                                           pandas      (4538,)   \n",
       "                                                                           php         (4538,)   \n",
       "                                                                           python      (4538,)   \n",
       "                                                                           reactjs     (4538,)   \n",
       "                                                                           scala       (4538,)   \n",
       "                                                                           sql         (4538,)   \n",
       "\n",
       "                                                                                        Pvalue  \\\n",
       "source        wordtype vecimpl htmlfeature tf-idf transformation scorefunc class                 \n",
       "stackoverflow lemma    nltk    T           00     featureselect  chi2      android     (1367,)   \n",
       "                                                                           git         (1367,)   \n",
       "                                                                           html        (1367,)   \n",
       "                                                                           javascript  (1367,)   \n",
       "                                                                           oracle      (1367,)   \n",
       "                                                                           pandas      (1367,)   \n",
       "                                                                           php         (1367,)   \n",
       "                                                                           python      (1367,)   \n",
       "                                                                           reactjs     (1367,)   \n",
       "                                                                           scala       (1367,)   \n",
       "                                                                           sql         (1367,)   \n",
       "                                                                 f_classif android     (1367,)   \n",
       "                                                                           git         (1367,)   \n",
       "                                                                           html        (1367,)   \n",
       "                                                                           javascript  (1367,)   \n",
       "                                                                           oracle      (1367,)   \n",
       "                                                                           pandas      (1367,)   \n",
       "                                                                           php         (1367,)   \n",
       "                                                                           python      (1367,)   \n",
       "                                                                           reactjs     (1367,)   \n",
       "                                                                           scala       (1367,)   \n",
       "                                                                           sql         (1367,)   \n",
       "                                           01     featureselect  chi2      android     (1367,)   \n",
       "                                                                           git         (1367,)   \n",
       "                                                                           html        (1367,)   \n",
       "                                                                           javascript  (1367,)   \n",
       "                                                                           oracle      (1367,)   \n",
       "                                                                           pandas      (1367,)   \n",
       "                                                                           php         (1367,)   \n",
       "                                                                           python      (1367,)   \n",
       "...                                                                                        ...   \n",
       "                               TIC         31     featureselect  f_classif javascript  (4538,)   \n",
       "                                                                           oracle      (4538,)   \n",
       "                                                                           pandas      (4538,)   \n",
       "                                                                           php         (4538,)   \n",
       "                                                                           python      (4538,)   \n",
       "                                                                           reactjs     (4538,)   \n",
       "                                                                           scala       (4538,)   \n",
       "                                                                           sql         (4538,)   \n",
       "                                           32     featureselect  chi2      android     (4538,)   \n",
       "                                                                           git         (4538,)   \n",
       "                                                                           html        (4538,)   \n",
       "                                                                           javascript  (4538,)   \n",
       "                                                                           oracle      (4538,)   \n",
       "                                                                           pandas      (4538,)   \n",
       "                                                                           php         (4538,)   \n",
       "                                                                           python      (4538,)   \n",
       "                                                                           reactjs     (4538,)   \n",
       "                                                                           scala       (4538,)   \n",
       "                                                                           sql         (4538,)   \n",
       "                                                                 f_classif android     (4538,)   \n",
       "                                                                           git         (4538,)   \n",
       "                                                                           html        (4538,)   \n",
       "                                                                           javascript  (4538,)   \n",
       "                                                                           oracle      (4538,)   \n",
       "                                                                           pandas      (4538,)   \n",
       "                                                                           php         (4538,)   \n",
       "                                                                           python      (4538,)   \n",
       "                                                                           reactjs     (4538,)   \n",
       "                                                                           scala       (4538,)   \n",
       "                                                                           sql         (4538,)   \n",
       "\n",
       "                                                                                        Scores  \\\n",
       "source        wordtype vecimpl htmlfeature tf-idf transformation scorefunc class                 \n",
       "stackoverflow lemma    nltk    T           00     featureselect  chi2      android     (1367,)   \n",
       "                                                                           git         (1367,)   \n",
       "                                                                           html        (1367,)   \n",
       "                                                                           javascript  (1367,)   \n",
       "                                                                           oracle      (1367,)   \n",
       "                                                                           pandas      (1367,)   \n",
       "                                                                           php         (1367,)   \n",
       "                                                                           python      (1367,)   \n",
       "                                                                           reactjs     (1367,)   \n",
       "                                                                           scala       (1367,)   \n",
       "                                                                           sql         (1367,)   \n",
       "                                                                 f_classif android     (1367,)   \n",
       "                                                                           git         (1367,)   \n",
       "                                                                           html        (1367,)   \n",
       "                                                                           javascript  (1367,)   \n",
       "                                                                           oracle      (1367,)   \n",
       "                                                                           pandas      (1367,)   \n",
       "                                                                           php         (1367,)   \n",
       "                                                                           python      (1367,)   \n",
       "                                                                           reactjs     (1367,)   \n",
       "                                                                           scala       (1367,)   \n",
       "                                                                           sql         (1367,)   \n",
       "                                           01     featureselect  chi2      android     (1367,)   \n",
       "                                                                           git         (1367,)   \n",
       "                                                                           html        (1367,)   \n",
       "                                                                           javascript  (1367,)   \n",
       "                                                                           oracle      (1367,)   \n",
       "                                                                           pandas      (1367,)   \n",
       "                                                                           php         (1367,)   \n",
       "                                                                           python      (1367,)   \n",
       "...                                                                                        ...   \n",
       "                               TIC         31     featureselect  f_classif javascript  (4538,)   \n",
       "                                                                           oracle      (4538,)   \n",
       "                                                                           pandas      (4538,)   \n",
       "                                                                           php         (4538,)   \n",
       "                                                                           python      (4538,)   \n",
       "                                                                           reactjs     (4538,)   \n",
       "                                                                           scala       (4538,)   \n",
       "                                                                           sql         (4538,)   \n",
       "                                           32     featureselect  chi2      android     (4538,)   \n",
       "                                                                           git         (4538,)   \n",
       "                                                                           html        (4538,)   \n",
       "                                                                           javascript  (4538,)   \n",
       "                                                                           oracle      (4538,)   \n",
       "                                                                           pandas      (4538,)   \n",
       "                                                                           php         (4538,)   \n",
       "                                                                           python      (4538,)   \n",
       "                                                                           reactjs     (4538,)   \n",
       "                                                                           scala       (4538,)   \n",
       "                                                                           sql         (4538,)   \n",
       "                                                                 f_classif android     (4538,)   \n",
       "                                                                           git         (4538,)   \n",
       "                                                                           html        (4538,)   \n",
       "                                                                           javascript  (4538,)   \n",
       "                                                                           oracle      (4538,)   \n",
       "                                                                           pandas      (4538,)   \n",
       "                                                                           php         (4538,)   \n",
       "                                                                           python      (4538,)   \n",
       "                                                                           reactjs     (4538,)   \n",
       "                                                                           scala       (4538,)   \n",
       "                                                                           sql         (4538,)   \n",
       "\n",
       "                                                                                       X  \\\n",
       "source        wordtype vecimpl htmlfeature tf-idf transformation scorefunc class           \n",
       "stackoverflow lemma    nltk    T           00     featureselect  chi2      android     -   \n",
       "                                                                           git         -   \n",
       "                                                                           html        -   \n",
       "                                                                           javascript  -   \n",
       "                                                                           oracle      -   \n",
       "                                                                           pandas      -   \n",
       "                                                                           php         -   \n",
       "                                                                           python      -   \n",
       "                                                                           reactjs     -   \n",
       "                                                                           scala       -   \n",
       "                                                                           sql         -   \n",
       "                                                                 f_classif android     -   \n",
       "                                                                           git         -   \n",
       "                                                                           html        -   \n",
       "                                                                           javascript  -   \n",
       "                                                                           oracle      -   \n",
       "                                                                           pandas      -   \n",
       "                                                                           php         -   \n",
       "                                                                           python      -   \n",
       "                                                                           reactjs     -   \n",
       "                                                                           scala       -   \n",
       "                                                                           sql         -   \n",
       "                                           01     featureselect  chi2      android     -   \n",
       "                                                                           git         -   \n",
       "                                                                           html        -   \n",
       "                                                                           javascript  -   \n",
       "                                                                           oracle      -   \n",
       "                                                                           pandas      -   \n",
       "                                                                           php         -   \n",
       "                                                                           python      -   \n",
       "...                                                                                   ..   \n",
       "                               TIC         31     featureselect  f_classif javascript  -   \n",
       "                                                                           oracle      -   \n",
       "                                                                           pandas      -   \n",
       "                                                                           php         -   \n",
       "                                                                           python      -   \n",
       "                                                                           reactjs     -   \n",
       "                                                                           scala       -   \n",
       "                                                                           sql         -   \n",
       "                                           32     featureselect  chi2      android     -   \n",
       "                                                                           git         -   \n",
       "                                                                           html        -   \n",
       "                                                                           javascript  -   \n",
       "                                                                           oracle      -   \n",
       "                                                                           pandas      -   \n",
       "                                                                           php         -   \n",
       "                                                                           python      -   \n",
       "                                                                           reactjs     -   \n",
       "                                                                           scala       -   \n",
       "                                                                           sql         -   \n",
       "                                                                 f_classif android     -   \n",
       "                                                                           git         -   \n",
       "                                                                           html        -   \n",
       "                                                                           javascript  -   \n",
       "                                                                           oracle      -   \n",
       "                                                                           pandas      -   \n",
       "                                                                           php         -   \n",
       "                                                                           python      -   \n",
       "                                                                           reactjs     -   \n",
       "                                                                           scala       -   \n",
       "                                                                           sql         -   \n",
       "\n",
       "                                                                                       assertF  \\\n",
       "source        wordtype vecimpl htmlfeature tf-idf transformation scorefunc class                 \n",
       "stackoverflow lemma    nltk    T           00     featureselect  chi2      android     (1367,)   \n",
       "                                                                           git         (1367,)   \n",
       "                                                                           html        (1367,)   \n",
       "                                                                           javascript  (1367,)   \n",
       "                                                                           oracle      (1367,)   \n",
       "                                                                           pandas      (1367,)   \n",
       "                                                                           php         (1367,)   \n",
       "                                                                           python      (1367,)   \n",
       "                                                                           reactjs     (1367,)   \n",
       "                                                                           scala       (1367,)   \n",
       "                                                                           sql         (1367,)   \n",
       "                                                                 f_classif android     (1367,)   \n",
       "                                                                           git         (1367,)   \n",
       "                                                                           html        (1367,)   \n",
       "                                                                           javascript  (1367,)   \n",
       "                                                                           oracle      (1367,)   \n",
       "                                                                           pandas      (1367,)   \n",
       "                                                                           php         (1367,)   \n",
       "                                                                           python      (1367,)   \n",
       "                                                                           reactjs     (1367,)   \n",
       "                                                                           scala       (1367,)   \n",
       "                                                                           sql         (1367,)   \n",
       "                                           01     featureselect  chi2      android     (1367,)   \n",
       "                                                                           git         (1367,)   \n",
       "                                                                           html        (1367,)   \n",
       "                                                                           javascript  (1367,)   \n",
       "                                                                           oracle      (1367,)   \n",
       "                                                                           pandas      (1367,)   \n",
       "                                                                           php         (1367,)   \n",
       "                                                                           python      (1367,)   \n",
       "...                                                                                        ...   \n",
       "                               TIC         31     featureselect  f_classif javascript  (4538,)   \n",
       "                                                                           oracle      (4538,)   \n",
       "                                                                           pandas      (4538,)   \n",
       "                                                                           php         (4538,)   \n",
       "                                                                           python      (4538,)   \n",
       "                                                                           reactjs     (4538,)   \n",
       "                                                                           scala       (4538,)   \n",
       "                                                                           sql         (4538,)   \n",
       "                                           32     featureselect  chi2      android     (4538,)   \n",
       "                                                                           git         (4538,)   \n",
       "                                                                           html        (4538,)   \n",
       "                                                                           javascript  (4538,)   \n",
       "                                                                           oracle      (4538,)   \n",
       "                                                                           pandas      (4538,)   \n",
       "                                                                           php         (4538,)   \n",
       "                                                                           python      (4538,)   \n",
       "                                                                           reactjs     (4538,)   \n",
       "                                                                           scala       (4538,)   \n",
       "                                                                           sql         (4538,)   \n",
       "                                                                 f_classif android     (4538,)   \n",
       "                                                                           git         (4538,)   \n",
       "                                                                           html        (4538,)   \n",
       "                                                                           javascript  (4538,)   \n",
       "                                                                           oracle      (4538,)   \n",
       "                                                                           pandas      (4538,)   \n",
       "                                                                           php         (4538,)   \n",
       "                                                                           python      (4538,)   \n",
       "                                                                           reactjs     (4538,)   \n",
       "                                                                           scala       (4538,)   \n",
       "                                                                           sql         (4538,)   \n",
       "\n",
       "                                                                                        assertY  \n",
       "source        wordtype vecimpl htmlfeature tf-idf transformation scorefunc class                 \n",
       "stackoverflow lemma    nltk    T           00     featureselect  chi2      android     (10214,)  \n",
       "                                                                           git         (10214,)  \n",
       "                                                                           html        (10214,)  \n",
       "                                                                           javascript  (10214,)  \n",
       "                                                                           oracle      (10214,)  \n",
       "                                                                           pandas      (10214,)  \n",
       "                                                                           php         (10214,)  \n",
       "                                                                           python      (10214,)  \n",
       "                                                                           reactjs     (10214,)  \n",
       "                                                                           scala       (10214,)  \n",
       "                                                                           sql         (10214,)  \n",
       "                                                                 f_classif android     (10214,)  \n",
       "                                                                           git         (10214,)  \n",
       "                                                                           html        (10214,)  \n",
       "                                                                           javascript  (10214,)  \n",
       "                                                                           oracle      (10214,)  \n",
       "                                                                           pandas      (10214,)  \n",
       "                                                                           php         (10214,)  \n",
       "                                                                           python      (10214,)  \n",
       "                                                                           reactjs     (10214,)  \n",
       "                                                                           scala       (10214,)  \n",
       "                                                                           sql         (10214,)  \n",
       "                                           01     featureselect  chi2      android     (10214,)  \n",
       "                                                                           git         (10214,)  \n",
       "                                                                           html        (10214,)  \n",
       "                                                                           javascript  (10214,)  \n",
       "                                                                           oracle      (10214,)  \n",
       "                                                                           pandas      (10214,)  \n",
       "                                                                           php         (10214,)  \n",
       "                                                                           python      (10214,)  \n",
       "...                                                                                         ...  \n",
       "                               TIC         31     featureselect  f_classif javascript  (16808,)  \n",
       "                                                                           oracle      (16808,)  \n",
       "                                                                           pandas      (16808,)  \n",
       "                                                                           php         (16808,)  \n",
       "                                                                           python      (16808,)  \n",
       "                                                                           reactjs     (16808,)  \n",
       "                                                                           scala       (16808,)  \n",
       "                                                                           sql         (16808,)  \n",
       "                                           32     featureselect  chi2      android     (16808,)  \n",
       "                                                                           git         (16808,)  \n",
       "                                                                           html        (16808,)  \n",
       "                                                                           javascript  (16808,)  \n",
       "                                                                           oracle      (16808,)  \n",
       "                                                                           pandas      (16808,)  \n",
       "                                                                           php         (16808,)  \n",
       "                                                                           python      (16808,)  \n",
       "                                                                           reactjs     (16808,)  \n",
       "                                                                           scala       (16808,)  \n",
       "                                                                           sql         (16808,)  \n",
       "                                                                 f_classif android     (16808,)  \n",
       "                                                                           git         (16808,)  \n",
       "                                                                           html        (16808,)  \n",
       "                                                                           javascript  (16808,)  \n",
       "                                                                           oracle      (16808,)  \n",
       "                                                                           pandas      (16808,)  \n",
       "                                                                           php         (16808,)  \n",
       "                                                                           python      (16808,)  \n",
       "                                                                           reactjs     (16808,)  \n",
       "                                                                           scala       (16808,)  \n",
       "                                                                           sql         (16808,)  \n",
       "\n",
       "[770 rows x 7 columns]"
      ]
     },
     "execution_count": 2,
     "metadata": {},
     "output_type": "execute_result"
    }
   ],
   "source": [
    "kbest = featureselect.run(fsplan, 10000, 1000)\n",
    "kbest"
   ]
  },
  {
   "cell_type": "code",
   "execution_count": 1,
   "metadata": {},
   "outputs": [],
   "source": [
    "#!rm dist/dist/data/stackoverflow/lemma/nltk/11/TB/ folders only [classes]"
   ]
  },
  {
   "cell_type": "code",
   "execution_count": 1,
   "metadata": {
    "scrolled": false
   },
   "outputs": [
    {
     "name": "stdout",
     "output_type": "stream",
     "text": [
      "This is the format of your plot grid:\n",
      "[ (1,1) x1,y1 ]  [ (1,2) x2,y2 ]  [ (1,3) x3,y3 ]  [ (1,4) x4,y4 ]  [ (1,5) x5,y5 ]  [ (1,6) x6,y6 ]\n",
      "\n"
     ]
    },
    {
     "data": {
      "text/html": [
       "<iframe id=\"igraph\" scrolling=\"no\" style=\"border:none;\" seamless=\"seamless\" src=\"https://plot.ly/~MichaelGlatzhofer/20.embed\" height=\"800px\" width=\"100%\"></iframe>"
      ],
      "text/plain": [
       "<plotly.tools.PlotlyDisplay object>"
      ]
     },
     "execution_count": 1,
     "metadata": {},
     "output_type": "execute_result"
    }
   ],
   "source": [
    "from src import featureselect\n",
    "classes = ['python', 'android', 'sql', 'reactjs', 'pandas', 'scala']\n",
    "featureselect.plotTopFeatures('stackoverflow/lemma/nltk/TIB/32', 'chi2', classes)"
   ]
  },
  {
   "cell_type": "markdown",
   "metadata": {},
   "source": [
    "## Supervised Algorithms\n",
    "TODO: write.<br> "
   ]
  },
  {
   "cell_type": "code",
   "execution_count": 3,
   "metadata": {
    "scrolled": false,
    "slideshow": {
     "slide_type": "slide"
    }
   },
   "outputs": [
    {
     "data": {
      "application/vnd.jupyter.widget-view+json": {
       "model_id": "cc8c427055674e5d821a222ef282e1ea",
       "version_major": 2,
       "version_minor": 0
      },
      "text/plain": [
       "FloatProgress(value=0.0, max=28.0)"
      ]
     },
     "metadata": {},
     "output_type": "display_data"
    },
    {
     "data": {
      "image/png": "[encoded data removed]",
      "text/plain": [
       "<Figure size 1440x720 with 4 Axes>"
      ]
     },
     "metadata": {},
     "output_type": "display_data"
    }
   ],
   "source": [
    "%matplotlib inline\n",
    "from src import classify\n",
    "#classify.run('32_title_body', 'chi2', ['python', 'android', 'html', 'php'])\n",
    "classify.run('stackoverflow/lemma/nltk/TIBC/32', 'chi2', 1000, ['python', 'android', 'reactjs', 'pandas'])"
   ]
  },
  {
   "cell_type": "markdown",
   "metadata": {},
   "source": [
    "list bad algos. reasons."
   ]
  },
  {
   "cell_type": "markdown",
   "metadata": {},
   "source": [
    "# Install"
   ]
  },
  {
   "cell_type": "code",
   "execution_count": 2,
   "metadata": {
    "scrolled": false
   },
   "outputs": [],
   "source": [
    "%matplotlib inline\n",
    "%load_ext autoreload\n",
    "%autoreload 2\n",
    "import warnings\n",
    "warnings.filterwarnings('ignore')\n",
    "#!gulp "
   ]
  },
  {
   "cell_type": "code",
   "execution_count": 9,
   "metadata": {},
   "outputs": [
    {
     "name": "stdout",
     "output_type": "stream",
     "text": [
      "Traceback (most recent call last):\n",
      "  File \"/usr/bin/pip3\", line 9, in <module>\n",
      "    from pip import main\n",
      "ImportError: cannot import name 'main'\n"
     ]
    }
   ],
   "source": [
    "!pip3 install pandas\n",
    "!pip3 install plotly\n",
    "\n",
    "import plotly\n",
    "plotly.tools.set_credentials_file(username='MichaelGlatzhofer', api_key='6fkzLsxb00TXcV1OmA52')"
   ]
  }
 ],
 "metadata": {
  "kernelspec": {
   "display_name": "Python 3",
   "language": "python",
   "name": "python3"
  },
  "language_info": {
   "codemirror_mode": {
    "name": "ipython",
    "version": 3
   },
   "file_extension": ".py",
   "mimetype": "text/x-python",
   "name": "python",
   "nbconvert_exporter": "python",
   "pygments_lexer": "ipython3",
   "version": "3.6.3"
  },
  "widgets": {
   "application/vnd.jupyter.widget-state+json": {
    "state": {
     "00b9f26200d8441db7c56e009a0012a3": {
      "model_module": "@jupyter-widgets/base",
      "model_module_version": "1.0.0",
      "model_name": "LayoutModel",
      "state": {}
     },
     "00e4d00466cf4f3a85abbe5743234d16": {
      "model_module": "@jupyter-widgets/base",
      "model_module_version": "1.0.0",
      "model_name": "LayoutModel",
      "state": {}
     },
     "0102b7330f7c4a1796398567e6f1200d": {
      "model_module": "@jupyter-widgets/controls",
      "model_module_version": "1.2.0",
      "model_name": "FloatProgressModel",
      "state": {
       "layout": "IPY_MODEL_bdf2d4974bbc4625bbb4b31ae6789f42",
       "max": 5,
       "style": "IPY_MODEL_f73ae75156594e89a5d588d1bfd01d35",
       "value": 5
      }
     },
     "01ccc4247aa54717ad9d7f21901b6ab5": {
      "model_module": "@jupyter-widgets/controls",
      "model_module_version": "1.2.0",
      "model_name": "ProgressStyleModel",
      "state": {
       "description_width": ""
      }
     },
     "0200d2fa29b140209166e8b467aa4745": {
      "model_module": "@jupyter-widgets/base",
      "model_module_version": "1.0.0",
      "model_name": "LayoutModel",
      "state": {}
     },
     "033d3e68c16446e8a06c1ff093dc4100": {
      "model_module": "@jupyter-widgets/base",
      "model_module_version": "1.0.0",
      "model_name": "LayoutModel",
      "state": {}
     },
     "035e9dbfa6304a4fa710cdf3d86f385e": {
      "model_module": "@jupyter-widgets/base",
      "model_module_version": "1.0.0",
      "model_name": "LayoutModel",
      "state": {}
     },
     "0373d90f6e7942dab0f7119d10d0e08c": {
      "model_module": "@jupyter-widgets/base",
      "model_module_version": "1.0.0",
      "model_name": "LayoutModel",
      "state": {}
     },
     "0383bc061fc844adb592f1334263abc9": {
      "model_module": "@jupyter-widgets/base",
      "model_module_version": "1.0.0",
      "model_name": "LayoutModel",
      "state": {}
     },
     "04413cf8fd4742238443e98a79d41099": {
      "model_module": "@jupyter-widgets/base",
      "model_module_version": "1.0.0",
      "model_name": "LayoutModel",
      "state": {}
     },
     "044b0dec48864eedb88ac110e753966a": {
      "model_module": "@jupyter-widgets/base",
      "model_module_version": "1.0.0",
      "model_name": "LayoutModel",
      "state": {}
     },
     "045d21fa4fd84b529e2176c3c23c5e5e": {
      "model_module": "@jupyter-widgets/controls",
      "model_module_version": "1.2.0",
      "model_name": "FloatProgressModel",
      "state": {
       "layout": "IPY_MODEL_11cb6868fe954dc5b0f2bb02bd02f657",
       "max": 4,
       "style": "IPY_MODEL_892c196866c344ea81efca84b2eae77d",
       "value": 4
      }
     },
     "0486cc3f73ba4803948a78a224a1d113": {
      "model_module": "@jupyter-widgets/base",
      "model_module_version": "1.0.0",
      "model_name": "LayoutModel",
      "state": {}
     },
     "0560df354357440193dbeb19e3434ebd": {
      "model_module": "@jupyter-widgets/base",
      "model_module_version": "1.0.0",
      "model_name": "LayoutModel",
      "state": {}
     },
     "05b0bce515f04945980b02386c0c4da0": {
      "model_module": "@jupyter-widgets/controls",
      "model_module_version": "1.2.0",
      "model_name": "ProgressStyleModel",
      "state": {
       "description_width": ""
      }
     },
     "0628d7f4ff20413c8288e5d3bde02fdc": {
      "model_module": "@jupyter-widgets/base",
      "model_module_version": "1.0.0",
      "model_name": "LayoutModel",
      "state": {}
     },
     "067936472927463dba67281316b6fb42": {
      "model_module": "@jupyter-widgets/controls",
      "model_module_version": "1.2.0",
      "model_name": "ProgressStyleModel",
      "state": {
       "description_width": ""
      }
     },
     "06b3fff313c940a887c9c56d1a719490": {
      "model_module": "@jupyter-widgets/base",
      "model_module_version": "1.0.0",
      "model_name": "LayoutModel",
      "state": {}
     },
     "0798aab12c2f48dc9b82205db879fe2e": {
      "model_module": "@jupyter-widgets/base",
      "model_module_version": "1.0.0",
      "model_name": "LayoutModel",
      "state": {}
     },
     "07b6d9516f194fcc8c6d9bda29876759": {
      "model_module": "@jupyter-widgets/controls",
      "model_module_version": "1.2.0",
      "model_name": "ProgressStyleModel",
      "state": {
       "description_width": ""
      }
     },
     "087c5ec5c6bf4db5971e3ec9b6ed40ed": {
      "model_module": "@jupyter-widgets/controls",
      "model_module_version": "1.2.0",
      "model_name": "ProgressStyleModel",
      "state": {
       "description_width": ""
      }
     },
     "08cce3ceb96949559852196dfe3fa9ff": {
      "model_module": "@jupyter-widgets/base",
      "model_module_version": "1.0.0",
      "model_name": "LayoutModel",
      "state": {}
     },
     "0a09411064794235b4e17db9083dbbc1": {
      "model_module": "@jupyter-widgets/controls",
      "model_module_version": "1.2.0",
      "model_name": "ProgressStyleModel",
      "state": {
       "description_width": ""
      }
     },
     "0a2da0c40a9f4bada844559ce3ebcd0b": {
      "model_module": "@jupyter-widgets/controls",
      "model_module_version": "1.2.0",
      "model_name": "FloatProgressModel",
      "state": {
       "layout": "IPY_MODEL_e3f99961753f4b4e8cafa44c40562d11",
       "max": 4,
       "style": "IPY_MODEL_927e50e4172d419ba795358b5627d402",
       "value": 4
      }
     },
     "0b5bebfb6a664405a528319fe65a527a": {
      "model_module": "@jupyter-widgets/base",
      "model_module_version": "1.0.0",
      "model_name": "LayoutModel",
      "state": {}
     },
     "0c59a1f9b39a4d7bbe486541d1714d51": {
      "model_module": "@jupyter-widgets/controls",
      "model_module_version": "1.2.0",
      "model_name": "ProgressStyleModel",
      "state": {
       "description_width": ""
      }
     },
     "0d52c5de8fcc41b68effb1465b9e3662": {
      "model_module": "@jupyter-widgets/controls",
      "model_module_version": "1.2.0",
      "model_name": "ProgressStyleModel",
      "state": {
       "description_width": ""
      }
     },
     "0e709b1538364b0f9756146c475c3d9d": {
      "model_module": "@jupyter-widgets/base",
      "model_module_version": "1.0.0",
      "model_name": "LayoutModel",
      "state": {}
     },
     "0e96a2070fdf4118819c7f2ee9eaa262": {
      "model_module": "@jupyter-widgets/controls",
      "model_module_version": "1.2.0",
      "model_name": "FloatProgressModel",
      "state": {
       "layout": "IPY_MODEL_4d347c2306ab4ddeb02f94f3f74bfc20",
       "max": 4,
       "style": "IPY_MODEL_067936472927463dba67281316b6fb42",
       "value": 2
      }
     },
     "0eb014f0d684498ab0eed6dd49556918": {
      "model_module": "@jupyter-widgets/base",
      "model_module_version": "1.0.0",
      "model_name": "LayoutModel",
      "state": {}
     },
     "0f2888504c8849c391ce9262811e873d": {
      "model_module": "@jupyter-widgets/controls",
      "model_module_version": "1.2.0",
      "model_name": "ProgressStyleModel",
      "state": {
       "description_width": ""
      }
     },
     "0ffb9dc042594cae91cd2ba9118f1abd": {
      "model_module": "@jupyter-widgets/base",
      "model_module_version": "1.0.0",
      "model_name": "LayoutModel",
      "state": {}
     },
     "101c53e9e5644a0497732e356161d7b7": {
      "model_module": "@jupyter-widgets/base",
      "model_module_version": "1.0.0",
      "model_name": "LayoutModel",
      "state": {}
     },
     "10a53ec725f8475283becfec63000ce7": {
      "model_module": "@jupyter-widgets/controls",
      "model_module_version": "1.2.0",
      "model_name": "FloatProgressModel",
      "state": {
       "layout": "IPY_MODEL_bc028a1ae7414dcda1f1f66ef9ca4ac7",
       "max": 28,
       "style": "IPY_MODEL_20a30e584c864614a9df4645dbda0603",
       "value": 21
      }
     },
     "1102e1bb69724efeb38e279c966c2ce6": {
      "model_module": "@jupyter-widgets/controls",
      "model_module_version": "1.2.0",
      "model_name": "ProgressStyleModel",
      "state": {
       "description_width": ""
      }
     },
     "11cb6868fe954dc5b0f2bb02bd02f657": {
      "model_module": "@jupyter-widgets/base",
      "model_module_version": "1.0.0",
      "model_name": "LayoutModel",
      "state": {}
     },
     "128c80f728d1459f9ffdd94fdf075823": {
      "model_module": "@jupyter-widgets/controls",
      "model_module_version": "1.2.0",
      "model_name": "ProgressStyleModel",
      "state": {
       "description_width": ""
      }
     },
     "13e6049a1cc04fef8dc1f92921cf6406": {
      "model_module": "@jupyter-widgets/base",
      "model_module_version": "1.0.0",
      "model_name": "LayoutModel",
      "state": {}
     },
     "143055802d9c4d96958e7182d154382b": {
      "model_module": "@jupyter-widgets/base",
      "model_module_version": "1.0.0",
      "model_name": "LayoutModel",
      "state": {}
     },
     "14444885d6764b76b159a15c592658dd": {
      "model_module": "@jupyter-widgets/controls",
      "model_module_version": "1.2.0",
      "model_name": "FloatProgressModel",
      "state": {
       "layout": "IPY_MODEL_1d85f49b02a0445ebe017a15ddf165e6",
       "max": 5,
       "style": "IPY_MODEL_94b4510138b04dd4ace9ec4dbbf8848a",
       "value": 5
      }
     },
     "145769fec2ab4a86836183b6ceec5891": {
      "model_module": "@jupyter-widgets/controls",
      "model_module_version": "1.2.0",
      "model_name": "ProgressStyleModel",
      "state": {
       "description_width": ""
      }
     },
     "146380d566674a8a9a4b7d685e80130d": {
      "model_module": "@jupyter-widgets/base",
      "model_module_version": "1.0.0",
      "model_name": "LayoutModel",
      "state": {}
     },
     "14dd4af4a59c4e06a7451a53bd251b67": {
      "model_module": "@jupyter-widgets/controls",
      "model_module_version": "1.2.0",
      "model_name": "ProgressStyleModel",
      "state": {
       "description_width": ""
      }
     },
     "15374613c8d14b0a953a86c24fcc83c2": {
      "model_module": "@jupyter-widgets/controls",
      "model_module_version": "1.2.0",
      "model_name": "FloatProgressModel",
      "state": {
       "layout": "IPY_MODEL_16ea32d1c10b4e9c9e9d97a19e5937a5",
       "max": 4,
       "style": "IPY_MODEL_8d90db9a0a2d497fb59d8a132d668f1a"
      }
     },
     "16029e17643646779d72182fa8d1310d": {
      "model_module": "@jupyter-widgets/controls",
      "model_module_version": "1.2.0",
      "model_name": "FloatProgressModel",
      "state": {
       "layout": "IPY_MODEL_1a27d6e59c0244aea017138b42771540",
       "max": 4,
       "style": "IPY_MODEL_e3c68da6a9e2489781d690c903de020c",
       "value": 4
      }
     },
     "16ea32d1c10b4e9c9e9d97a19e5937a5": {
      "model_module": "@jupyter-widgets/base",
      "model_module_version": "1.0.0",
      "model_name": "LayoutModel",
      "state": {}
     },
     "1856a30038ef4effbe841cb14cd786af": {
      "model_module": "@jupyter-widgets/controls",
      "model_module_version": "1.2.0",
      "model_name": "FloatProgressModel",
      "state": {
       "layout": "IPY_MODEL_5f09a56cf2e74704a83d7c5cc02663b9",
       "max": 5,
       "style": "IPY_MODEL_4da688031a8b4ae5862edaac8fe198d8",
       "value": 5
      }
     },
     "186cef3eeeda4386a447ccc46a43a131": {
      "model_module": "@jupyter-widgets/controls",
      "model_module_version": "1.2.0",
      "model_name": "ProgressStyleModel",
      "state": {
       "description_width": ""
      }
     },
     "1872cc53ed1c4d0182fa673c5f2eae99": {
      "model_module": "@jupyter-widgets/base",
      "model_module_version": "1.0.0",
      "model_name": "LayoutModel",
      "state": {}
     },
     "19cfcab9787a4c8a9bc8edf02840ec3f": {
      "model_module": "@jupyter-widgets/controls",
      "model_module_version": "1.2.0",
      "model_name": "ProgressStyleModel",
      "state": {
       "description_width": ""
      }
     },
     "1a0f13875d6b4ec683ae03595104fda4": {
      "model_module": "@jupyter-widgets/controls",
      "model_module_version": "1.2.0",
      "model_name": "FloatProgressModel",
      "state": {
       "layout": "IPY_MODEL_a200b6b349624b8f845deb42dfe73950",
       "max": 4,
       "style": "IPY_MODEL_71c06c3fc4214d718ef0a4c12c687044",
       "value": 4
      }
     },
     "1a27d6e59c0244aea017138b42771540": {
      "model_module": "@jupyter-widgets/base",
      "model_module_version": "1.0.0",
      "model_name": "LayoutModel",
      "state": {}
     },
     "1a773811bbc2438397a4b6717e7037c1": {
      "model_module": "@jupyter-widgets/base",
      "model_module_version": "1.0.0",
      "model_name": "LayoutModel",
      "state": {}
     },
     "1af2401c89b543d582517673aeb0f3e1": {
      "model_module": "@jupyter-widgets/controls",
      "model_module_version": "1.2.0",
      "model_name": "ProgressStyleModel",
      "state": {
       "description_width": ""
      }
     },
     "1b1e038ec3064428a60b25f9b1987568": {
      "model_module": "@jupyter-widgets/controls",
      "model_module_version": "1.2.0",
      "model_name": "FloatProgressModel",
      "state": {
       "layout": "IPY_MODEL_7aeaa84543f0496888a618ca6238f48d",
       "max": 28,
       "style": "IPY_MODEL_20595cb428dd40459e6fcb68f7c39dd1",
       "value": 2
      }
     },
     "1c923565b5d94e0286fbc9f8e03efeae": {
      "model_module": "@jupyter-widgets/controls",
      "model_module_version": "1.2.0",
      "model_name": "FloatProgressModel",
      "state": {
       "layout": "IPY_MODEL_1f110609a1484a4f8f7f32e7b286ff4a",
       "max": 4,
       "style": "IPY_MODEL_cbdf89b924ec42ebadc571228baf16c8",
       "value": 4
      }
     },
     "1cadd618a54d4707a617118ff7b4b91e": {
      "model_module": "@jupyter-widgets/controls",
      "model_module_version": "1.2.0",
      "model_name": "ProgressStyleModel",
      "state": {
       "description_width": ""
      }
     },
     "1d60d21173de4281b3f97d0d67cb1a08": {
      "model_module": "@jupyter-widgets/controls",
      "model_module_version": "1.2.0",
      "model_name": "FloatProgressModel",
      "state": {
       "layout": "IPY_MODEL_7dc1ca09550f4a368cda99d24d4c0627",
       "max": 5,
       "style": "IPY_MODEL_2ced96a8a46048848241a84aa8b0cc11",
       "value": 5
      }
     },
     "1d85f49b02a0445ebe017a15ddf165e6": {
      "model_module": "@jupyter-widgets/base",
      "model_module_version": "1.0.0",
      "model_name": "LayoutModel",
      "state": {}
     },
     "1e99baf7a4a24c32aecb9ad637075067": {
      "model_module": "@jupyter-widgets/controls",
      "model_module_version": "1.2.0",
      "model_name": "ProgressStyleModel",
      "state": {
       "description_width": ""
      }
     },
     "1eb8f22f11a845dc88fe23158ace90f1": {
      "model_module": "@jupyter-widgets/controls",
      "model_module_version": "1.2.0",
      "model_name": "FloatProgressModel",
      "state": {
       "layout": "IPY_MODEL_0ffb9dc042594cae91cd2ba9118f1abd",
       "max": 5,
       "style": "IPY_MODEL_b2127f4d30da4f25935c1ea1d2db47b3",
       "value": 5
      }
     },
     "1f110609a1484a4f8f7f32e7b286ff4a": {
      "model_module": "@jupyter-widgets/base",
      "model_module_version": "1.0.0",
      "model_name": "LayoutModel",
      "state": {}
     },
     "1fa1a58802a246a6a36555e2d3e47145": {
      "model_module": "@jupyter-widgets/controls",
      "model_module_version": "1.2.0",
      "model_name": "FloatProgressModel",
      "state": {
       "layout": "IPY_MODEL_0b5bebfb6a664405a528319fe65a527a",
       "max": 4,
       "style": "IPY_MODEL_8ffadfa4ad0b4401bc742f9045cb6646",
       "value": 4
      }
     },
     "20420d5f977d4569ace6ff293484b238": {
      "model_module": "@jupyter-widgets/base",
      "model_module_version": "1.0.0",
      "model_name": "LayoutModel",
      "state": {}
     },
     "20595cb428dd40459e6fcb68f7c39dd1": {
      "model_module": "@jupyter-widgets/controls",
      "model_module_version": "1.2.0",
      "model_name": "ProgressStyleModel",
      "state": {
       "description_width": ""
      }
     },
     "20a30e584c864614a9df4645dbda0603": {
      "model_module": "@jupyter-widgets/controls",
      "model_module_version": "1.2.0",
      "model_name": "ProgressStyleModel",
      "state": {
       "description_width": ""
      }
     },
     "20b3fec3fd814a8c931cc24ca8c619e9": {
      "model_module": "@jupyter-widgets/controls",
      "model_module_version": "1.2.0",
      "model_name": "FloatProgressModel",
      "state": {
       "layout": "IPY_MODEL_35c1e3a219be41309348c11ea2b72b3c",
       "max": 40,
       "style": "IPY_MODEL_65a010bd58a64b689e08133023ddb038",
       "value": 1
      }
     },
     "215a32162a84488c82c5557a3b261bc4": {
      "model_module": "@jupyter-widgets/controls",
      "model_module_version": "1.2.0",
      "model_name": "FloatProgressModel",
      "state": {
       "layout": "IPY_MODEL_25468185fc7f4a34ab5778d44dc769ff",
       "max": 4,
       "style": "IPY_MODEL_fd32bfa37080403c94ff727da94495c1",
       "value": 4
      }
     },
     "21b829f932c44ff6a99baa4527e44e2d": {
      "model_module": "@jupyter-widgets/controls",
      "model_module_version": "1.2.0",
      "model_name": "FloatProgressModel",
      "state": {
       "layout": "IPY_MODEL_588396c8dcd349b387bddb1dc687bea7",
       "max": 4,
       "style": "IPY_MODEL_930e7c4bda0e440b936752797fb7202d",
       "value": 4
      }
     },
     "21d1cbb301504af4b087654cce317d32": {
      "model_module": "@jupyter-widgets/base",
      "model_module_version": "1.0.0",
      "model_name": "LayoutModel",
      "state": {}
     },
     "2270be106dd246f096be9f8ad9c6393e": {
      "model_module": "@jupyter-widgets/controls",
      "model_module_version": "1.2.0",
      "model_name": "FloatProgressModel",
      "state": {
       "layout": "IPY_MODEL_56421854f39c4e228004e70b586b2ded",
       "max": 28,
       "style": "IPY_MODEL_ed074a214753454ba2f358f027d00a65",
       "value": 28
      }
     },
     "2324bc9c585e47138a6c75d15c9da11c": {
      "model_module": "@jupyter-widgets/controls",
      "model_module_version": "1.2.0",
      "model_name": "FloatProgressModel",
      "state": {
       "layout": "IPY_MODEL_ab39fc1113aa4062869747cf9d312651",
       "max": 28,
       "style": "IPY_MODEL_b12a408f6c894ac2b85415c01d88bc23",
       "value": 28
      }
     },
     "24a24e057bf646d1a6119992c0b51256": {
      "model_module": "@jupyter-widgets/controls",
      "model_module_version": "1.2.0",
      "model_name": "FloatProgressModel",
      "state": {
       "layout": "IPY_MODEL_c263d16cd57444de8ce620c6e188ec3f",
       "max": 28,
       "style": "IPY_MODEL_186cef3eeeda4386a447ccc46a43a131",
       "value": 28
      }
     },
     "24b125ec469f4d2abfeac4301e34d2d8": {
      "model_module": "@jupyter-widgets/controls",
      "model_module_version": "1.2.0",
      "model_name": "FloatProgressModel",
      "state": {
       "layout": "IPY_MODEL_d025c1ef63f14fdead901e3be36ba923",
       "max": 4,
       "style": "IPY_MODEL_357af7a83be04d929be1d3b04a5711e1",
       "value": 4
      }
     },
     "24fc669a2b6e44cbb36ede86e3495f9f": {
      "model_module": "@jupyter-widgets/controls",
      "model_module_version": "1.2.0",
      "model_name": "ProgressStyleModel",
      "state": {
       "description_width": ""
      }
     },
     "2538f2694d254874ac69c9da7b1aa13d": {
      "model_module": "@jupyter-widgets/controls",
      "model_module_version": "1.2.0",
      "model_name": "ProgressStyleModel",
      "state": {
       "description_width": ""
      }
     },
     "25468185fc7f4a34ab5778d44dc769ff": {
      "model_module": "@jupyter-widgets/base",
      "model_module_version": "1.0.0",
      "model_name": "LayoutModel",
      "state": {}
     },
     "25d56a2d82c24ca2a52ff50f23d702dd": {
      "model_module": "@jupyter-widgets/controls",
      "model_module_version": "1.2.0",
      "model_name": "FloatProgressModel",
      "state": {
       "layout": "IPY_MODEL_3491ebbfa57a430c9f842ac531d7f7be",
       "max": 28,
       "style": "IPY_MODEL_53f2863c9c64455fbbda1922ec560723",
       "value": 28
      }
     },
     "25fd91321b924f78a6fbb90988fdaf6a": {
      "model_module": "@jupyter-widgets/controls",
      "model_module_version": "1.2.0",
      "model_name": "FloatProgressModel",
      "state": {
       "layout": "IPY_MODEL_a4535c1d0c7a4a52b5c46343c4dd2c97",
       "max": 5,
       "style": "IPY_MODEL_98d85e67c7434ecf9b1185d7bf49039c",
       "value": 5
      }
     },
     "28f19ffe97a6468e958ac470b90ff4de": {
      "model_module": "@jupyter-widgets/controls",
      "model_module_version": "1.2.0",
      "model_name": "FloatProgressModel",
      "state": {
       "layout": "IPY_MODEL_6395b365a7ae4304bd9e8b230288b89e",
       "max": 28,
       "style": "IPY_MODEL_70062960a1eb4665b8d0f4f2dae31ac5",
       "value": 28
      }
     },
     "29169a3b53f94abc8ae44b16595ac0fb": {
      "model_module": "@jupyter-widgets/base",
      "model_module_version": "1.0.0",
      "model_name": "LayoutModel",
      "state": {}
     },
     "29630f45fa9e486ab09c54ebf737e622": {
      "model_module": "@jupyter-widgets/controls",
      "model_module_version": "1.2.0",
      "model_name": "FloatProgressModel",
      "state": {
       "layout": "IPY_MODEL_73c590cdaf704b19b180e26b18914c08",
       "max": 4,
       "style": "IPY_MODEL_bea3628bd3f34637bbc8eff9813be468",
       "value": 4
      }
     },
     "29eab95390da49118b6e848d327c37d9": {
      "model_module": "@jupyter-widgets/controls",
      "model_module_version": "1.2.0",
      "model_name": "ProgressStyleModel",
      "state": {
       "description_width": ""
      }
     },
     "2aaf35d1cdd34903a8b1ec9347f89b7e": {
      "model_module": "@jupyter-widgets/controls",
      "model_module_version": "1.2.0",
      "model_name": "ProgressStyleModel",
      "state": {
       "description_width": ""
      }
     },
     "2bb91eca64bd4fd481f3abe866839eb8": {
      "model_module": "@jupyter-widgets/controls",
      "model_module_version": "1.2.0",
      "model_name": "FloatProgressModel",
      "state": {
       "layout": "IPY_MODEL_44871ce2bb4448bd9b2bae7969765df5",
       "max": 4,
       "style": "IPY_MODEL_842ea2c0937e4249ba752ce3c35efe6c",
       "value": 4
      }
     },
     "2be66f0893744f54bd03ebc70510bd22": {
      "model_module": "@jupyter-widgets/controls",
      "model_module_version": "1.2.0",
      "model_name": "ProgressStyleModel",
      "state": {
       "description_width": ""
      }
     },
     "2ced96a8a46048848241a84aa8b0cc11": {
      "model_module": "@jupyter-widgets/controls",
      "model_module_version": "1.2.0",
      "model_name": "ProgressStyleModel",
      "state": {
       "description_width": ""
      }
     },
     "2dbeeca08ff0478db0f200efee86a38c": {
      "model_module": "@jupyter-widgets/controls",
      "model_module_version": "1.2.0",
      "model_name": "FloatProgressModel",
      "state": {
       "layout": "IPY_MODEL_832f894f3be14b9989a39f55983c80e9",
       "max": 4,
       "style": "IPY_MODEL_ed13b835d7ec40ef82684893b9fd9c46",
       "value": 4
      }
     },
     "2e232c4a2e1a43c0887dd0137e90d2dd": {
      "model_module": "@jupyter-widgets/controls",
      "model_module_version": "1.2.0",
      "model_name": "ProgressStyleModel",
      "state": {
       "description_width": ""
      }
     },
     "2eb6637849db4b27a92a97774ae310f5": {
      "model_module": "@jupyter-widgets/controls",
      "model_module_version": "1.2.0",
      "model_name": "ProgressStyleModel",
      "state": {
       "description_width": ""
      }
     },
     "2ebb7e04cd0d49f594d21d24cbed3122": {
      "model_module": "@jupyter-widgets/controls",
      "model_module_version": "1.2.0",
      "model_name": "FloatProgressModel",
      "state": {
       "layout": "IPY_MODEL_1a773811bbc2438397a4b6717e7037c1",
       "max": 64,
       "style": "IPY_MODEL_7c3754d0d71f4286b3d7aa2601239b7e",
       "value": 1
      }
     },
     "2f804bda27d84ccdb87cb04cfb4eefdb": {
      "model_module": "@jupyter-widgets/base",
      "model_module_version": "1.0.0",
      "model_name": "LayoutModel",
      "state": {}
     },
     "30e424e2e77e4c9b8f43b9ccd0fe54be": {
      "model_module": "@jupyter-widgets/controls",
      "model_module_version": "1.2.0",
      "model_name": "ProgressStyleModel",
      "state": {
       "description_width": ""
      }
     },
     "3132f8ed07d04fbd8998d9108eb56025": {
      "model_module": "@jupyter-widgets/controls",
      "model_module_version": "1.2.0",
      "model_name": "ProgressStyleModel",
      "state": {
       "description_width": ""
      }
     },
     "3214a711f4da4c86b0feed4fc6f6766c": {
      "model_module": "@jupyter-widgets/controls",
      "model_module_version": "1.2.0",
      "model_name": "ProgressStyleModel",
      "state": {
       "description_width": ""
      }
     },
     "32ec9e25f7214f4da961833dbc78a98e": {
      "model_module": "@jupyter-widgets/base",
      "model_module_version": "1.0.0",
      "model_name": "LayoutModel",
      "state": {}
     },
     "32ef33959f354f209d67912070a816e8": {
      "model_module": "@jupyter-widgets/controls",
      "model_module_version": "1.2.0",
      "model_name": "ProgressStyleModel",
      "state": {
       "description_width": ""
      }
     },
     "32ff49f6f59740188639ccd72b0bd811": {
      "model_module": "@jupyter-widgets/controls",
      "model_module_version": "1.2.0",
      "model_name": "ProgressStyleModel",
      "state": {
       "description_width": ""
      }
     },
     "331b480a9bc84f0393ae7619fa22718f": {
      "model_module": "@jupyter-widgets/base",
      "model_module_version": "1.0.0",
      "model_name": "LayoutModel",
      "state": {}
     },
     "3491ebbfa57a430c9f842ac531d7f7be": {
      "model_module": "@jupyter-widgets/base",
      "model_module_version": "1.0.0",
      "model_name": "LayoutModel",
      "state": {}
     },
     "34cee06982f8415ca6f9b68f2887441a": {
      "model_module": "@jupyter-widgets/controls",
      "model_module_version": "1.2.0",
      "model_name": "ProgressStyleModel",
      "state": {
       "description_width": ""
      }
     },
     "357af7a83be04d929be1d3b04a5711e1": {
      "model_module": "@jupyter-widgets/controls",
      "model_module_version": "1.2.0",
      "model_name": "ProgressStyleModel",
      "state": {
       "description_width": ""
      }
     },
     "35a76d0b740d4ef499a6884b298572f2": {
      "model_module": "@jupyter-widgets/controls",
      "model_module_version": "1.2.0",
      "model_name": "FloatProgressModel",
      "state": {
       "layout": "IPY_MODEL_c8f1bbff32134f04906d4cf91d176cc3",
       "max": 4,
       "style": "IPY_MODEL_9753122b50ca47ec89612a08fe2e0f76",
       "value": 4
      }
     },
     "35c1e3a219be41309348c11ea2b72b3c": {
      "model_module": "@jupyter-widgets/base",
      "model_module_version": "1.0.0",
      "model_name": "LayoutModel",
      "state": {}
     },
     "3637767c637b44868c78c9cb03525100": {
      "model_module": "@jupyter-widgets/controls",
      "model_module_version": "1.2.0",
      "model_name": "ProgressStyleModel",
      "state": {
       "description_width": ""
      }
     },
     "368961ed43e14eebb6e6172b96aa5694": {
      "model_module": "@jupyter-widgets/controls",
      "model_module_version": "1.2.0",
      "model_name": "ProgressStyleModel",
      "state": {
       "description_width": ""
      }
     },
     "37586c8277cf49389783862abd711756": {
      "model_module": "@jupyter-widgets/base",
      "model_module_version": "1.0.0",
      "model_name": "LayoutModel",
      "state": {}
     },
     "379c1a58aaa64326993cb930548f9771": {
      "model_module": "@jupyter-widgets/base",
      "model_module_version": "1.0.0",
      "model_name": "LayoutModel",
      "state": {}
     },
     "38c35de2e49d46d3b7cce6495a28c459": {
      "model_module": "@jupyter-widgets/base",
      "model_module_version": "1.0.0",
      "model_name": "LayoutModel",
      "state": {}
     },
     "3952bf3c6ce74517abd09435755c3656": {
      "model_module": "@jupyter-widgets/base",
      "model_module_version": "1.0.0",
      "model_name": "LayoutModel",
      "state": {}
     },
     "3a4c07bbf8b849ecbc414f232548d0fe": {
      "model_module": "@jupyter-widgets/base",
      "model_module_version": "1.0.0",
      "model_name": "LayoutModel",
      "state": {}
     },
     "3ae3ca29c3f6413980db807371b3dd1f": {
      "model_module": "@jupyter-widgets/controls",
      "model_module_version": "1.2.0",
      "model_name": "FloatProgressModel",
      "state": {
       "layout": "IPY_MODEL_143055802d9c4d96958e7182d154382b",
       "max": 4,
       "style": "IPY_MODEL_41bc577f22f64fab9bf4809a9cf3e9f0",
       "value": 4
      }
     },
     "3ce381c457c94f4ebeb1ea9cbc557ece": {
      "model_module": "@jupyter-widgets/controls",
      "model_module_version": "1.2.0",
      "model_name": "FloatProgressModel",
      "state": {
       "layout": "IPY_MODEL_a85e0d22f9074c20bce4074a9fe025d7",
       "max": 5,
       "style": "IPY_MODEL_32ef33959f354f209d67912070a816e8"
      }
     },
     "3df11d6598a049c2aaf5821185f0fe72": {
      "model_module": "@jupyter-widgets/controls",
      "model_module_version": "1.2.0",
      "model_name": "FloatProgressModel",
      "state": {
       "layout": "IPY_MODEL_101c53e9e5644a0497732e356161d7b7",
       "max": 5,
       "style": "IPY_MODEL_ef564c303e3f4e68893cfde701e0eade",
       "value": 5
      }
     },
     "3e055fe3ef5a4c818dc00ad48448a42f": {
      "model_module": "@jupyter-widgets/controls",
      "model_module_version": "1.2.0",
      "model_name": "ProgressStyleModel",
      "state": {
       "description_width": ""
      }
     },
     "3e7653fe30a645598ed96ca0154045c1": {
      "model_module": "@jupyter-widgets/controls",
      "model_module_version": "1.2.0",
      "model_name": "ProgressStyleModel",
      "state": {
       "description_width": ""
      }
     },
     "3f9f40058ca6475683e2d065a55642ce": {
      "model_module": "@jupyter-widgets/base",
      "model_module_version": "1.0.0",
      "model_name": "LayoutModel",
      "state": {}
     },
     "3ff242fd09024e108789cb32dbf2d2b4": {
      "model_module": "@jupyter-widgets/base",
      "model_module_version": "1.0.0",
      "model_name": "LayoutModel",
      "state": {}
     },
     "41532a2449ee42daad9bfa0558c3bc6b": {
      "model_module": "@jupyter-widgets/base",
      "model_module_version": "1.0.0",
      "model_name": "LayoutModel",
      "state": {}
     },
     "41b9dc058eee4ad0bcf051dd8e176014": {
      "model_module": "@jupyter-widgets/base",
      "model_module_version": "1.0.0",
      "model_name": "LayoutModel",
      "state": {}
     },
     "41bc577f22f64fab9bf4809a9cf3e9f0": {
      "model_module": "@jupyter-widgets/controls",
      "model_module_version": "1.2.0",
      "model_name": "ProgressStyleModel",
      "state": {
       "description_width": ""
      }
     },
     "41dc35878af44d338167146257697767": {
      "model_module": "@jupyter-widgets/base",
      "model_module_version": "1.0.0",
      "model_name": "LayoutModel",
      "state": {}
     },
     "43d06aa15697409ea47e6186a0944c25": {
      "model_module": "@jupyter-widgets/controls",
      "model_module_version": "1.2.0",
      "model_name": "FloatProgressModel",
      "state": {
       "layout": "IPY_MODEL_3a4c07bbf8b849ecbc414f232548d0fe",
       "max": 12,
       "style": "IPY_MODEL_837f5192004444b7a26b6e952d21099c",
       "value": 12
      }
     },
     "44871ce2bb4448bd9b2bae7969765df5": {
      "model_module": "@jupyter-widgets/base",
      "model_module_version": "1.0.0",
      "model_name": "LayoutModel",
      "state": {}
     },
     "4492f6345f6342db9a1c8ef3e1f16ae8": {
      "model_module": "@jupyter-widgets/controls",
      "model_module_version": "1.2.0",
      "model_name": "FloatProgressModel",
      "state": {
       "layout": "IPY_MODEL_4a4098e2868e442082ab52652c644bc7",
       "max": 5,
       "style": "IPY_MODEL_01ccc4247aa54717ad9d7f21901b6ab5",
       "value": 5
      }
     },
     "45478c62315b4687b36905a77d31f1f9": {
      "model_module": "@jupyter-widgets/controls",
      "model_module_version": "1.2.0",
      "model_name": "FloatProgressModel",
      "state": {
       "layout": "IPY_MODEL_d1e9047888bc4644a7ae8e16b15afe34",
       "max": 4,
       "style": "IPY_MODEL_fbd186349cfa4b7d85224925f7a0a75a"
      }
     },
     "460f37b52383409d950fcc56ab1c784d": {
      "model_module": "@jupyter-widgets/controls",
      "model_module_version": "1.2.0",
      "model_name": "FloatProgressModel",
      "state": {
       "layout": "IPY_MODEL_20420d5f977d4569ace6ff293484b238",
       "max": 28,
       "style": "IPY_MODEL_d458cb1480e948929abf9d1d7b859cbc",
       "value": 28
      }
     },
     "46a249f53eb1433a90ccad20b88f249d": {
      "model_module": "@jupyter-widgets/controls",
      "model_module_version": "1.2.0",
      "model_name": "FloatProgressModel",
      "state": {
       "layout": "IPY_MODEL_38c35de2e49d46d3b7cce6495a28c459",
       "max": 6,
       "style": "IPY_MODEL_d4071afd268e457baad6f5e41bd9fecb",
       "value": 6
      }
     },
     "472796de43324d18a6621c45f78ede98": {
      "model_module": "@jupyter-widgets/controls",
      "model_module_version": "1.2.0",
      "model_name": "FloatProgressModel",
      "state": {
       "layout": "IPY_MODEL_49cd4a98c69d4fb0b8faa2f16d7e0055",
       "max": 5,
       "style": "IPY_MODEL_ca4d3a37c79640c2ac21dedd07c58de3",
       "value": 5
      }
     },
     "48330375c8be4edcad595585a1bd4dec": {
      "model_module": "@jupyter-widgets/controls",
      "model_module_version": "1.2.0",
      "model_name": "FloatProgressModel",
      "state": {
       "layout": "IPY_MODEL_9d9e9aa76e634cb980f94679e478ef21",
       "max": 4,
       "style": "IPY_MODEL_bf496a07015042c0bc5dfccb56b78e06",
       "value": 4
      }
     },
     "49c8f395bd1d4c488b66013058cd81a1": {
      "model_module": "@jupyter-widgets/controls",
      "model_module_version": "1.2.0",
      "model_name": "ProgressStyleModel",
      "state": {
       "description_width": ""
      }
     },
     "49cd4a98c69d4fb0b8faa2f16d7e0055": {
      "model_module": "@jupyter-widgets/base",
      "model_module_version": "1.0.0",
      "model_name": "LayoutModel",
      "state": {}
     },
     "49e85c96fdc042c09a63585b11997760": {
      "model_module": "@jupyter-widgets/controls",
      "model_module_version": "1.2.0",
      "model_name": "FloatProgressModel",
      "state": {
       "layout": "IPY_MODEL_d5515b9b19874d7eac98ff3cd812ae44",
       "max": 462,
       "style": "IPY_MODEL_c177cd0b9a8143118fb080db154c3c0e",
       "value": 462
      }
     },
     "4a4098e2868e442082ab52652c644bc7": {
      "model_module": "@jupyter-widgets/base",
      "model_module_version": "1.0.0",
      "model_name": "LayoutModel",
      "state": {}
     },
     "4a6538fbec6347c896246e921e29410e": {
      "model_module": "@jupyter-widgets/controls",
      "model_module_version": "1.2.0",
      "model_name": "FloatProgressModel",
      "state": {
       "layout": "IPY_MODEL_37586c8277cf49389783862abd711756",
       "max": 28,
       "style": "IPY_MODEL_4b947f5e99174d049b00c149753e203e",
       "value": 28
      }
     },
     "4b1ebdca1e50445187bcf979aefd0090": {
      "model_module": "@jupyter-widgets/controls",
      "model_module_version": "1.2.0",
      "model_name": "FloatProgressModel",
      "state": {
       "layout": "IPY_MODEL_f1c14e7eee9b4b2bacaf83ef868c8383",
       "max": 4,
       "style": "IPY_MODEL_5d915dccb2df49aca554d77622f51d8b",
       "value": 4
      }
     },
     "4b947f5e99174d049b00c149753e203e": {
      "model_module": "@jupyter-widgets/controls",
      "model_module_version": "1.2.0",
      "model_name": "ProgressStyleModel",
      "state": {
       "description_width": ""
      }
     },
     "4bc9e7269dac47bd843c2e2e164ef101": {
      "model_module": "@jupyter-widgets/controls",
      "model_module_version": "1.2.0",
      "model_name": "FloatProgressModel",
      "state": {
       "layout": "IPY_MODEL_6c80639e943b40c38bc516bcd84ee5ac",
       "max": 5,
       "style": "IPY_MODEL_19cfcab9787a4c8a9bc8edf02840ec3f",
       "value": 5
      }
     },
     "4bf8d813bce748859f647dd66b2a3f64": {
      "model_module": "@jupyter-widgets/controls",
      "model_module_version": "1.2.0",
      "model_name": "FloatProgressModel",
      "state": {
       "layout": "IPY_MODEL_ed835d94f3e144a583342164a7a5bc85",
       "max": 5,
       "style": "IPY_MODEL_bbc686de1dbd45d78ab120d590f83b91",
       "value": 5
      }
     },
     "4c53606fb92e4ce3ac2d1350f600824d": {
      "model_module": "@jupyter-widgets/base",
      "model_module_version": "1.0.0",
      "model_name": "LayoutModel",
      "state": {}
     },
     "4d347c2306ab4ddeb02f94f3f74bfc20": {
      "model_module": "@jupyter-widgets/base",
      "model_module_version": "1.0.0",
      "model_name": "LayoutModel",
      "state": {}
     },
     "4da688031a8b4ae5862edaac8fe198d8": {
      "model_module": "@jupyter-widgets/controls",
      "model_module_version": "1.2.0",
      "model_name": "ProgressStyleModel",
      "state": {
       "description_width": ""
      }
     },
     "4db20c126d914eb19cc57148245a85fb": {
      "model_module": "@jupyter-widgets/controls",
      "model_module_version": "1.2.0",
      "model_name": "ProgressStyleModel",
      "state": {
       "description_width": ""
      }
     },
     "4ff9b5ed1d974710bab0de2eeee3a552": {
      "model_module": "@jupyter-widgets/controls",
      "model_module_version": "1.2.0",
      "model_name": "FloatProgressModel",
      "state": {
       "layout": "IPY_MODEL_0798aab12c2f48dc9b82205db879fe2e",
       "max": 4,
       "style": "IPY_MODEL_d48afb2bb35f49e8b5bad97bfa56ff80"
      }
     },
     "50ef64c5e15e46938afc279dfb2b6626": {
      "model_module": "@jupyter-widgets/controls",
      "model_module_version": "1.2.0",
      "model_name": "FloatProgressModel",
      "state": {
       "layout": "IPY_MODEL_41b9dc058eee4ad0bcf051dd8e176014",
       "max": 5,
       "style": "IPY_MODEL_bb7f9fbfe6494fcaa1ec6f2a980b7b0f",
       "value": 5
      }
     },
     "5291ab352c8e4ef48cf87ff739c69f1c": {
      "model_module": "@jupyter-widgets/controls",
      "model_module_version": "1.2.0",
      "model_name": "FloatProgressModel",
      "state": {
       "layout": "IPY_MODEL_f39baea8552f4dabbecbe69c48763be1",
       "max": 5,
       "style": "IPY_MODEL_bc25df385862435b9bafdfbcc87e5a96",
       "value": 5
      }
     },
     "53f2863c9c64455fbbda1922ec560723": {
      "model_module": "@jupyter-widgets/controls",
      "model_module_version": "1.2.0",
      "model_name": "ProgressStyleModel",
      "state": {
       "description_width": ""
      }
     },
     "5500470d3c294f3c9e2b27b5920189dc": {
      "model_module": "@jupyter-widgets/base",
      "model_module_version": "1.0.0",
      "model_name": "LayoutModel",
      "state": {}
     },
     "56421854f39c4e228004e70b586b2ded": {
      "model_module": "@jupyter-widgets/base",
      "model_module_version": "1.0.0",
      "model_name": "LayoutModel",
      "state": {}
     },
     "5654a96806b24c62ab447c630b8ba0b5": {
      "model_module": "@jupyter-widgets/base",
      "model_module_version": "1.0.0",
      "model_name": "LayoutModel",
      "state": {}
     },
     "56ec0e277c2e4ba1847e434abf74c53f": {
      "model_module": "@jupyter-widgets/controls",
      "model_module_version": "1.2.0",
      "model_name": "FloatProgressModel",
      "state": {
       "layout": "IPY_MODEL_7f6665a366754e6081bf31dafde96c1e",
       "max": 5,
       "style": "IPY_MODEL_cd91805cb98b495bbe0981f964516449",
       "value": 5
      }
     },
     "57917065b2cf4671aac40423c5f0338a": {
      "model_module": "@jupyter-widgets/controls",
      "model_module_version": "1.2.0",
      "model_name": "FloatProgressModel",
      "state": {
       "layout": "IPY_MODEL_fce9119ddc7d4716a25d2d7d0059e918",
       "max": 5,
       "style": "IPY_MODEL_de73c65852ae45e980090a0f5aad3516",
       "value": 5
      }
     },
     "57a252021c8b488a8e8389f6df72becf": {
      "model_module": "@jupyter-widgets/controls",
      "model_module_version": "1.2.0",
      "model_name": "FloatProgressModel",
      "state": {
       "layout": "IPY_MODEL_0628d7f4ff20413c8288e5d3bde02fdc",
       "max": 5,
       "style": "IPY_MODEL_2aaf35d1cdd34903a8b1ec9347f89b7e",
       "value": 5
      }
     },
     "57c7015b53eb4d9c94fb0729f42be186": {
      "model_module": "@jupyter-widgets/base",
      "model_module_version": "1.0.0",
      "model_name": "LayoutModel",
      "state": {}
     },
     "588396c8dcd349b387bddb1dc687bea7": {
      "model_module": "@jupyter-widgets/base",
      "model_module_version": "1.0.0",
      "model_name": "LayoutModel",
      "state": {}
     },
     "58a8a8c5125242dc9487e97e7a2a7f75": {
      "model_module": "@jupyter-widgets/base",
      "model_module_version": "1.0.0",
      "model_name": "LayoutModel",
      "state": {}
     },
     "59193033a363489ebf94cf1d4ff0fbca": {
      "model_module": "@jupyter-widgets/controls",
      "model_module_version": "1.2.0",
      "model_name": "FloatProgressModel",
      "state": {
       "layout": "IPY_MODEL_7dcdd5a62ac24cbc86fd4112c3749657",
       "max": 5,
       "style": "IPY_MODEL_2538f2694d254874ac69c9da7b1aa13d"
      }
     },
     "59dcead23b9e472fbc61c78d85a5d594": {
      "model_module": "@jupyter-widgets/base",
      "model_module_version": "1.0.0",
      "model_name": "LayoutModel",
      "state": {}
     },
     "5a9e1efb7002426991dff9b0eab065a9": {
      "model_module": "@jupyter-widgets/controls",
      "model_module_version": "1.2.0",
      "model_name": "ProgressStyleModel",
      "state": {
       "description_width": ""
      }
     },
     "5d6be6399bbc44ec87513c3147e50b97": {
      "model_module": "@jupyter-widgets/controls",
      "model_module_version": "1.2.0",
      "model_name": "ProgressStyleModel",
      "state": {
       "description_width": ""
      }
     },
     "5d915dccb2df49aca554d77622f51d8b": {
      "model_module": "@jupyter-widgets/controls",
      "model_module_version": "1.2.0",
      "model_name": "ProgressStyleModel",
      "state": {
       "description_width": ""
      }
     },
     "5f09a56cf2e74704a83d7c5cc02663b9": {
      "model_module": "@jupyter-widgets/base",
      "model_module_version": "1.0.0",
      "model_name": "LayoutModel",
      "state": {}
     },
     "5f508efb8f894887b237583691c04df7": {
      "model_module": "@jupyter-widgets/controls",
      "model_module_version": "1.2.0",
      "model_name": "FloatProgressModel",
      "state": {
       "layout": "IPY_MODEL_0373d90f6e7942dab0f7119d10d0e08c",
       "max": 4,
       "style": "IPY_MODEL_f77e3d98fad147be9c76bff2f1ed404c",
       "value": 4
      }
     },
     "601b702b28c74f48bba9c6fd9febc32e": {
      "model_module": "@jupyter-widgets/controls",
      "model_module_version": "1.2.0",
      "model_name": "ProgressStyleModel",
      "state": {
       "description_width": ""
      }
     },
     "604168df77d44c769aaf672212c5d36e": {
      "model_module": "@jupyter-widgets/controls",
      "model_module_version": "1.2.0",
      "model_name": "FloatProgressModel",
      "state": {
       "layout": "IPY_MODEL_5500470d3c294f3c9e2b27b5920189dc",
       "max": 462,
       "style": "IPY_MODEL_9eb818665ef243e192b5b58ead2e265f",
       "value": 318
      }
     },
     "61651f5684144bb58a18634b2d07cecc": {
      "model_module": "@jupyter-widgets/base",
      "model_module_version": "1.0.0",
      "model_name": "LayoutModel",
      "state": {}
     },
     "61bcdaaf6cce4eea9aaca8d9ed019e6d": {
      "model_module": "@jupyter-widgets/base",
      "model_module_version": "1.0.0",
      "model_name": "LayoutModel",
      "state": {}
     },
     "624c824699604bb589b4db39cfcc66a0": {
      "model_module": "@jupyter-widgets/controls",
      "model_module_version": "1.2.0",
      "model_name": "FloatProgressModel",
      "state": {
       "layout": "IPY_MODEL_cb7a0c1732e244dc98e79d98ffe7d044",
       "max": 12,
       "style": "IPY_MODEL_29eab95390da49118b6e848d327c37d9",
       "value": 12
      }
     },
     "62ff176ece5f4c699a6065f79d859296": {
      "model_module": "@jupyter-widgets/controls",
      "model_module_version": "1.2.0",
      "model_name": "FloatProgressModel",
      "state": {
       "layout": "IPY_MODEL_72e1d0479892483f88478a1d0b44349b",
       "max": 12,
       "style": "IPY_MODEL_c984abe413ae467d8b5c7603d25b1feb",
       "value": 12
      }
     },
     "6395b365a7ae4304bd9e8b230288b89e": {
      "model_module": "@jupyter-widgets/base",
      "model_module_version": "1.0.0",
      "model_name": "LayoutModel",
      "state": {}
     },
     "6418346ea6c24d1985f789de5a9d6d23": {
      "model_module": "@jupyter-widgets/controls",
      "model_module_version": "1.2.0",
      "model_name": "ProgressStyleModel",
      "state": {
       "description_width": ""
      }
     },
     "6441a5449a0a49b2b5c3d5e88641b734": {
      "model_module": "@jupyter-widgets/controls",
      "model_module_version": "1.2.0",
      "model_name": "FloatProgressModel",
      "state": {
       "layout": "IPY_MODEL_13e6049a1cc04fef8dc1f92921cf6406",
       "max": 28,
       "style": "IPY_MODEL_fff9a529d7324d5b967a6026b49366f1",
       "value": 28
      }
     },
     "649ff632065c4630addd1708a0ca4ad3": {
      "model_module": "@jupyter-widgets/controls",
      "model_module_version": "1.2.0",
      "model_name": "ProgressStyleModel",
      "state": {
       "description_width": ""
      }
     },
     "65a010bd58a64b689e08133023ddb038": {
      "model_module": "@jupyter-widgets/controls",
      "model_module_version": "1.2.0",
      "model_name": "ProgressStyleModel",
      "state": {
       "description_width": ""
      }
     },
     "65d917f453464e5abcb76413f0f4f2fe": {
      "model_module": "@jupyter-widgets/base",
      "model_module_version": "1.0.0",
      "model_name": "LayoutModel",
      "state": {}
     },
     "66644b904d0f40f8a9d41a4e63da6aea": {
      "model_module": "@jupyter-widgets/controls",
      "model_module_version": "1.2.0",
      "model_name": "FloatProgressModel",
      "state": {
       "layout": "IPY_MODEL_ea093a953c0849b89a69aa0f40bdb2e5",
       "max": 4,
       "style": "IPY_MODEL_cdcb4bcf175f40489bb393a7c9fce9e5",
       "value": 4
      }
     },
     "67c2bb5721f3463b89934e72a4fcde2c": {
      "model_module": "@jupyter-widgets/controls",
      "model_module_version": "1.2.0",
      "model_name": "ProgressStyleModel",
      "state": {
       "description_width": ""
      }
     },
     "67ccccc7b4224a7099884024decdf800": {
      "model_module": "@jupyter-widgets/base",
      "model_module_version": "1.0.0",
      "model_name": "LayoutModel",
      "state": {}
     },
     "6a6bd1f9203e4589a3e3d99ff4a4748d": {
      "model_module": "@jupyter-widgets/controls",
      "model_module_version": "1.2.0",
      "model_name": "ProgressStyleModel",
      "state": {
       "description_width": ""
      }
     },
     "6baa11fb51ac4526ae42e4a849b8c08a": {
      "model_module": "@jupyter-widgets/controls",
      "model_module_version": "1.2.0",
      "model_name": "FloatProgressModel",
      "state": {
       "layout": "IPY_MODEL_035e9dbfa6304a4fa710cdf3d86f385e",
       "max": 48,
       "style": "IPY_MODEL_0f2888504c8849c391ce9262811e873d",
       "value": 48
      }
     },
     "6c311960dd0545d9a6b4df0aaaac93ce": {
      "model_module": "@jupyter-widgets/controls",
      "model_module_version": "1.2.0",
      "model_name": "FloatProgressModel",
      "state": {
       "layout": "IPY_MODEL_08cce3ceb96949559852196dfe3fa9ff",
       "max": 5,
       "style": "IPY_MODEL_128c80f728d1459f9ffdd94fdf075823",
       "value": 5
      }
     },
     "6c59e565efc1489cb09bfbcaca736715": {
      "model_module": "@jupyter-widgets/controls",
      "model_module_version": "1.2.0",
      "model_name": "FloatProgressModel",
      "state": {
       "layout": "IPY_MODEL_00e4d00466cf4f3a85abbe5743234d16",
       "max": 28,
       "style": "IPY_MODEL_da2d413bbde848f38b4fd7cc28adb5e8",
       "value": 28
      }
     },
     "6c80639e943b40c38bc516bcd84ee5ac": {
      "model_module": "@jupyter-widgets/base",
      "model_module_version": "1.0.0",
      "model_name": "LayoutModel",
      "state": {}
     },
     "6c846770f1724368b49c416e1967d84b": {
      "model_module": "@jupyter-widgets/controls",
      "model_module_version": "1.2.0",
      "model_name": "FloatProgressModel",
      "state": {
       "layout": "IPY_MODEL_a677b55c2c1840bf8b7fc653f9198503",
       "max": 48,
       "style": "IPY_MODEL_30e424e2e77e4c9b8f43b9ccd0fe54be",
       "value": 1
      }
     },
     "6d32d6f0aa3c464189ce69acc16d6658": {
      "model_module": "@jupyter-widgets/base",
      "model_module_version": "1.0.0",
      "model_name": "LayoutModel",
      "state": {}
     },
     "6dbc2713213f4e5685c47fcff94dab30": {
      "model_module": "@jupyter-widgets/controls",
      "model_module_version": "1.2.0",
      "model_name": "FloatProgressModel",
      "state": {
       "layout": "IPY_MODEL_00b9f26200d8441db7c56e009a0012a3",
       "max": 4,
       "style": "IPY_MODEL_c3c676db8b3f45fea361efcca684d251",
       "value": 4
      }
     },
     "6eba09cadbf046368cfc83f14f183f2f": {
      "model_module": "@jupyter-widgets/controls",
      "model_module_version": "1.2.0",
      "model_name": "ProgressStyleModel",
      "state": {
       "description_width": ""
      }
     },
     "6f09919e020c4c1fbc5377fb96aa8e55": {
      "model_module": "@jupyter-widgets/controls",
      "model_module_version": "1.2.0",
      "model_name": "FloatProgressModel",
      "state": {
       "layout": "IPY_MODEL_4c53606fb92e4ce3ac2d1350f600824d",
       "max": 5,
       "style": "IPY_MODEL_14dd4af4a59c4e06a7451a53bd251b67",
       "value": 5
      }
     },
     "70062960a1eb4665b8d0f4f2dae31ac5": {
      "model_module": "@jupyter-widgets/controls",
      "model_module_version": "1.2.0",
      "model_name": "ProgressStyleModel",
      "state": {
       "description_width": ""
      }
     },
     "70a36148d387420b8fd698fc360e23b2": {
      "model_module": "@jupyter-widgets/controls",
      "model_module_version": "1.2.0",
      "model_name": "ProgressStyleModel",
      "state": {
       "description_width": ""
      }
     },
     "70a637bf715b41fd9b3f21c77db07fda": {
      "model_module": "@jupyter-widgets/controls",
      "model_module_version": "1.2.0",
      "model_name": "FloatProgressModel",
      "state": {
       "layout": "IPY_MODEL_d44d8a725b66418583ed9c057b923991",
       "max": 4,
       "style": "IPY_MODEL_dbec68ef0f87443fa7a99cb3940c6169",
       "value": 4
      }
     },
     "7135b058b45e448f8641be0af78c291c": {
      "model_module": "@jupyter-widgets/controls",
      "model_module_version": "1.2.0",
      "model_name": "FloatProgressModel",
      "state": {
       "layout": "IPY_MODEL_d692164e2a8e41f199ce4e63245b4820",
       "max": 28,
       "style": "IPY_MODEL_942f68a0beb54b3c8d5f63ec517a4262",
       "value": 28
      }
     },
     "7159020ebbde425d89edca41d4aab4f0": {
      "model_module": "@jupyter-widgets/controls",
      "model_module_version": "1.2.0",
      "model_name": "FloatProgressModel",
      "state": {
       "layout": "IPY_MODEL_b48cf545a6ad4d02a84bc3f1a536bacc",
       "max": 28,
       "style": "IPY_MODEL_bbb6902c17e940caa570f05b91c6ac4c",
       "value": 28
      }
     },
     "71c06c3fc4214d718ef0a4c12c687044": {
      "model_module": "@jupyter-widgets/controls",
      "model_module_version": "1.2.0",
      "model_name": "ProgressStyleModel",
      "state": {
       "description_width": ""
      }
     },
     "720e3e56bf1f4890bb3328c502a413a0": {
      "model_module": "@jupyter-widgets/controls",
      "model_module_version": "1.2.0",
      "model_name": "FloatProgressModel",
      "state": {
       "layout": "IPY_MODEL_0200d2fa29b140209166e8b467aa4745",
       "max": 5,
       "style": "IPY_MODEL_c466f2d5e7304f82b3d66521d9fceab5",
       "value": 5
      }
     },
     "7219ca4e40814ae39aac542b35110495": {
      "model_module": "@jupyter-widgets/controls",
      "model_module_version": "1.2.0",
      "model_name": "FloatProgressModel",
      "state": {
       "layout": "IPY_MODEL_bfeb578f90b0412c990efbc75ec48b21",
       "max": 28,
       "style": "IPY_MODEL_0a09411064794235b4e17db9083dbbc1"
      }
     },
     "727c21a3893d4cdba0a9880dc6c3dc02": {
      "model_module": "@jupyter-widgets/controls",
      "model_module_version": "1.2.0",
      "model_name": "FloatProgressModel",
      "state": {
       "layout": "IPY_MODEL_e9a56f2ac7114146913c598afcf4d6c7",
       "max": 5,
       "style": "IPY_MODEL_c54e315ae9154e5095c576dffd0c9538",
       "value": 5
      }
     },
     "72e1d0479892483f88478a1d0b44349b": {
      "model_module": "@jupyter-widgets/base",
      "model_module_version": "1.0.0",
      "model_name": "LayoutModel",
      "state": {}
     },
     "73c590cdaf704b19b180e26b18914c08": {
      "model_module": "@jupyter-widgets/base",
      "model_module_version": "1.0.0",
      "model_name": "LayoutModel",
      "state": {}
     },
     "75a7ca5d67994edb93c59f9a6267ccad": {
      "model_module": "@jupyter-widgets/controls",
      "model_module_version": "1.2.0",
      "model_name": "ProgressStyleModel",
      "state": {
       "description_width": ""
      }
     },
     "75cf03a87eb340369eb327b8af9e1222": {
      "model_module": "@jupyter-widgets/controls",
      "model_module_version": "1.2.0",
      "model_name": "FloatProgressModel",
      "state": {
       "layout": "IPY_MODEL_06b3fff313c940a887c9c56d1a719490",
       "max": 4,
       "style": "IPY_MODEL_3e7653fe30a645598ed96ca0154045c1",
       "value": 4
      }
     },
     "75d5a058a252496ca6c65fcb511be053": {
      "model_module": "@jupyter-widgets/base",
      "model_module_version": "1.0.0",
      "model_name": "LayoutModel",
      "state": {}
     },
     "75fc34a428f348f09baa33dbec655dd7": {
      "model_module": "@jupyter-widgets/base",
      "model_module_version": "1.0.0",
      "model_name": "LayoutModel",
      "state": {}
     },
     "76017457ff5b4d539e089a4331b4d5fc": {
      "model_module": "@jupyter-widgets/base",
      "model_module_version": "1.0.0",
      "model_name": "LayoutModel",
      "state": {}
     },
     "761d9d1ec56d4bd1866edca33038451d": {
      "model_module": "@jupyter-widgets/controls",
      "model_module_version": "1.2.0",
      "model_name": "ProgressStyleModel",
      "state": {
       "description_width": ""
      }
     },
     "798a7d6e4e354f0eb122bc1af30b2417": {
      "model_module": "@jupyter-widgets/controls",
      "model_module_version": "1.2.0",
      "model_name": "FloatProgressModel",
      "state": {
       "layout": "IPY_MODEL_0eb014f0d684498ab0eed6dd49556918",
       "max": 28,
       "style": "IPY_MODEL_6eba09cadbf046368cfc83f14f183f2f",
       "value": 28
      }
     },
     "7a2145c2fdd04e0c8d70f46d02ba3bf2": {
      "model_module": "@jupyter-widgets/controls",
      "model_module_version": "1.2.0",
      "model_name": "FloatProgressModel",
      "state": {
       "layout": "IPY_MODEL_ef1fa1ba42c64394bedc0d37ab70e71e",
       "max": 4,
       "style": "IPY_MODEL_9bf624d3178747b1a0c7e61e97e1a098"
      }
     },
     "7aeaa84543f0496888a618ca6238f48d": {
      "model_module": "@jupyter-widgets/base",
      "model_module_version": "1.0.0",
      "model_name": "LayoutModel",
      "state": {}
     },
     "7bbf242a604e423daac443a1d5e8bd7a": {
      "model_module": "@jupyter-widgets/controls",
      "model_module_version": "1.2.0",
      "model_name": "FloatProgressModel",
      "state": {
       "layout": "IPY_MODEL_fd8635fe6da4431badc84381b8b88d64",
       "max": 28,
       "style": "IPY_MODEL_2eb6637849db4b27a92a97774ae310f5",
       "value": 28
      }
     },
     "7c3754d0d71f4286b3d7aa2601239b7e": {
      "model_module": "@jupyter-widgets/controls",
      "model_module_version": "1.2.0",
      "model_name": "ProgressStyleModel",
      "state": {
       "description_width": ""
      }
     },
     "7c43f0f6961a4bc6a3631fd9dced3b51": {
      "model_module": "@jupyter-widgets/base",
      "model_module_version": "1.0.0",
      "model_name": "LayoutModel",
      "state": {}
     },
     "7c96f935cbc94f9f9d8e3a1825ef2b57": {
      "model_module": "@jupyter-widgets/controls",
      "model_module_version": "1.2.0",
      "model_name": "FloatProgressModel",
      "state": {
       "layout": "IPY_MODEL_41532a2449ee42daad9bfa0558c3bc6b",
       "max": 28,
       "style": "IPY_MODEL_6418346ea6c24d1985f789de5a9d6d23",
       "value": 28
      }
     },
     "7dc1ca09550f4a368cda99d24d4c0627": {
      "model_module": "@jupyter-widgets/base",
      "model_module_version": "1.0.0",
      "model_name": "LayoutModel",
      "state": {}
     },
     "7dcdd5a62ac24cbc86fd4112c3749657": {
      "model_module": "@jupyter-widgets/base",
      "model_module_version": "1.0.0",
      "model_name": "LayoutModel",
      "state": {}
     },
     "7e85568758b24fc3a6f5025ba2aba92a": {
      "model_module": "@jupyter-widgets/controls",
      "model_module_version": "1.2.0",
      "model_name": "ProgressStyleModel",
      "state": {
       "description_width": ""
      }
     },
     "7ed9487a57714bb7a29c2afd88f7865e": {
      "model_module": "@jupyter-widgets/controls",
      "model_module_version": "1.2.0",
      "model_name": "FloatProgressModel",
      "state": {
       "layout": "IPY_MODEL_de9558a2b01c4d8ebf0d90fcef3c6d0b",
       "max": 4,
       "style": "IPY_MODEL_4db20c126d914eb19cc57148245a85fb",
       "value": 4
      }
     },
     "7f0b1cc937624c71a84feb2f71814873": {
      "model_module": "@jupyter-widgets/controls",
      "model_module_version": "1.2.0",
      "model_name": "ProgressStyleModel",
      "state": {
       "description_width": ""
      }
     },
     "7f6665a366754e6081bf31dafde96c1e": {
      "model_module": "@jupyter-widgets/base",
      "model_module_version": "1.0.0",
      "model_name": "LayoutModel",
      "state": {}
     },
     "7fb89a40b9384cdea482bcd6577c9ae8": {
      "model_module": "@jupyter-widgets/controls",
      "model_module_version": "1.2.0",
      "model_name": "FloatProgressModel",
      "state": {
       "layout": "IPY_MODEL_044b0dec48864eedb88ac110e753966a",
       "max": 5,
       "style": "IPY_MODEL_a3c5734dbe5b47ebb923b3a089b36e3f",
       "value": 5
      }
     },
     "8066dab20ad94899bb1df7bf7f70c19e": {
      "model_module": "@jupyter-widgets/controls",
      "model_module_version": "1.2.0",
      "model_name": "FloatProgressModel",
      "state": {
       "layout": "IPY_MODEL_848d077bfd06467291be3b912776a0bc",
       "max": 4,
       "style": "IPY_MODEL_e2dd48ee9a1a44029ee0edd68cd2921d",
       "value": 4
      }
     },
     "820bf288937c415aa2e52bcb26992686": {
      "model_module": "@jupyter-widgets/controls",
      "model_module_version": "1.2.0",
      "model_name": "ProgressStyleModel",
      "state": {
       "description_width": ""
      }
     },
     "8255fd176f5b4961a536fb57863c99aa": {
      "model_module": "@jupyter-widgets/base",
      "model_module_version": "1.0.0",
      "model_name": "LayoutModel",
      "state": {}
     },
     "826f5f23d0fb4f8c8cb3e3c9991a4a7d": {
      "model_module": "@jupyter-widgets/controls",
      "model_module_version": "1.2.0",
      "model_name": "FloatProgressModel",
      "state": {
       "layout": "IPY_MODEL_0560df354357440193dbeb19e3434ebd",
       "max": 4,
       "style": "IPY_MODEL_3132f8ed07d04fbd8998d9108eb56025",
       "value": 4
      }
     },
     "832f894f3be14b9989a39f55983c80e9": {
      "model_module": "@jupyter-widgets/base",
      "model_module_version": "1.0.0",
      "model_name": "LayoutModel",
      "state": {}
     },
     "8347d6cc67594be5993a112eaf21d5d4": {
      "model_module": "@jupyter-widgets/controls",
      "model_module_version": "1.2.0",
      "model_name": "FloatProgressModel",
      "state": {
       "layout": "IPY_MODEL_65d917f453464e5abcb76413f0f4f2fe",
       "max": 4,
       "style": "IPY_MODEL_acbc886a085e4f68a9f1d3267664941b",
       "value": 4
      }
     },
     "837f5192004444b7a26b6e952d21099c": {
      "model_module": "@jupyter-widgets/controls",
      "model_module_version": "1.2.0",
      "model_name": "ProgressStyleModel",
      "state": {
       "description_width": ""
      }
     },
     "842ea2c0937e4249ba752ce3c35efe6c": {
      "model_module": "@jupyter-widgets/controls",
      "model_module_version": "1.2.0",
      "model_name": "ProgressStyleModel",
      "state": {
       "description_width": ""
      }
     },
     "848d077bfd06467291be3b912776a0bc": {
      "model_module": "@jupyter-widgets/base",
      "model_module_version": "1.0.0",
      "model_name": "LayoutModel",
      "state": {}
     },
     "84980654cac149c485fd1e353e543eab": {
      "model_module": "@jupyter-widgets/controls",
      "model_module_version": "1.2.0",
      "model_name": "FloatProgressModel",
      "state": {
       "layout": "IPY_MODEL_5654a96806b24c62ab447c630b8ba0b5",
       "max": 28,
       "style": "IPY_MODEL_2be66f0893744f54bd03ebc70510bd22",
       "value": 28
      }
     },
     "84b259e227424ec7937365fa59cbf281": {
      "model_module": "@jupyter-widgets/controls",
      "model_module_version": "1.2.0",
      "model_name": "FloatProgressModel",
      "state": {
       "layout": "IPY_MODEL_61651f5684144bb58a18634b2d07cecc",
       "max": 28,
       "style": "IPY_MODEL_368961ed43e14eebb6e6172b96aa5694"
      }
     },
     "85355047f18644edbf65f16fef1e00bb": {
      "model_module": "@jupyter-widgets/base",
      "model_module_version": "1.0.0",
      "model_name": "LayoutModel",
      "state": {}
     },
     "85ebe8b110b848fb92f38c49791a312e": {
      "model_module": "@jupyter-widgets/controls",
      "model_module_version": "1.2.0",
      "model_name": "FloatProgressModel",
      "state": {
       "layout": "IPY_MODEL_0383bc061fc844adb592f1334263abc9",
       "max": 4,
       "style": "IPY_MODEL_07b6d9516f194fcc8c6d9bda29876759",
       "value": 4
      }
     },
     "8662514fc6d84a7cb55ee21391fa6f1d": {
      "model_module": "@jupyter-widgets/base",
      "model_module_version": "1.0.0",
      "model_name": "LayoutModel",
      "state": {}
     },
     "87d892752c61411eb9a6fb9d1c6d0a5a": {
      "model_module": "@jupyter-widgets/controls",
      "model_module_version": "1.2.0",
      "model_name": "FloatProgressModel",
      "state": {
       "layout": "IPY_MODEL_85355047f18644edbf65f16fef1e00bb",
       "max": 4,
       "style": "IPY_MODEL_c80f20a718a642a38ead0e07c37a8eed",
       "value": 4
      }
     },
     "892c196866c344ea81efca84b2eae77d": {
      "model_module": "@jupyter-widgets/controls",
      "model_module_version": "1.2.0",
      "model_name": "ProgressStyleModel",
      "state": {
       "description_width": ""
      }
     },
     "8967187c946b42e58ff97ecfeedff90e": {
      "model_module": "@jupyter-widgets/controls",
      "model_module_version": "1.2.0",
      "model_name": "FloatProgressModel",
      "state": {
       "layout": "IPY_MODEL_c68783bfa6cb4ceabc32113511ffcb62",
       "max": 5,
       "style": "IPY_MODEL_649ff632065c4630addd1708a0ca4ad3",
       "value": 5
      }
     },
     "8aacc1c341714b569051f21ff80a5e0a": {
      "model_module": "@jupyter-widgets/controls",
      "model_module_version": "1.2.0",
      "model_name": "ProgressStyleModel",
      "state": {
       "description_width": ""
      }
     },
     "8b735c80c3664685bc4d3af06adf4ef0": {
      "model_module": "@jupyter-widgets/base",
      "model_module_version": "1.0.0",
      "model_name": "LayoutModel",
      "state": {}
     },
     "8d90db9a0a2d497fb59d8a132d668f1a": {
      "model_module": "@jupyter-widgets/controls",
      "model_module_version": "1.2.0",
      "model_name": "ProgressStyleModel",
      "state": {
       "description_width": ""
      }
     },
     "8d9d7554009944e7be756433c6c9ad95": {
      "model_module": "@jupyter-widgets/controls",
      "model_module_version": "1.2.0",
      "model_name": "ProgressStyleModel",
      "state": {
       "description_width": ""
      }
     },
     "8dbb4a78fe994e7d869b527081a9552f": {
      "model_module": "@jupyter-widgets/base",
      "model_module_version": "1.0.0",
      "model_name": "LayoutModel",
      "state": {}
     },
     "8ff1a669bf024ea99d809a5dfbc0d081": {
      "model_module": "@jupyter-widgets/controls",
      "model_module_version": "1.2.0",
      "model_name": "FloatProgressModel",
      "state": {
       "layout": "IPY_MODEL_2f804bda27d84ccdb87cb04cfb4eefdb",
       "max": 64,
       "style": "IPY_MODEL_b3e70696635649a6a5eedaf97ef609f5",
       "value": 1
      }
     },
     "8ffadfa4ad0b4401bc742f9045cb6646": {
      "model_module": "@jupyter-widgets/controls",
      "model_module_version": "1.2.0",
      "model_name": "ProgressStyleModel",
      "state": {
       "description_width": ""
      }
     },
     "90548e341a7e4b27860469759d102048": {
      "model_module": "@jupyter-widgets/base",
      "model_module_version": "1.0.0",
      "model_name": "LayoutModel",
      "state": {}
     },
     "90e7241c9582491fa2b920cf65716b38": {
      "model_module": "@jupyter-widgets/controls",
      "model_module_version": "1.2.0",
      "model_name": "FloatProgressModel",
      "state": {
       "layout": "IPY_MODEL_8b735c80c3664685bc4d3af06adf4ef0",
       "max": 5,
       "style": "IPY_MODEL_5a9e1efb7002426991dff9b0eab065a9",
       "value": 5
      }
     },
     "9215e43d5ca44a29bf51c4d1ee14d7d6": {
      "model_module": "@jupyter-widgets/controls",
      "model_module_version": "1.2.0",
      "model_name": "FloatProgressModel",
      "state": {
       "layout": "IPY_MODEL_32ec9e25f7214f4da961833dbc78a98e",
       "max": 28,
       "style": "IPY_MODEL_ca9beaeb0daf41c1bb89971f3b89aaf7",
       "value": 28
      }
     },
     "921674f62bc342d3b6f0eedaefa2ae54": {
      "model_module": "@jupyter-widgets/controls",
      "model_module_version": "1.2.0",
      "model_name": "FloatProgressModel",
      "state": {
       "layout": "IPY_MODEL_c583336c80ac486c862523974d1f9929",
       "max": 28,
       "style": "IPY_MODEL_087c5ec5c6bf4db5971e3ec9b6ed40ed",
       "value": 28
      }
     },
     "927e50e4172d419ba795358b5627d402": {
      "model_module": "@jupyter-widgets/controls",
      "model_module_version": "1.2.0",
      "model_name": "ProgressStyleModel",
      "state": {
       "description_width": ""
      }
     },
     "930e7c4bda0e440b936752797fb7202d": {
      "model_module": "@jupyter-widgets/controls",
      "model_module_version": "1.2.0",
      "model_name": "ProgressStyleModel",
      "state": {
       "description_width": ""
      }
     },
     "93f0bb6a2a954d4ba470e45efa881b9b": {
      "model_module": "@jupyter-widgets/controls",
      "model_module_version": "1.2.0",
      "model_name": "FloatProgressModel",
      "state": {
       "layout": "IPY_MODEL_331b480a9bc84f0393ae7619fa22718f",
       "max": 4,
       "style": "IPY_MODEL_7f0b1cc937624c71a84feb2f71814873"
      }
     },
     "9405c7f5fc874e2889634d5035111727": {
      "model_module": "@jupyter-widgets/base",
      "model_module_version": "1.0.0",
      "model_name": "LayoutModel",
      "state": {}
     },
     "942f68a0beb54b3c8d5f63ec517a4262": {
      "model_module": "@jupyter-widgets/controls",
      "model_module_version": "1.2.0",
      "model_name": "ProgressStyleModel",
      "state": {
       "description_width": ""
      }
     },
     "94b4510138b04dd4ace9ec4dbbf8848a": {
      "model_module": "@jupyter-widgets/controls",
      "model_module_version": "1.2.0",
      "model_name": "ProgressStyleModel",
      "state": {
       "description_width": ""
      }
     },
     "9525bb75c4b747ee949b6b723c854f60": {
      "model_module": "@jupyter-widgets/base",
      "model_module_version": "1.0.0",
      "model_name": "LayoutModel",
      "state": {}
     },
     "9656f6d5f0a24f5fb1d5bc5df7b7ddba": {
      "model_module": "@jupyter-widgets/controls",
      "model_module_version": "1.2.0",
      "model_name": "FloatProgressModel",
      "state": {
       "layout": "IPY_MODEL_7c43f0f6961a4bc6a3631fd9dced3b51",
       "max": 4,
       "style": "IPY_MODEL_0c59a1f9b39a4d7bbe486541d1714d51"
      }
     },
     "96d94d27917f4fbb8a46ff5e7056cbb8": {
      "model_module": "@jupyter-widgets/base",
      "model_module_version": "1.0.0",
      "model_name": "LayoutModel",
      "state": {}
     },
     "9753122b50ca47ec89612a08fe2e0f76": {
      "model_module": "@jupyter-widgets/controls",
      "model_module_version": "1.2.0",
      "model_name": "ProgressStyleModel",
      "state": {
       "description_width": ""
      }
     },
     "97b38861255d417ca80d3dc4c4ca9ee6": {
      "model_module": "@jupyter-widgets/base",
      "model_module_version": "1.0.0",
      "model_name": "LayoutModel",
      "state": {}
     },
     "98d85e67c7434ecf9b1185d7bf49039c": {
      "model_module": "@jupyter-widgets/controls",
      "model_module_version": "1.2.0",
      "model_name": "ProgressStyleModel",
      "state": {
       "description_width": ""
      }
     },
     "993fbf7a1bee4628be372910f3286f29": {
      "model_module": "@jupyter-widgets/controls",
      "model_module_version": "1.2.0",
      "model_name": "FloatProgressModel",
      "state": {
       "layout": "IPY_MODEL_9525bb75c4b747ee949b6b723c854f60",
       "max": 4,
       "style": "IPY_MODEL_ba49623d223c452c86eac39a1732fa37"
      }
     },
     "9ac94c0b53624b3ea7d4650e5dc02d35": {
      "model_module": "@jupyter-widgets/controls",
      "model_module_version": "1.2.0",
      "model_name": "FloatProgressModel",
      "state": {
       "layout": "IPY_MODEL_ee524ebc138f4cf394127de306b4b146",
       "max": 770,
       "style": "IPY_MODEL_70a36148d387420b8fd698fc360e23b2",
       "value": 770
      }
     },
     "9bbd7f94c95a475d8b659d34e21dd37b": {
      "model_module": "@jupyter-widgets/controls",
      "model_module_version": "1.2.0",
      "model_name": "FloatProgressModel",
      "state": {
       "layout": "IPY_MODEL_aa1815b1a7be4e4c938f44113ad84627",
       "max": 4,
       "style": "IPY_MODEL_cd33654fc2f444208d9fb6e2225dd391",
       "value": 4
      }
     },
     "9bf4e8ca229e43139e619e92b48a515c": {
      "model_module": "@jupyter-widgets/controls",
      "model_module_version": "1.2.0",
      "model_name": "ProgressStyleModel",
      "state": {
       "description_width": ""
      }
     },
     "9bf624d3178747b1a0c7e61e97e1a098": {
      "model_module": "@jupyter-widgets/controls",
      "model_module_version": "1.2.0",
      "model_name": "ProgressStyleModel",
      "state": {
       "description_width": ""
      }
     },
     "9c051a1006384cd7836aa72402b4be4b": {
      "model_module": "@jupyter-widgets/controls",
      "model_module_version": "1.2.0",
      "model_name": "ProgressStyleModel",
      "state": {
       "description_width": ""
      }
     },
     "9ce4b1f7208043819953415500391532": {
      "model_module": "@jupyter-widgets/controls",
      "model_module_version": "1.2.0",
      "model_name": "ProgressStyleModel",
      "state": {
       "description_width": ""
      }
     },
     "9d9e9aa76e634cb980f94679e478ef21": {
      "model_module": "@jupyter-widgets/base",
      "model_module_version": "1.0.0",
      "model_name": "LayoutModel",
      "state": {}
     },
     "9eb818665ef243e192b5b58ead2e265f": {
      "model_module": "@jupyter-widgets/controls",
      "model_module_version": "1.2.0",
      "model_name": "ProgressStyleModel",
      "state": {
       "description_width": ""
      }
     },
     "a1e281f1541c4cc5a59d518b3f4826c5": {
      "model_module": "@jupyter-widgets/controls",
      "model_module_version": "1.2.0",
      "model_name": "FloatProgressModel",
      "state": {
       "layout": "IPY_MODEL_379c1a58aaa64326993cb930548f9771",
       "max": 5,
       "style": "IPY_MODEL_6a6bd1f9203e4589a3e3d99ff4a4748d",
       "value": 5
      }
     },
     "a1ebca6d6cfc4089bf8ecd850ea735b1": {
      "model_module": "@jupyter-widgets/controls",
      "model_module_version": "1.2.0",
      "model_name": "FloatProgressModel",
      "state": {
       "layout": "IPY_MODEL_8255fd176f5b4961a536fb57863c99aa",
       "max": 28,
       "style": "IPY_MODEL_601b702b28c74f48bba9c6fd9febc32e",
       "value": 28
      }
     },
     "a200b6b349624b8f845deb42dfe73950": {
      "model_module": "@jupyter-widgets/base",
      "model_module_version": "1.0.0",
      "model_name": "LayoutModel",
      "state": {}
     },
     "a222e1cf2bdd44018aa5275263cf5a4d": {
      "model_module": "@jupyter-widgets/base",
      "model_module_version": "1.0.0",
      "model_name": "LayoutModel",
      "state": {}
     },
     "a2e7590635f54a21b622f96fac02ebc4": {
      "model_module": "@jupyter-widgets/controls",
      "model_module_version": "1.2.0",
      "model_name": "FloatProgressModel",
      "state": {
       "layout": "IPY_MODEL_90548e341a7e4b27860469759d102048",
       "max": 4,
       "style": "IPY_MODEL_fed12fc45df54b7ab4461d221cbfc640",
       "value": 4
      }
     },
     "a3c5734dbe5b47ebb923b3a089b36e3f": {
      "model_module": "@jupyter-widgets/controls",
      "model_module_version": "1.2.0",
      "model_name": "ProgressStyleModel",
      "state": {
       "description_width": ""
      }
     },
     "a4535c1d0c7a4a52b5c46343c4dd2c97": {
      "model_module": "@jupyter-widgets/base",
      "model_module_version": "1.0.0",
      "model_name": "LayoutModel",
      "state": {}
     },
     "a5c6ef4174994506a715889ec2973d75": {
      "model_module": "@jupyter-widgets/controls",
      "model_module_version": "1.2.0",
      "model_name": "ProgressStyleModel",
      "state": {
       "description_width": ""
      }
     },
     "a677b55c2c1840bf8b7fc653f9198503": {
      "model_module": "@jupyter-widgets/base",
      "model_module_version": "1.0.0",
      "model_name": "LayoutModel",
      "state": {}
     },
     "a7f17c7522d14ecaaa5d35b3c78b68ee": {
      "model_module": "@jupyter-widgets/controls",
      "model_module_version": "1.2.0",
      "model_name": "ProgressStyleModel",
      "state": {
       "description_width": ""
      }
     },
     "a85e0d22f9074c20bce4074a9fe025d7": {
      "model_module": "@jupyter-widgets/base",
      "model_module_version": "1.0.0",
      "model_name": "LayoutModel",
      "state": {}
     },
     "a96942d4bbc849d783c83e8bebc08b34": {
      "model_module": "@jupyter-widgets/controls",
      "model_module_version": "1.2.0",
      "model_name": "FloatProgressModel",
      "state": {
       "layout": "IPY_MODEL_c68dda42a0ac4af9b4122b47b9d5f982",
       "max": 5,
       "style": "IPY_MODEL_e2889510e55849a9829e295f9b278eed",
       "value": 5
      }
     },
     "a96b48bdfd934e67804d4136d3b1e12d": {
      "model_module": "@jupyter-widgets/controls",
      "model_module_version": "1.2.0",
      "model_name": "ProgressStyleModel",
      "state": {
       "description_width": ""
      }
     },
     "aa1815b1a7be4e4c938f44113ad84627": {
      "model_module": "@jupyter-widgets/base",
      "model_module_version": "1.0.0",
      "model_name": "LayoutModel",
      "state": {}
     },
     "ab39fc1113aa4062869747cf9d312651": {
      "model_module": "@jupyter-widgets/base",
      "model_module_version": "1.0.0",
      "model_name": "LayoutModel",
      "state": {}
     },
     "abb7d1044d5b4f1c86485a28f9be1f73": {
      "model_module": "@jupyter-widgets/base",
      "model_module_version": "1.0.0",
      "model_name": "LayoutModel",
      "state": {}
     },
     "abbc0bef1c664add87329b92392d8516": {
      "model_module": "@jupyter-widgets/controls",
      "model_module_version": "1.2.0",
      "model_name": "ProgressStyleModel",
      "state": {
       "description_width": ""
      }
     },
     "acbc886a085e4f68a9f1d3267664941b": {
      "model_module": "@jupyter-widgets/controls",
      "model_module_version": "1.2.0",
      "model_name": "ProgressStyleModel",
      "state": {
       "description_width": ""
      }
     },
     "ade8bdd443c642618ecec93a1487c3fa": {
      "model_module": "@jupyter-widgets/controls",
      "model_module_version": "1.2.0",
      "model_name": "FloatProgressModel",
      "state": {
       "layout": "IPY_MODEL_b39148c6399c4ff297298ba24fb0294d",
       "max": 4,
       "style": "IPY_MODEL_145769fec2ab4a86836183b6ceec5891",
       "value": 4
      }
     },
     "aeb090a2a68849c6b94f306dfc0a4a6f": {
      "model_module": "@jupyter-widgets/controls",
      "model_module_version": "1.2.0",
      "model_name": "FloatProgressModel",
      "state": {
       "layout": "IPY_MODEL_a222e1cf2bdd44018aa5275263cf5a4d",
       "max": 5,
       "style": "IPY_MODEL_2e232c4a2e1a43c0887dd0137e90d2dd"
      }
     },
     "af4cc2c8d58c4cecab6dcbe1f9b6f6b3": {
      "model_module": "@jupyter-widgets/controls",
      "model_module_version": "1.2.0",
      "model_name": "ProgressStyleModel",
      "state": {
       "description_width": ""
      }
     },
     "afa96855e9ec430b8985f1dc341cfd41": {
      "model_module": "@jupyter-widgets/controls",
      "model_module_version": "1.2.0",
      "model_name": "FloatProgressModel",
      "state": {
       "layout": "IPY_MODEL_c3a39ed9a6ef43b39aea17842f46c3c0",
       "max": 28,
       "style": "IPY_MODEL_c4256250f8424249a8c915e8f3e959ee",
       "value": 28
      }
     },
     "b081442096174c9297c57d266d77f285": {
      "model_module": "@jupyter-widgets/controls",
      "model_module_version": "1.2.0",
      "model_name": "FloatProgressModel",
      "state": {
       "layout": "IPY_MODEL_ef20481f607f4b11b781c8ea8aa9e9c9",
       "max": 4,
       "style": "IPY_MODEL_9ce4b1f7208043819953415500391532",
       "value": 4
      }
     },
     "b0e13d82ba0b419da32853d806638795": {
      "model_module": "@jupyter-widgets/controls",
      "model_module_version": "1.2.0",
      "model_name": "FloatProgressModel",
      "state": {
       "layout": "IPY_MODEL_e9f28e201e184e7e8769979e49424223",
       "max": 4,
       "style": "IPY_MODEL_761d9d1ec56d4bd1866edca33038451d"
      }
     },
     "b12a408f6c894ac2b85415c01d88bc23": {
      "model_module": "@jupyter-widgets/controls",
      "model_module_version": "1.2.0",
      "model_name": "ProgressStyleModel",
      "state": {
       "description_width": ""
      }
     },
     "b20e2c2473954ecd8d1a88ca9a0be950": {
      "model_module": "@jupyter-widgets/controls",
      "model_module_version": "1.2.0",
      "model_name": "FloatProgressModel",
      "state": {
       "layout": "IPY_MODEL_1872cc53ed1c4d0182fa673c5f2eae99",
       "max": 4,
       "style": "IPY_MODEL_b96a31ac9bd94f148bd683e93c722658"
      }
     },
     "b2127f4d30da4f25935c1ea1d2db47b3": {
      "model_module": "@jupyter-widgets/controls",
      "model_module_version": "1.2.0",
      "model_name": "ProgressStyleModel",
      "state": {
       "description_width": ""
      }
     },
     "b3687864027e4fe583fe106010a3cd12": {
      "model_module": "@jupyter-widgets/controls",
      "model_module_version": "1.2.0",
      "model_name": "FloatProgressModel",
      "state": {
       "layout": "IPY_MODEL_ecc79c9a25434ec5bd931c6b602da855",
       "max": 5,
       "style": "IPY_MODEL_8aacc1c341714b569051f21ff80a5e0a",
       "value": 5
      }
     },
     "b39148c6399c4ff297298ba24fb0294d": {
      "model_module": "@jupyter-widgets/base",
      "model_module_version": "1.0.0",
      "model_name": "LayoutModel",
      "state": {}
     },
     "b3e70696635649a6a5eedaf97ef609f5": {
      "model_module": "@jupyter-widgets/controls",
      "model_module_version": "1.2.0",
      "model_name": "ProgressStyleModel",
      "state": {
       "description_width": ""
      }
     },
     "b48cf545a6ad4d02a84bc3f1a536bacc": {
      "model_module": "@jupyter-widgets/base",
      "model_module_version": "1.0.0",
      "model_name": "LayoutModel",
      "state": {}
     },
     "b55a87e43c6f41388dc32ca4f250541a": {
      "model_module": "@jupyter-widgets/base",
      "model_module_version": "1.0.0",
      "model_name": "LayoutModel",
      "state": {}
     },
     "b6572f2c81994b2e86b3e219ae9fd794": {
      "model_module": "@jupyter-widgets/controls",
      "model_module_version": "1.2.0",
      "model_name": "FloatProgressModel",
      "state": {
       "layout": "IPY_MODEL_033d3e68c16446e8a06c1ff093dc4100",
       "max": 5,
       "style": "IPY_MODEL_75a7ca5d67994edb93c59f9a6267ccad",
       "value": 5
      }
     },
     "b7320a07ba514c39b18edc04f56ad180": {
      "model_module": "@jupyter-widgets/controls",
      "model_module_version": "1.2.0",
      "model_name": "ProgressStyleModel",
      "state": {
       "description_width": ""
      }
     },
     "b75e512f20cc4b5192bc236ee5132bc2": {
      "model_module": "@jupyter-widgets/controls",
      "model_module_version": "1.2.0",
      "model_name": "FloatProgressModel",
      "state": {
       "layout": "IPY_MODEL_61bcdaaf6cce4eea9aaca8d9ed019e6d",
       "max": 28,
       "style": "IPY_MODEL_a96b48bdfd934e67804d4136d3b1e12d"
      }
     },
     "b96a31ac9bd94f148bd683e93c722658": {
      "model_module": "@jupyter-widgets/controls",
      "model_module_version": "1.2.0",
      "model_name": "ProgressStyleModel",
      "state": {
       "description_width": ""
      }
     },
     "b9b8a2d97e0f4f70b4e990e8832338d5": {
      "model_module": "@jupyter-widgets/controls",
      "model_module_version": "1.2.0",
      "model_name": "ProgressStyleModel",
      "state": {
       "description_width": ""
      }
     },
     "ba49623d223c452c86eac39a1732fa37": {
      "model_module": "@jupyter-widgets/controls",
      "model_module_version": "1.2.0",
      "model_name": "ProgressStyleModel",
      "state": {
       "description_width": ""
      }
     },
     "bb0543beb5e140558e9662a2e3cdc2e5": {
      "model_module": "@jupyter-widgets/controls",
      "model_module_version": "1.2.0",
      "model_name": "FloatProgressModel",
      "state": {
       "layout": "IPY_MODEL_75fc34a428f348f09baa33dbec655dd7",
       "max": 28,
       "style": "IPY_MODEL_b9b8a2d97e0f4f70b4e990e8832338d5",
       "value": 28
      }
     },
     "bb739139f44d4987822a6f2ccff6d95b": {
      "model_module": "@jupyter-widgets/controls",
      "model_module_version": "1.2.0",
      "model_name": "FloatProgressModel",
      "state": {
       "layout": "IPY_MODEL_3f9f40058ca6475683e2d065a55642ce",
       "max": 4,
       "style": "IPY_MODEL_3e055fe3ef5a4c818dc00ad48448a42f",
       "value": 4
      }
     },
     "bb7f9fbfe6494fcaa1ec6f2a980b7b0f": {
      "model_module": "@jupyter-widgets/controls",
      "model_module_version": "1.2.0",
      "model_name": "ProgressStyleModel",
      "state": {
       "description_width": ""
      }
     },
     "bbb6902c17e940caa570f05b91c6ac4c": {
      "model_module": "@jupyter-widgets/controls",
      "model_module_version": "1.2.0",
      "model_name": "ProgressStyleModel",
      "state": {
       "description_width": ""
      }
     },
     "bbc686de1dbd45d78ab120d590f83b91": {
      "model_module": "@jupyter-widgets/controls",
      "model_module_version": "1.2.0",
      "model_name": "ProgressStyleModel",
      "state": {
       "description_width": ""
      }
     },
     "bc028a1ae7414dcda1f1f66ef9ca4ac7": {
      "model_module": "@jupyter-widgets/base",
      "model_module_version": "1.0.0",
      "model_name": "LayoutModel",
      "state": {}
     },
     "bc25df385862435b9bafdfbcc87e5a96": {
      "model_module": "@jupyter-widgets/controls",
      "model_module_version": "1.2.0",
      "model_name": "ProgressStyleModel",
      "state": {
       "description_width": ""
      }
     },
     "bcba4e7656d44e7db6797e57858b7a17": {
      "model_module": "@jupyter-widgets/controls",
      "model_module_version": "1.2.0",
      "model_name": "FloatProgressModel",
      "state": {
       "layout": "IPY_MODEL_29169a3b53f94abc8ae44b16595ac0fb",
       "max": 4,
       "style": "IPY_MODEL_67c2bb5721f3463b89934e72a4fcde2c",
       "value": 4
      }
     },
     "bdf2d4974bbc4625bbb4b31ae6789f42": {
      "model_module": "@jupyter-widgets/base",
      "model_module_version": "1.0.0",
      "model_name": "LayoutModel",
      "state": {}
     },
     "bea3628bd3f34637bbc8eff9813be468": {
      "model_module": "@jupyter-widgets/controls",
      "model_module_version": "1.2.0",
      "model_name": "ProgressStyleModel",
      "state": {
       "description_width": ""
      }
     },
     "bea40831dc6e499ea99a4691ee826da2": {
      "model_module": "@jupyter-widgets/controls",
      "model_module_version": "1.2.0",
      "model_name": "FloatProgressModel",
      "state": {
       "layout": "IPY_MODEL_146380d566674a8a9a4b7d685e80130d",
       "max": 5,
       "style": "IPY_MODEL_af4cc2c8d58c4cecab6dcbe1f9b6f6b3",
       "value": 5
      }
     },
     "bf496a07015042c0bc5dfccb56b78e06": {
      "model_module": "@jupyter-widgets/controls",
      "model_module_version": "1.2.0",
      "model_name": "ProgressStyleModel",
      "state": {
       "description_width": ""
      }
     },
     "bf51c8191bd445e2bd59e7bb351071a8": {
      "model_module": "@jupyter-widgets/controls",
      "model_module_version": "1.2.0",
      "model_name": "FloatProgressModel",
      "state": {
       "layout": "IPY_MODEL_6d32d6f0aa3c464189ce69acc16d6658",
       "max": 4,
       "style": "IPY_MODEL_ee068428452a48c4904fc372b023d026",
       "value": 4
      }
     },
     "bf5541cc7d1140fc811f49a33d5d46ea": {
      "model_module": "@jupyter-widgets/controls",
      "model_module_version": "1.2.0",
      "model_name": "ProgressStyleModel",
      "state": {
       "description_width": ""
      }
     },
     "bfafd50a424744219b9507fbc83f9c1c": {
      "model_module": "@jupyter-widgets/base",
      "model_module_version": "1.0.0",
      "model_name": "LayoutModel",
      "state": {}
     },
     "bfeb578f90b0412c990efbc75ec48b21": {
      "model_module": "@jupyter-widgets/base",
      "model_module_version": "1.0.0",
      "model_name": "LayoutModel",
      "state": {}
     },
     "c0e1ab959b9b4363832fe1fe13347507": {
      "model_module": "@jupyter-widgets/controls",
      "model_module_version": "1.2.0",
      "model_name": "FloatProgressModel",
      "state": {
       "layout": "IPY_MODEL_d4110758cad04a92bb4cf97d22773aef",
       "max": 4,
       "style": "IPY_MODEL_bf5541cc7d1140fc811f49a33d5d46ea"
      }
     },
     "c1412e0f7a054dcf8989887950e533fe": {
      "model_module": "@jupyter-widgets/controls",
      "model_module_version": "1.2.0",
      "model_name": "FloatProgressModel",
      "state": {
       "layout": "IPY_MODEL_d4b5c6aa68234375bd1bc843af607de3",
       "max": 5,
       "style": "IPY_MODEL_1cadd618a54d4707a617118ff7b4b91e"
      }
     },
     "c177cd0b9a8143118fb080db154c3c0e": {
      "model_module": "@jupyter-widgets/controls",
      "model_module_version": "1.2.0",
      "model_name": "ProgressStyleModel",
      "state": {
       "description_width": ""
      }
     },
     "c263d16cd57444de8ce620c6e188ec3f": {
      "model_module": "@jupyter-widgets/base",
      "model_module_version": "1.0.0",
      "model_name": "LayoutModel",
      "state": {}
     },
     "c33ee2487cdc4b98b60eba054c352e30": {
      "model_module": "@jupyter-widgets/controls",
      "model_module_version": "1.2.0",
      "model_name": "FloatProgressModel",
      "state": {
       "layout": "IPY_MODEL_8662514fc6d84a7cb55ee21391fa6f1d",
       "max": 5,
       "style": "IPY_MODEL_e8f5522ffa3b4891830d766cb914a5a7",
       "value": 5
      }
     },
     "c3a39ed9a6ef43b39aea17842f46c3c0": {
      "model_module": "@jupyter-widgets/base",
      "model_module_version": "1.0.0",
      "model_name": "LayoutModel",
      "state": {}
     },
     "c3c676db8b3f45fea361efcca684d251": {
      "model_module": "@jupyter-widgets/controls",
      "model_module_version": "1.2.0",
      "model_name": "ProgressStyleModel",
      "state": {
       "description_width": ""
      }
     },
     "c3cb26ddf0754e6da52b50d9c2674cdb": {
      "model_module": "@jupyter-widgets/controls",
      "model_module_version": "1.2.0",
      "model_name": "FloatProgressModel",
      "state": {
       "layout": "IPY_MODEL_fb1657b1179c4d66ab1fe4334bf3e424",
       "max": 4,
       "style": "IPY_MODEL_cda67927f19c42e68fd74081a0dc9810",
       "value": 4
      }
     },
     "c4256250f8424249a8c915e8f3e959ee": {
      "model_module": "@jupyter-widgets/controls",
      "model_module_version": "1.2.0",
      "model_name": "ProgressStyleModel",
      "state": {
       "description_width": ""
      }
     },
     "c466f2d5e7304f82b3d66521d9fceab5": {
      "model_module": "@jupyter-widgets/controls",
      "model_module_version": "1.2.0",
      "model_name": "ProgressStyleModel",
      "state": {
       "description_width": ""
      }
     },
     "c54e315ae9154e5095c576dffd0c9538": {
      "model_module": "@jupyter-widgets/controls",
      "model_module_version": "1.2.0",
      "model_name": "ProgressStyleModel",
      "state": {
       "description_width": ""
      }
     },
     "c583336c80ac486c862523974d1f9929": {
      "model_module": "@jupyter-widgets/base",
      "model_module_version": "1.0.0",
      "model_name": "LayoutModel",
      "state": {}
     },
     "c68783bfa6cb4ceabc32113511ffcb62": {
      "model_module": "@jupyter-widgets/base",
      "model_module_version": "1.0.0",
      "model_name": "LayoutModel",
      "state": {}
     },
     "c68dda42a0ac4af9b4122b47b9d5f982": {
      "model_module": "@jupyter-widgets/base",
      "model_module_version": "1.0.0",
      "model_name": "LayoutModel",
      "state": {}
     },
     "c6c7bfa2620f4102ac34a5a869f8fbf2": {
      "model_module": "@jupyter-widgets/controls",
      "model_module_version": "1.2.0",
      "model_name": "ProgressStyleModel",
      "state": {
       "description_width": ""
      }
     },
     "c80f20a718a642a38ead0e07c37a8eed": {
      "model_module": "@jupyter-widgets/controls",
      "model_module_version": "1.2.0",
      "model_name": "ProgressStyleModel",
      "state": {
       "description_width": ""
      }
     },
     "c88cb8f4264f4a63b4a0be09c7ceed98": {
      "model_module": "@jupyter-widgets/controls",
      "model_module_version": "1.2.0",
      "model_name": "FloatProgressModel",
      "state": {
       "layout": "IPY_MODEL_abb7d1044d5b4f1c86485a28f9be1f73",
       "max": 4,
       "style": "IPY_MODEL_8d9d7554009944e7be756433c6c9ad95",
       "value": 4
      }
     },
     "c8f1bbff32134f04906d4cf91d176cc3": {
      "model_module": "@jupyter-widgets/base",
      "model_module_version": "1.0.0",
      "model_name": "LayoutModel",
      "state": {}
     },
     "c984abe413ae467d8b5c7603d25b1feb": {
      "model_module": "@jupyter-widgets/controls",
      "model_module_version": "1.2.0",
      "model_name": "ProgressStyleModel",
      "state": {
       "description_width": ""
      }
     },
     "c9f3b7b8621c48599374835999fbb602": {
      "model_module": "@jupyter-widgets/controls",
      "model_module_version": "1.2.0",
      "model_name": "FloatProgressModel",
      "state": {
       "layout": "IPY_MODEL_8dbb4a78fe994e7d869b527081a9552f",
       "max": 4,
       "style": "IPY_MODEL_f1092cbd40f84d5bbf422d42c24adcbe",
       "value": 4
      }
     },
     "ca4d3a37c79640c2ac21dedd07c58de3": {
      "model_module": "@jupyter-widgets/controls",
      "model_module_version": "1.2.0",
      "model_name": "ProgressStyleModel",
      "state": {
       "description_width": ""
      }
     },
     "ca9beaeb0daf41c1bb89971f3b89aaf7": {
      "model_module": "@jupyter-widgets/controls",
      "model_module_version": "1.2.0",
      "model_name": "ProgressStyleModel",
      "state": {
       "description_width": ""
      }
     },
     "cadd82be2b0b46498a363c0781824ce9": {
      "model_module": "@jupyter-widgets/controls",
      "model_module_version": "1.2.0",
      "model_name": "FloatProgressModel",
      "state": {
       "layout": "IPY_MODEL_f1bb2aab1f57495f9c2b049895f74335",
       "max": 28,
       "style": "IPY_MODEL_820bf288937c415aa2e52bcb26992686",
       "value": 28
      }
     },
     "cb7a0c1732e244dc98e79d98ffe7d044": {
      "model_module": "@jupyter-widgets/base",
      "model_module_version": "1.0.0",
      "model_name": "LayoutModel",
      "state": {}
     },
     "cbdf89b924ec42ebadc571228baf16c8": {
      "model_module": "@jupyter-widgets/controls",
      "model_module_version": "1.2.0",
      "model_name": "ProgressStyleModel",
      "state": {
       "description_width": ""
      }
     },
     "cc8c427055674e5d821a222ef282e1ea": {
      "model_module": "@jupyter-widgets/controls",
      "model_module_version": "1.2.0",
      "model_name": "FloatProgressModel",
      "state": {
       "layout": "IPY_MODEL_e8ae374b60934e9a909a4b135774dca3",
       "max": 28,
       "style": "IPY_MODEL_a5c6ef4174994506a715889ec2973d75",
       "value": 28
      }
     },
     "ccd40a63663743be92a01c11d8f1868e": {
      "model_module": "@jupyter-widgets/controls",
      "model_module_version": "1.2.0",
      "model_name": "FloatProgressModel",
      "state": {
       "layout": "IPY_MODEL_3952bf3c6ce74517abd09435755c3656",
       "max": 5,
       "style": "IPY_MODEL_7e85568758b24fc3a6f5025ba2aba92a",
       "value": 5
      }
     },
     "cd33654fc2f444208d9fb6e2225dd391": {
      "model_module": "@jupyter-widgets/controls",
      "model_module_version": "1.2.0",
      "model_name": "ProgressStyleModel",
      "state": {
       "description_width": ""
      }
     },
     "cd91805cb98b495bbe0981f964516449": {
      "model_module": "@jupyter-widgets/controls",
      "model_module_version": "1.2.0",
      "model_name": "ProgressStyleModel",
      "state": {
       "description_width": ""
      }
     },
     "cda67927f19c42e68fd74081a0dc9810": {
      "model_module": "@jupyter-widgets/controls",
      "model_module_version": "1.2.0",
      "model_name": "ProgressStyleModel",
      "state": {
       "description_width": ""
      }
     },
     "cdb7312b373c403a9c363d5aafdc767d": {
      "model_module": "@jupyter-widgets/controls",
      "model_module_version": "1.2.0",
      "model_name": "FloatProgressModel",
      "state": {
       "layout": "IPY_MODEL_21d1cbb301504af4b087654cce317d32",
       "max": 28,
       "style": "IPY_MODEL_1e99baf7a4a24c32aecb9ad637075067"
      }
     },
     "cdcb4bcf175f40489bb393a7c9fce9e5": {
      "model_module": "@jupyter-widgets/controls",
      "model_module_version": "1.2.0",
      "model_name": "ProgressStyleModel",
      "state": {
       "description_width": ""
      }
     },
     "d025c1ef63f14fdead901e3be36ba923": {
      "model_module": "@jupyter-widgets/base",
      "model_module_version": "1.0.0",
      "model_name": "LayoutModel",
      "state": {}
     },
     "d09626345aab425f87a092fb649e9462": {
      "model_module": "@jupyter-widgets/controls",
      "model_module_version": "1.2.0",
      "model_name": "FloatProgressModel",
      "state": {
       "layout": "IPY_MODEL_0486cc3f73ba4803948a78a224a1d113",
       "max": 4,
       "style": "IPY_MODEL_5d6be6399bbc44ec87513c3147e50b97"
      }
     },
     "d1e9047888bc4644a7ae8e16b15afe34": {
      "model_module": "@jupyter-widgets/base",
      "model_module_version": "1.0.0",
      "model_name": "LayoutModel",
      "state": {}
     },
     "d4071afd268e457baad6f5e41bd9fecb": {
      "model_module": "@jupyter-widgets/controls",
      "model_module_version": "1.2.0",
      "model_name": "ProgressStyleModel",
      "state": {
       "description_width": ""
      }
     },
     "d4110758cad04a92bb4cf97d22773aef": {
      "model_module": "@jupyter-widgets/base",
      "model_module_version": "1.0.0",
      "model_name": "LayoutModel",
      "state": {}
     },
     "d41a3fdecfaf4483a88177499bdbc305": {
      "model_module": "@jupyter-widgets/base",
      "model_module_version": "1.0.0",
      "model_name": "LayoutModel",
      "state": {}
     },
     "d42844ad2d2040dbb7433bc6999e03ef": {
      "model_module": "@jupyter-widgets/controls",
      "model_module_version": "1.2.0",
      "model_name": "ProgressStyleModel",
      "state": {
       "description_width": ""
      }
     },
     "d44d8a725b66418583ed9c057b923991": {
      "model_module": "@jupyter-widgets/base",
      "model_module_version": "1.0.0",
      "model_name": "LayoutModel",
      "state": {}
     },
     "d458cb1480e948929abf9d1d7b859cbc": {
      "model_module": "@jupyter-widgets/controls",
      "model_module_version": "1.2.0",
      "model_name": "ProgressStyleModel",
      "state": {
       "description_width": ""
      }
     },
     "d48afb2bb35f49e8b5bad97bfa56ff80": {
      "model_module": "@jupyter-widgets/controls",
      "model_module_version": "1.2.0",
      "model_name": "ProgressStyleModel",
      "state": {
       "description_width": ""
      }
     },
     "d4b5c6aa68234375bd1bc843af607de3": {
      "model_module": "@jupyter-widgets/base",
      "model_module_version": "1.0.0",
      "model_name": "LayoutModel",
      "state": {}
     },
     "d5515b9b19874d7eac98ff3cd812ae44": {
      "model_module": "@jupyter-widgets/base",
      "model_module_version": "1.0.0",
      "model_name": "LayoutModel",
      "state": {}
     },
     "d692164e2a8e41f199ce4e63245b4820": {
      "model_module": "@jupyter-widgets/base",
      "model_module_version": "1.0.0",
      "model_name": "LayoutModel",
      "state": {}
     },
     "d83f7e7439d54310acbaab9b4cb4538e": {
      "model_module": "@jupyter-widgets/controls",
      "model_module_version": "1.2.0",
      "model_name": "FloatProgressModel",
      "state": {
       "layout": "IPY_MODEL_97b38861255d417ca80d3dc4c4ca9ee6",
       "max": 5,
       "style": "IPY_MODEL_34cee06982f8415ca6f9b68f2887441a",
       "value": 5
      }
     },
     "da2d413bbde848f38b4fd7cc28adb5e8": {
      "model_module": "@jupyter-widgets/controls",
      "model_module_version": "1.2.0",
      "model_name": "ProgressStyleModel",
      "state": {
       "description_width": ""
      }
     },
     "dbec68ef0f87443fa7a99cb3940c6169": {
      "model_module": "@jupyter-widgets/controls",
      "model_module_version": "1.2.0",
      "model_name": "ProgressStyleModel",
      "state": {
       "description_width": ""
      }
     },
     "dcd8c8582a5b445b8baa02c1babed3f1": {
      "model_module": "@jupyter-widgets/controls",
      "model_module_version": "1.2.0",
      "model_name": "FloatProgressModel",
      "state": {
       "layout": "IPY_MODEL_d41a3fdecfaf4483a88177499bdbc305",
       "max": 4,
       "style": "IPY_MODEL_3214a711f4da4c86b0feed4fc6f6766c",
       "value": 4
      }
     },
     "de73c65852ae45e980090a0f5aad3516": {
      "model_module": "@jupyter-widgets/controls",
      "model_module_version": "1.2.0",
      "model_name": "ProgressStyleModel",
      "state": {
       "description_width": ""
      }
     },
     "de9558a2b01c4d8ebf0d90fcef3c6d0b": {
      "model_module": "@jupyter-widgets/base",
      "model_module_version": "1.0.0",
      "model_name": "LayoutModel",
      "state": {}
     },
     "e0681cebd4834bd3ba779e2b6db4baf5": {
      "model_module": "@jupyter-widgets/controls",
      "model_module_version": "1.2.0",
      "model_name": "FloatProgressModel",
      "state": {
       "layout": "IPY_MODEL_bfafd50a424744219b9507fbc83f9c1c",
       "max": 28,
       "style": "IPY_MODEL_49c8f395bd1d4c488b66013058cd81a1",
       "value": 28
      }
     },
     "e1b84378f44d4cf9ace84cb68675e535": {
      "model_module": "@jupyter-widgets/controls",
      "model_module_version": "1.2.0",
      "model_name": "FloatProgressModel",
      "state": {
       "layout": "IPY_MODEL_96d94d27917f4fbb8a46ff5e7056cbb8",
       "max": 28,
       "style": "IPY_MODEL_1102e1bb69724efeb38e279c966c2ce6",
       "value": 28
      }
     },
     "e27fe91db5e4400da07f4475daeadf0d": {
      "model_module": "@jupyter-widgets/controls",
      "model_module_version": "1.2.0",
      "model_name": "FloatProgressModel",
      "state": {
       "layout": "IPY_MODEL_3ff242fd09024e108789cb32dbf2d2b4",
       "max": 4,
       "style": "IPY_MODEL_32ff49f6f59740188639ccd72b0bd811",
       "value": 4
      }
     },
     "e2889510e55849a9829e295f9b278eed": {
      "model_module": "@jupyter-widgets/controls",
      "model_module_version": "1.2.0",
      "model_name": "ProgressStyleModel",
      "state": {
       "description_width": ""
      }
     },
     "e2dd48ee9a1a44029ee0edd68cd2921d": {
      "model_module": "@jupyter-widgets/controls",
      "model_module_version": "1.2.0",
      "model_name": "ProgressStyleModel",
      "state": {
       "description_width": ""
      }
     },
     "e3c68da6a9e2489781d690c903de020c": {
      "model_module": "@jupyter-widgets/controls",
      "model_module_version": "1.2.0",
      "model_name": "ProgressStyleModel",
      "state": {
       "description_width": ""
      }
     },
     "e3f99961753f4b4e8cafa44c40562d11": {
      "model_module": "@jupyter-widgets/base",
      "model_module_version": "1.0.0",
      "model_name": "LayoutModel",
      "state": {}
     },
     "e6a44c43e7634e9684d17a7b5e1cb8bb": {
      "model_module": "@jupyter-widgets/controls",
      "model_module_version": "1.2.0",
      "model_name": "FloatProgressModel",
      "state": {
       "layout": "IPY_MODEL_67ccccc7b4224a7099884024decdf800",
       "max": 4,
       "style": "IPY_MODEL_d42844ad2d2040dbb7433bc6999e03ef",
       "value": 4
      }
     },
     "e8ae374b60934e9a909a4b135774dca3": {
      "model_module": "@jupyter-widgets/base",
      "model_module_version": "1.0.0",
      "model_name": "LayoutModel",
      "state": {}
     },
     "e8f5522ffa3b4891830d766cb914a5a7": {
      "model_module": "@jupyter-widgets/controls",
      "model_module_version": "1.2.0",
      "model_name": "ProgressStyleModel",
      "state": {
       "description_width": ""
      }
     },
     "e945186c150c4d8ab86d2b6b9b0cef1d": {
      "model_module": "@jupyter-widgets/controls",
      "model_module_version": "1.2.0",
      "model_name": "FloatProgressModel",
      "state": {
       "layout": "IPY_MODEL_b55a87e43c6f41388dc32ca4f250541a",
       "max": 4,
       "style": "IPY_MODEL_3637767c637b44868c78c9cb03525100",
       "value": 4
      }
     },
     "e9a56f2ac7114146913c598afcf4d6c7": {
      "model_module": "@jupyter-widgets/base",
      "model_module_version": "1.0.0",
      "model_name": "LayoutModel",
      "state": {}
     },
     "e9f28e201e184e7e8769979e49424223": {
      "model_module": "@jupyter-widgets/base",
      "model_module_version": "1.0.0",
      "model_name": "LayoutModel",
      "state": {}
     },
     "ea093a953c0849b89a69aa0f40bdb2e5": {
      "model_module": "@jupyter-widgets/base",
      "model_module_version": "1.0.0",
      "model_name": "LayoutModel",
      "state": {}
     },
     "ecc79c9a25434ec5bd931c6b602da855": {
      "model_module": "@jupyter-widgets/base",
      "model_module_version": "1.0.0",
      "model_name": "LayoutModel",
      "state": {}
     },
     "ed074a214753454ba2f358f027d00a65": {
      "model_module": "@jupyter-widgets/controls",
      "model_module_version": "1.2.0",
      "model_name": "ProgressStyleModel",
      "state": {
       "description_width": ""
      }
     },
     "ed13b835d7ec40ef82684893b9fd9c46": {
      "model_module": "@jupyter-widgets/controls",
      "model_module_version": "1.2.0",
      "model_name": "ProgressStyleModel",
      "state": {
       "description_width": ""
      }
     },
     "ed835d94f3e144a583342164a7a5bc85": {
      "model_module": "@jupyter-widgets/base",
      "model_module_version": "1.0.0",
      "model_name": "LayoutModel",
      "state": {}
     },
     "edb20574eb2d4fa997357dc7ded6d6c0": {
      "model_module": "@jupyter-widgets/controls",
      "model_module_version": "1.2.0",
      "model_name": "FloatProgressModel",
      "state": {
       "layout": "IPY_MODEL_41dc35878af44d338167146257697767",
       "max": 28,
       "style": "IPY_MODEL_05b0bce515f04945980b02386c0c4da0"
      }
     },
     "ee068428452a48c4904fc372b023d026": {
      "model_module": "@jupyter-widgets/controls",
      "model_module_version": "1.2.0",
      "model_name": "ProgressStyleModel",
      "state": {
       "description_width": ""
      }
     },
     "ee477329b5df424299ab58271657b2eb": {
      "model_module": "@jupyter-widgets/controls",
      "model_module_version": "1.2.0",
      "model_name": "FloatProgressModel",
      "state": {
       "layout": "IPY_MODEL_75d5a058a252496ca6c65fcb511be053",
       "max": 4,
       "style": "IPY_MODEL_b7320a07ba514c39b18edc04f56ad180",
       "value": 4
      }
     },
     "ee524ebc138f4cf394127de306b4b146": {
      "model_module": "@jupyter-widgets/base",
      "model_module_version": "1.0.0",
      "model_name": "LayoutModel",
      "state": {}
     },
     "ef1fa1ba42c64394bedc0d37ab70e71e": {
      "model_module": "@jupyter-widgets/base",
      "model_module_version": "1.0.0",
      "model_name": "LayoutModel",
      "state": {}
     },
     "ef20481f607f4b11b781c8ea8aa9e9c9": {
      "model_module": "@jupyter-widgets/base",
      "model_module_version": "1.0.0",
      "model_name": "LayoutModel",
      "state": {}
     },
     "ef564c303e3f4e68893cfde701e0eade": {
      "model_module": "@jupyter-widgets/controls",
      "model_module_version": "1.2.0",
      "model_name": "ProgressStyleModel",
      "state": {
       "description_width": ""
      }
     },
     "effd099f56fe46d28f3a78b96e92de5b": {
      "model_module": "@jupyter-widgets/controls",
      "model_module_version": "1.2.0",
      "model_name": "FloatProgressModel",
      "state": {
       "layout": "IPY_MODEL_0e709b1538364b0f9756146c475c3d9d",
       "max": 4,
       "style": "IPY_MODEL_c6c7bfa2620f4102ac34a5a869f8fbf2",
       "value": 4
      }
     },
     "f0f814539fcc4c64a343395f20b929d9": {
      "model_module": "@jupyter-widgets/controls",
      "model_module_version": "1.2.0",
      "model_name": "FloatProgressModel",
      "state": {
       "layout": "IPY_MODEL_f22f5daf68dd4578b8ebe5ceb30f8139",
       "max": 22,
       "style": "IPY_MODEL_9bf4e8ca229e43139e619e92b48a515c",
       "value": 22
      }
     },
     "f1092cbd40f84d5bbf422d42c24adcbe": {
      "model_module": "@jupyter-widgets/controls",
      "model_module_version": "1.2.0",
      "model_name": "ProgressStyleModel",
      "state": {
       "description_width": ""
      }
     },
     "f1a2a09f623847649cc189a7052f51d0": {
      "model_module": "@jupyter-widgets/controls",
      "model_module_version": "1.2.0",
      "model_name": "FloatProgressModel",
      "state": {
       "layout": "IPY_MODEL_59dcead23b9e472fbc61c78d85a5d594",
       "max": 4,
       "style": "IPY_MODEL_a7f17c7522d14ecaaa5d35b3c78b68ee",
       "value": 4
      }
     },
     "f1bb2aab1f57495f9c2b049895f74335": {
      "model_module": "@jupyter-widgets/base",
      "model_module_version": "1.0.0",
      "model_name": "LayoutModel",
      "state": {}
     },
     "f1c14e7eee9b4b2bacaf83ef868c8383": {
      "model_module": "@jupyter-widgets/base",
      "model_module_version": "1.0.0",
      "model_name": "LayoutModel",
      "state": {}
     },
     "f22f5daf68dd4578b8ebe5ceb30f8139": {
      "model_module": "@jupyter-widgets/base",
      "model_module_version": "1.0.0",
      "model_name": "LayoutModel",
      "state": {}
     },
     "f39baea8552f4dabbecbe69c48763be1": {
      "model_module": "@jupyter-widgets/base",
      "model_module_version": "1.0.0",
      "model_name": "LayoutModel",
      "state": {}
     },
     "f6c2a6e34c6d46eca4676b2719442c66": {
      "model_module": "@jupyter-widgets/controls",
      "model_module_version": "1.2.0",
      "model_name": "FloatProgressModel",
      "state": {
       "layout": "IPY_MODEL_04413cf8fd4742238443e98a79d41099",
       "max": 4,
       "style": "IPY_MODEL_abbc0bef1c664add87329b92392d8516",
       "value": 4
      }
     },
     "f73ae75156594e89a5d588d1bfd01d35": {
      "model_module": "@jupyter-widgets/controls",
      "model_module_version": "1.2.0",
      "model_name": "ProgressStyleModel",
      "state": {
       "description_width": ""
      }
     },
     "f77e3d98fad147be9c76bff2f1ed404c": {
      "model_module": "@jupyter-widgets/controls",
      "model_module_version": "1.2.0",
      "model_name": "ProgressStyleModel",
      "state": {
       "description_width": ""
      }
     },
     "f7970672b90a44498d3186218b6455ec": {
      "model_module": "@jupyter-widgets/controls",
      "model_module_version": "1.2.0",
      "model_name": "FloatProgressModel",
      "state": {
       "layout": "IPY_MODEL_9405c7f5fc874e2889634d5035111727",
       "max": 28,
       "style": "IPY_MODEL_1af2401c89b543d582517673aeb0f3e1",
       "value": 28
      }
     },
     "fb1657b1179c4d66ab1fe4334bf3e424": {
      "model_module": "@jupyter-widgets/base",
      "model_module_version": "1.0.0",
      "model_name": "LayoutModel",
      "state": {}
     },
     "fbd186349cfa4b7d85224925f7a0a75a": {
      "model_module": "@jupyter-widgets/controls",
      "model_module_version": "1.2.0",
      "model_name": "ProgressStyleModel",
      "state": {
       "description_width": ""
      }
     },
     "fce9119ddc7d4716a25d2d7d0059e918": {
      "model_module": "@jupyter-widgets/base",
      "model_module_version": "1.0.0",
      "model_name": "LayoutModel",
      "state": {}
     },
     "fd32bfa37080403c94ff727da94495c1": {
      "model_module": "@jupyter-widgets/controls",
      "model_module_version": "1.2.0",
      "model_name": "ProgressStyleModel",
      "state": {
       "description_width": ""
      }
     },
     "fd33973bf1b745b59bfe9be134355654": {
      "model_module": "@jupyter-widgets/controls",
      "model_module_version": "1.2.0",
      "model_name": "FloatProgressModel",
      "state": {
       "layout": "IPY_MODEL_58a8a8c5125242dc9487e97e7a2a7f75",
       "max": 28,
       "style": "IPY_MODEL_0d52c5de8fcc41b68effb1465b9e3662",
       "value": 28
      }
     },
     "fd8635fe6da4431badc84381b8b88d64": {
      "model_module": "@jupyter-widgets/base",
      "model_module_version": "1.0.0",
      "model_name": "LayoutModel",
      "state": {}
     },
     "febc7c065eca438384f55fbf4731339b": {
      "model_module": "@jupyter-widgets/controls",
      "model_module_version": "1.2.0",
      "model_name": "FloatProgressModel",
      "state": {
       "layout": "IPY_MODEL_57c7015b53eb4d9c94fb0729f42be186",
       "max": 4,
       "style": "IPY_MODEL_9c051a1006384cd7836aa72402b4be4b"
      }
     },
     "fed12fc45df54b7ab4461d221cbfc640": {
      "model_module": "@jupyter-widgets/controls",
      "model_module_version": "1.2.0",
      "model_name": "ProgressStyleModel",
      "state": {
       "description_width": ""
      }
     },
     "ff353e6299a54a318409b41a13bc6478": {
      "model_module": "@jupyter-widgets/controls",
      "model_module_version": "1.2.0",
      "model_name": "FloatProgressModel",
      "state": {
       "layout": "IPY_MODEL_76017457ff5b4d539e089a4331b4d5fc",
       "max": 4,
       "style": "IPY_MODEL_24fc669a2b6e44cbb36ede86e3495f9f",
       "value": 4
      }
     },
     "fff9a529d7324d5b967a6026b49366f1": {
      "model_module": "@jupyter-widgets/controls",
      "model_module_version": "1.2.0",
      "model_name": "ProgressStyleModel",
      "state": {
       "description_width": ""
      }
     }
    },
    "version_major": 2,
    "version_minor": 0
   }
  }
 },
 "nbformat": 4,
 "nbformat_minor": 2
}
